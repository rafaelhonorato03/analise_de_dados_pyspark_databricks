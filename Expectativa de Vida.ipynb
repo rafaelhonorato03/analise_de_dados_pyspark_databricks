{
 "cells": [
  {
   "cell_type": "code",
   "execution_count": 0,
   "metadata": {
    "application/vnd.databricks.v1+cell": {
     "cellMetadata": {
      "byteLimit": 2048000,
      "rowLimit": 10000
     },
     "inputWidgets": {},
     "nuid": "9c1c3f36-c601-4a9e-8995-16deee0d4ab9",
     "showTitle": false,
     "tableResultSettingsMap": {},
     "title": ""
    }
   },
   "outputs": [],
   "source": [
    "df = spark.table(\"life_expectancy_csv\")"
   ]
  },
  {
   "cell_type": "code",
   "execution_count": 0,
   "metadata": {
    "application/vnd.databricks.v1+cell": {
     "cellMetadata": {
      "byteLimit": 2048000,
      "rowLimit": 10000
     },
     "inputWidgets": {},
     "nuid": "1e9d3f95-6b76-42ba-b198-68a83b7f933c",
     "showTitle": false,
     "tableResultSettingsMap": {},
     "title": ""
    }
   },
   "outputs": [
    {
     "output_type": "display_data",
     "data": {
      "text/html": [
       "<style scoped>\n",
       "  .table-result-container {\n",
       "    max-height: 300px;\n",
       "    overflow: auto;\n",
       "  }\n",
       "  table, th, td {\n",
       "    border: 1px solid black;\n",
       "    border-collapse: collapse;\n",
       "  }\n",
       "  th, td {\n",
       "    padding: 5px;\n",
       "  }\n",
       "  th {\n",
       "    text-align: left;\n",
       "  }\n",
       "</style><div class='table-result-container'><table class='table-result'><thead style='background-color: white'><tr><th>Country</th><th>Sum of Females  Life Expectancy</th><th>Sum of Life Expectancy  (both sexes)</th><th>Sum of Males  Life Expectancy</th></tr></thead><tbody><tr><td>Chad</td><td>57.19</td><td>55.24</td><td>53.36</td></tr><tr><td>Nigeria</td><td>54.94</td><td>54.64</td><td>54.33</td></tr><tr><td>South Sudan</td><td>60.75</td><td>57.74</td><td>54.76</td></tr><tr><td>Lesotho</td><td>60.44</td><td>57.8</td><td>55.03</td></tr><tr><td>Central African Republic</td><td>59.56</td><td>57.67</td><td>55.51</td></tr><tr><td>Somalia</td><td>61.55</td><td>58.97</td><td>56.49</td></tr><tr><td>Burkina Faso</td><td>63.43</td><td>61.29</td><td>59.11</td></tr><tr><td>Mali</td><td>62.15</td><td>60.68</td><td>59.25</td></tr><tr><td>Benin</td><td>62.42</td><td>60.96</td><td>59.52</td></tr><tr><td>Guinea</td><td>62.09</td><td>60.9</td><td>59.66</td></tr><tr><td>DR Congo</td><td>64.23</td><td>62.07</td><td>59.96</td></tr><tr><td>Côte d'Ivoire</td><td>64.31</td><td>62.11</td><td>60.17</td></tr><tr><td>Sierra Leone</td><td>63.7</td><td>61.96</td><td>60.23</td></tr><tr><td>Mozambique</td><td>66.74</td><td>63.8</td><td>60.49</td></tr><tr><td>Niger</td><td>62.41</td><td>61.43</td><td>60.49</td></tr><tr><td>Zimbabwe</td><td>65.31</td><td>63.06</td><td>60.49</td></tr><tr><td>Liberia</td><td>63.63</td><td>62.32</td><td>61.02</td></tr><tr><td>Eswatini</td><td>67.11</td><td>64.26</td><td>61.32</td></tr><tr><td>Kenya</td><td>66.12</td><td>63.83</td><td>61.64</td></tr><tr><td>Burundi</td><td>65.88</td><td>63.82</td><td>61.75</td></tr><tr><td>Cameroon</td><td>66.23</td><td>63.97</td><td>61.78</td></tr><tr><td>Guinea-Bissau</td><td>66.55</td><td>64.25</td><td>61.82</td></tr><tr><td>Haiti</td><td>68.49</td><td>65.12</td><td>61.9</td></tr><tr><td>Madagascar</td><td>65.6</td><td>63.84</td><td>62.12</td></tr><tr><td>Equatorial Guinea</td><td>65.89</td><td>63.91</td><td>62.22</td></tr><tr><td>Angola</td><td>67.34</td><td>64.81</td><td>62.28</td></tr><tr><td>Togo</td><td>63.15</td><td>62.93</td><td>62.7</td></tr><tr><td>South Africa</td><td>69.79</td><td>66.31</td><td>62.78</td></tr><tr><td>Ghana</td><td>68.16</td><td>65.7</td><td>63.31</td></tr><tr><td>Namibia</td><td>71.48</td><td>67.52</td><td>63.45</td></tr><tr><td>Sudan</td><td>69.83</td><td>66.52</td><td>63.45</td></tr><tr><td>Djibouti</td><td>68.74</td><td>66.2</td><td>63.73</td></tr><tr><td>Papua New Guinea</td><td>69.21</td><td>66.26</td><td>63.84</td></tr><tr><td>Myanmar</td><td>70.38</td><td>67.1</td><td>63.99</td></tr><tr><td>Zambia</td><td>68.87</td><td>66.53</td><td>64.1</td></tr><tr><td>Malawi</td><td>70.77</td><td>67.56</td><td>64.27</td></tr><tr><td>Congo</td><td>67.72</td><td>66.0</td><td>64.33</td></tr><tr><td>Gambia</td><td>67.75</td><td>66.06</td><td>64.35</td></tr><tr><td>Ethiopia</td><td>71.02</td><td>67.6</td><td>64.36</td></tr><tr><td>Tanzania</td><td>70.0</td><td>67.21</td><td>64.4</td></tr><tr><td>Kiribati</td><td>68.32</td><td>66.6</td><td>64.69</td></tr><tr><td>Afghanistan</td><td>67.81</td><td>66.29</td><td>64.7</td></tr><tr><td>Comoros</td><td>69.2</td><td>67.02</td><td>65.02</td></tr><tr><td>State of Palestine</td><td>74.25</td><td>69.21</td><td>65.22</td></tr><tr><td>Pakistan</td><td>70.32</td><td>67.8</td><td>65.46</td></tr><tr><td>Fiji</td><td>69.54</td><td>67.46</td><td>65.47</td></tr><tr><td>Uganda</td><td>71.37</td><td>68.49</td><td>65.49</td></tr><tr><td>Rwanda</td><td>70.14</td><td>68.02</td><td>65.71</td></tr><tr><td>Gabon</td><td>71.24</td><td>68.51</td><td>66.06</td></tr><tr><td>Bolivia</td><td>71.32</td><td>68.74</td><td>66.27</td></tr><tr><td>Timor-Leste</td><td>69.67</td><td>67.9</td><td>66.27</td></tr><tr><td>Sao Tome & Principe</td><td>73.91</td><td>69.91</td><td>66.41</td></tr><tr><td>Guyana</td><td>74.09</td><td>70.32</td><td>66.62</td></tr><tr><td>Mauritania</td><td>70.73</td><td>68.71</td><td>66.7</td></tr><tr><td>Moldova</td><td>75.67</td><td>71.33</td><td>66.7</td></tr><tr><td>Eritrea</td><td>70.94</td><td>68.89</td><td>66.76</td></tr><tr><td>Botswana</td><td>71.85</td><td>69.29</td><td>66.78</td></tr><tr><td>Philippines</td><td>72.96</td><td>69.95</td><td>66.99</td></tr><tr><td>Turkmenistan</td><td>73.01</td><td>70.2</td><td>67.0</td></tr><tr><td>Senegal</td><td>71.01</td><td>68.92</td><td>67.01</td></tr><tr><td>Laos</td><td>71.53</td><td>69.23</td><td>67.02</td></tr><tr><td>Yemen</td><td>71.55</td><td>69.44</td><td>67.37</td></tr><tr><td>Russia</td><td>79.19</td><td>73.34</td><td>67.48</td></tr><tr><td>Mongolia</td><td>76.66</td><td>71.99</td><td>67.49</td></tr><tr><td>El Salvador</td><td>76.49</td><td>72.3</td><td>67.76</td></tr><tr><td>Cambodia</td><td>73.36</td><td>70.82</td><td>68.15</td></tr><tr><td>Kyrgyzstan</td><td>75.4</td><td>71.82</td><td>68.31</td></tr><tr><td>St. Vincent & Grenadines</td><td>74.48</td><td>71.38</td><td>68.78</td></tr><tr><td>Venezuela</td><td>76.66</td><td>72.67</td><td>68.89</td></tr><tr><td>Jamaica</td><td>74.15</td><td>71.61</td><td>69.08</td></tr><tr><td>Nepal</td><td>72.14</td><td>70.64</td><td>69.09</td></tr><tr><td>Indonesia</td><td>73.43</td><td>71.29</td><td>69.16</td></tr><tr><td>Solomon Islands</td><td>72.18</td><td>70.69</td><td>69.36</td></tr><tr><td>Saint Lucia</td><td>76.45</td><td>72.85</td><td>69.45</td></tr><tr><td>Tonga</td><td>76.54</td><td>73.07</td><td>69.5</td></tr><tr><td>Uzbekistan</td><td>75.55</td><td>72.53</td><td>69.56</td></tr><tr><td>Vanuatu</td><td>74.11</td><td>71.65</td><td>69.59</td></tr><tr><td>Libya</td><td>72.68</td><td>71.12</td><td>69.63</td></tr><tr><td>Egypt</td><td>74.01</td><td>71.81</td><td>69.65</td></tr><tr><td>Tajikistan</td><td>74.14</td><td>71.93</td><td>69.68</td></tr><tr><td>Belarus</td><td>79.22</td><td>74.62</td><td>69.74</td></tr><tr><td>Georgia</td><td>79.23</td><td>74.66</td><td>69.75</td></tr><tr><td>Ukraine</td><td>79.39</td><td>74.69</td><td>69.79</td></tr><tr><td>Western Sahara</td><td>73.77</td><td>71.58</td><td>69.87</td></tr><tr><td>Samoa</td><td>73.82</td><td>71.83</td><td>69.96</td></tr><tr><td>Vietnam</td><td>79.38</td><td>74.74</td><td>70.05</td></tr><tr><td>Seychelles</td><td>76.66</td><td>72.99</td><td>70.08</td></tr><tr><td>Syria</td><td>74.92</td><td>72.56</td><td>70.21</td></tr><tr><td>Kazakhstan</td><td>78.52</td><td>74.53</td><td>70.27</td></tr><tr><td>Guatemala</td><td>75.04</td><td>72.75</td><td>70.44</td></tr><tr><td>Honduras</td><td>75.67</td><td>73.04</td><td>70.49</td></tr><tr><td>Iraq</td><td>74.18</td><td>72.42</td><td>70.5</td></tr><tr><td>Trinidad and Tobago</td><td>76.83</td><td>73.62</td><td>70.51</td></tr><tr><td>Suriname</td><td>76.98</td><td>73.76</td><td>70.6</td></tr><tr><td>Dominican Republic</td><td>77.11</td><td>73.87</td><td>70.66</td></tr><tr><td>India</td><td>73.86</td><td>72.24</td><td>70.73</td></tr><tr><td>U.S. Virgin Islands</td><td>81.48</td><td>75.7</td><td>70.73</td></tr><tr><td>Paraguay</td><td>77.09</td><td>73.98</td><td>71.01</td></tr><tr><td>Bahamas</td><td>78.33</td><td>74.71</td><td>71.06</td></tr><tr><td>Belize</td><td>76.66</td><td>73.74</td><td>71.08</td></tr><tr><td>Lithuania</td><td>80.8</td><td>76.17</td><td>71.42</td></tr><tr><td>North Korea</td><td>75.88</td><td>73.74</td><td>71.55</td></tr><tr><td>Bhutan</td><td>75.27</td><td>73.26</td><td>71.57</td></tr><tr><td>Armenia</td><td>79.6</td><td>75.85</td><td>71.58</td></tr><tr><td>Azerbaijan</td><td>77.29</td><td>74.58</td><td>71.71</td></tr><tr><td>Latvia</td><td>80.6</td><td>76.33</td><td>71.75</td></tr><tr><td>Mauritius</td><td>78.34</td><td>75.1</td><td>72.11</td></tr><tr><td>Bulgaria</td><td>79.36</td><td>75.8</td><td>72.33</td></tr><tr><td>Thailand</td><td>80.98</td><td>76.56</td><td>72.34</td></tr><tr><td>Mexico</td><td>78.0</td><td>75.26</td><td>72.44</td></tr><tr><td>Nicaragua</td><td>77.58</td><td>75.1</td><td>72.46</td></tr><tr><td>Grenada</td><td>78.5</td><td>75.37</td><td>72.52</td></tr><tr><td>Romania</td><td>79.68</td><td>76.09</td><td>72.56</td></tr><tr><td>Curaçao</td><td>80.96</td><td>76.99</td><td>72.66</td></tr><tr><td>Brazil</td><td>79.15</td><td>76.02</td><td>72.95</td></tr><tr><td>Cabo Verde</td><td>79.37</td><td>76.22</td><td>73.05</td></tr><tr><td>Bangladesh</td><td>76.67</td><td>74.93</td><td>73.3</td></tr><tr><td>Morocco</td><td>77.78</td><td>75.49</td><td>73.35</td></tr><tr><td>Brunei</td><td>77.73</td><td>75.5</td><td>73.49</td></tr><tr><td>Guam</td><td>81.59</td><td>77.42</td><td>73.66</td></tr><tr><td>Serbia</td><td>80.18</td><td>76.94</td><td>73.68</td></tr><tr><td>Barbados</td><td>78.76</td><td>76.33</td><td>73.75</td></tr><tr><td>Aruba</td><td>78.92</td><td>76.5</td><td>73.85</td></tr><tr><td>Hungary</td><td>80.33</td><td>77.18</td><td>73.89</td></tr><tr><td>Montenegro</td><td>80.45</td><td>77.25</td><td>73.92</td></tr><tr><td>Tunisia</td><td>79.33</td><td>76.71</td><td>74.13</td></tr><tr><td>Mayotte</td><td>78.51</td><td>76.24</td><td>74.27</td></tr><tr><td>French Guiana</td><td>80.15</td><td>77.18</td><td>74.33</td></tr><tr><td>Uruguay</td><td>82.04</td><td>78.29</td><td>74.38</td></tr><tr><td>Malaysia</td><td>79.52</td><td>76.82</td><td>74.45</td></tr><tr><td>Sri Lanka</td><td>80.75</td><td>77.67</td><td>74.45</td></tr><tr><td>Turkey</td><td>80.34</td><td>77.42</td><td>74.62</td></tr><tr><td>Bosnia and Herzegovina</td><td>81.07</td><td>78.04</td><td>74.65</td></tr><tr><td>Antigua and Barbuda</td><td>80.45</td><td>77.77</td><td>74.74</td></tr><tr><td>Ecuador</td><td>80.31</td><td>77.58</td><td>74.88</td></tr><tr><td>Argentina</td><td>80.02</td><td>77.54</td><td>74.98</td></tr><tr><td>Algeria</td><td>77.91</td><td>76.48</td><td>75.1</td></tr><tr><td>Poland</td><td>82.49</td><td>78.81</td><td>75.1</td></tr><tr><td>Estonia</td><td>83.17</td><td>79.31</td><td>75.12</td></tr><tr><td>Colombia</td><td>80.61</td><td>77.91</td><td>75.16</td></tr><tr><td>Slovakia</td><td>81.71</td><td>78.49</td><td>75.21</td></tr><tr><td>China</td><td>80.97</td><td>78.02</td><td>75.25</td></tr><tr><td>North Macedonia</td><td>79.71</td><td>77.54</td><td>75.26</td></tr><tr><td>Croatia</td><td>81.82</td><td>78.75</td><td>75.6</td></tr><tr><td>Peru</td><td>80.3</td><td>77.94</td><td>75.63</td></tr><tr><td>Cuba</td><td>80.68</td><td>78.26</td><td>75.86</td></tr><tr><td>Lebanon</td><td>79.86</td><td>77.95</td><td>75.88</td></tr><tr><td>Jordan</td><td>80.34</td><td>77.98</td><td>75.89</td></tr><tr><td>Iran</td><td>79.81</td><td>77.85</td><td>76.0</td></tr><tr><td>New Caledonia</td><td>81.41</td><td>78.92</td><td>76.46</td></tr><tr><td>Panama</td><td>82.71</td><td>79.78</td><td>76.88</td></tr><tr><td>United States</td><td>81.98</td><td>79.46</td><td>77.05</td></tr><tr><td>Czech Republic (Czechia)</td><td>82.75</td><td>79.97</td><td>77.18</td></tr><tr><td>Saudi Arabia</td><td>81.33</td><td>78.98</td><td>77.33</td></tr><tr><td>Taiwan</td><td>83.75</td><td>80.75</td><td>77.86</td></tr><tr><td>Albania</td><td>81.59</td><td>79.78</td><td>77.92</td></tr><tr><td>Puerto Rico</td><td>85.38</td><td>81.9</td><td>78.28</td></tr><tr><td>Guadeloupe</td><td>85.65</td><td>82.24</td><td>78.35</td></tr><tr><td>Costa Rica</td><td>83.58</td><td>81.0</td><td>78.37</td></tr><tr><td>Oman</td><td>82.05</td><td>80.25</td><td>78.72</td></tr><tr><td>Slovenia</td><td>84.47</td><td>81.78</td><td>79.11</td></tr><tr><td>Germany</td><td>83.88</td><td>81.54</td><td>79.21</td></tr><tr><td>Finland</td><td>84.79</td><td>82.08</td><td>79.38</td></tr><tr><td>Chile</td><td>83.23</td><td>81.36</td><td>79.45</td></tr><tr><td>Kuwait</td><td>82.0</td><td>80.6</td><td>79.45</td></tr><tr><td>Martinique</td><td>85.73</td><td>82.74</td><td>79.45</td></tr><tr><td>Greece</td><td>84.46</td><td>82.03</td><td>79.5</td></tr><tr><td>United Kingdom</td><td>83.33</td><td>81.45</td><td>79.54</td></tr><tr><td>Portugal</td><td>85.25</td><td>82.55</td><td>79.68</td></tr><tr><td>Austria</td><td>84.45</td><td>82.12</td><td>79.75</td></tr><tr><td>Cyprus</td><td>83.8</td><td>81.82</td><td>79.84</td></tr><tr><td>Maldives</td><td>83.0</td><td>81.29</td><td>79.95</td></tr><tr><td>Belgium</td><td>84.45</td><td>82.27</td><td>80.06</td></tr><tr><td>Denmark</td><td>83.98</td><td>82.09</td><td>80.21</td></tr><tr><td>Canada</td><td>84.91</td><td>82.72</td><td>80.53</td></tr><tr><td>Ireland</td><td>84.61</td><td>82.58</td><td>80.58</td></tr><tr><td>France</td><td>86.2</td><td>83.46</td><td>80.59</td></tr><tr><td>New Zealand</td><td>83.89</td><td>82.25</td><td>80.6</td></tr><tr><td>Israel</td><td>84.71</td><td>82.73</td><td>80.67</td></tr><tr><td>Réunion</td><td>86.45</td><td>83.67</td><td>80.67</td></tr><tr><td>Netherlands</td><td>83.85</td><td>82.3</td><td>80.72</td></tr><tr><td>Luxembourg</td><td>83.94</td><td>82.36</td><td>80.75</td></tr><tr><td>Bahrain</td><td>82.13</td><td>81.42</td><td>80.86</td></tr><tr><td>Macao</td><td>85.35</td><td>83.23</td><td>81.05</td></tr><tr><td>Spain</td><td>86.44</td><td>83.8</td><td>81.1</td></tr><tr><td>South Korea</td><td>87.28</td><td>84.43</td><td>81.32</td></tr><tr><td>Singapore</td><td>86.36</td><td>83.86</td><td>81.38</td></tr><tr><td>Malta</td><td>85.39</td><td>83.47</td><td>81.48</td></tr><tr><td>Iceland</td><td>84.47</td><td>83.01</td><td>81.63</td></tr><tr><td>Sweden</td><td>85.22</td><td>83.42</td><td>81.65</td></tr><tr><td>Italy</td><td>85.87</td><td>83.87</td><td>81.75</td></tr><tr><td>Qatar</td><td>83.48</td><td>82.52</td><td>81.78</td></tr><tr><td>Japan</td><td>87.88</td><td>84.85</td><td>81.83</td></tr><tr><td>French Polynesia</td><td>86.62</td><td>84.19</td><td>81.9</td></tr><tr><td>Norway</td><td>84.97</td><td>83.46</td><td>81.94</td></tr><tr><td>Switzerland</td><td>85.95</td><td>84.09</td><td>82.17</td></tr><tr><td>United Arab Emirates</td><td>84.32</td><td>83.07</td><td>82.17</td></tr><tr><td>Australia</td><td>85.85</td><td>84.07</td><td>82.28</td></tr><tr><td>Hong Kong</td><td>88.26</td><td>85.63</td><td>82.97</td></tr><tr><td>Micronesia</td><td>149.22</td><td>143.28</td><td>137.64</td></tr></tbody></table></div>"
      ]
     },
     "metadata": {
      "application/vnd.databricks.v1+output": {
       "addedWidgets": {},
       "aggData": [],
       "aggError": "",
       "aggOverflow": false,
       "aggSchema": [],
       "aggSeriesLimitReached": false,
       "aggType": "",
       "arguments": {},
       "columnCustomDisplayInfos": {},
       "data": [
        [
         "Chad",
         57.19,
         55.24,
         53.36
        ],
        [
         "Nigeria",
         54.94,
         54.64,
         54.33
        ],
        [
         "South Sudan",
         60.75,
         57.74,
         54.76
        ],
        [
         "Lesotho",
         60.44,
         57.8,
         55.03
        ],
        [
         "Central African Republic",
         59.56,
         57.67,
         55.51
        ],
        [
         "Somalia",
         61.55,
         58.97,
         56.49
        ],
        [
         "Burkina Faso",
         63.43,
         61.29,
         59.11
        ],
        [
         "Mali",
         62.15,
         60.68,
         59.25
        ],
        [
         "Benin",
         62.42,
         60.96,
         59.52
        ],
        [
         "Guinea",
         62.09,
         60.9,
         59.66
        ],
        [
         "DR Congo",
         64.23,
         62.07,
         59.96
        ],
        [
         "Côte d'Ivoire",
         64.31,
         62.11,
         60.17
        ],
        [
         "Sierra Leone",
         63.7,
         61.96,
         60.23
        ],
        [
         "Mozambique",
         66.74,
         63.8,
         60.49
        ],
        [
         "Niger",
         62.41,
         61.43,
         60.49
        ],
        [
         "Zimbabwe",
         65.31,
         63.06,
         60.49
        ],
        [
         "Liberia",
         63.63,
         62.32,
         61.02
        ],
        [
         "Eswatini",
         67.11,
         64.26,
         61.32
        ],
        [
         "Kenya",
         66.12,
         63.83,
         61.64
        ],
        [
         "Burundi",
         65.88,
         63.82,
         61.75
        ],
        [
         "Cameroon",
         66.23,
         63.97,
         61.78
        ],
        [
         "Guinea-Bissau",
         66.55,
         64.25,
         61.82
        ],
        [
         "Haiti",
         68.49,
         65.12,
         61.9
        ],
        [
         "Madagascar",
         65.6,
         63.84,
         62.12
        ],
        [
         "Equatorial Guinea",
         65.89,
         63.91,
         62.22
        ],
        [
         "Angola",
         67.34,
         64.81,
         62.28
        ],
        [
         "Togo",
         63.15,
         62.93,
         62.7
        ],
        [
         "South Africa",
         69.79,
         66.31,
         62.78
        ],
        [
         "Ghana",
         68.16,
         65.7,
         63.31
        ],
        [
         "Namibia",
         71.48,
         67.52,
         63.45
        ],
        [
         "Sudan",
         69.83,
         66.52,
         63.45
        ],
        [
         "Djibouti",
         68.74,
         66.2,
         63.73
        ],
        [
         "Papua New Guinea",
         69.21,
         66.26,
         63.84
        ],
        [
         "Myanmar",
         70.38,
         67.1,
         63.99
        ],
        [
         "Zambia",
         68.87,
         66.53,
         64.1
        ],
        [
         "Malawi",
         70.77,
         67.56,
         64.27
        ],
        [
         "Congo",
         67.72,
         66.0,
         64.33
        ],
        [
         "Gambia",
         67.75,
         66.06,
         64.35
        ],
        [
         "Ethiopia",
         71.02,
         67.6,
         64.36
        ],
        [
         "Tanzania",
         70.0,
         67.21,
         64.4
        ],
        [
         "Kiribati",
         68.32,
         66.6,
         64.69
        ],
        [
         "Afghanistan",
         67.81,
         66.29,
         64.7
        ],
        [
         "Comoros",
         69.2,
         67.02,
         65.02
        ],
        [
         "State of Palestine",
         74.25,
         69.21,
         65.22
        ],
        [
         "Pakistan",
         70.32,
         67.8,
         65.46
        ],
        [
         "Fiji",
         69.54,
         67.46,
         65.47
        ],
        [
         "Uganda",
         71.37,
         68.49,
         65.49
        ],
        [
         "Rwanda",
         70.14,
         68.02,
         65.71
        ],
        [
         "Gabon",
         71.24,
         68.51,
         66.06
        ],
        [
         "Bolivia",
         71.32,
         68.74,
         66.27
        ],
        [
         "Timor-Leste",
         69.67,
         67.9,
         66.27
        ],
        [
         "Sao Tome & Principe",
         73.91,
         69.91,
         66.41
        ],
        [
         "Guyana",
         74.09,
         70.32,
         66.62
        ],
        [
         "Mauritania",
         70.73,
         68.71,
         66.7
        ],
        [
         "Moldova",
         75.67,
         71.33,
         66.7
        ],
        [
         "Eritrea",
         70.94,
         68.89,
         66.76
        ],
        [
         "Botswana",
         71.85,
         69.29,
         66.78
        ],
        [
         "Philippines",
         72.96,
         69.95,
         66.99
        ],
        [
         "Turkmenistan",
         73.01,
         70.2,
         67.0
        ],
        [
         "Senegal",
         71.01,
         68.92,
         67.01
        ],
        [
         "Laos",
         71.53,
         69.23,
         67.02
        ],
        [
         "Yemen",
         71.55,
         69.44,
         67.37
        ],
        [
         "Russia",
         79.19,
         73.34,
         67.48
        ],
        [
         "Mongolia",
         76.66,
         71.99,
         67.49
        ],
        [
         "El Salvador",
         76.49,
         72.3,
         67.76
        ],
        [
         "Cambodia",
         73.36,
         70.82,
         68.15
        ],
        [
         "Kyrgyzstan",
         75.4,
         71.82,
         68.31
        ],
        [
         "St. Vincent & Grenadines",
         74.48,
         71.38,
         68.78
        ],
        [
         "Venezuela",
         76.66,
         72.67,
         68.89
        ],
        [
         "Jamaica",
         74.15,
         71.61,
         69.08
        ],
        [
         "Nepal",
         72.14,
         70.64,
         69.09
        ],
        [
         "Indonesia",
         73.43,
         71.29,
         69.16
        ],
        [
         "Solomon Islands",
         72.18,
         70.69,
         69.36
        ],
        [
         "Saint Lucia",
         76.45,
         72.85,
         69.45
        ],
        [
         "Tonga",
         76.54,
         73.07,
         69.5
        ],
        [
         "Uzbekistan",
         75.55,
         72.53,
         69.56
        ],
        [
         "Vanuatu",
         74.11,
         71.65,
         69.59
        ],
        [
         "Libya",
         72.68,
         71.12,
         69.63
        ],
        [
         "Egypt",
         74.01,
         71.81,
         69.65
        ],
        [
         "Tajikistan",
         74.14,
         71.93,
         69.68
        ],
        [
         "Belarus",
         79.22,
         74.62,
         69.74
        ],
        [
         "Georgia",
         79.23,
         74.66,
         69.75
        ],
        [
         "Ukraine",
         79.39,
         74.69,
         69.79
        ],
        [
         "Western Sahara",
         73.77,
         71.58,
         69.87
        ],
        [
         "Samoa",
         73.82,
         71.83,
         69.96
        ],
        [
         "Vietnam",
         79.38,
         74.74,
         70.05
        ],
        [
         "Seychelles",
         76.66,
         72.99,
         70.08
        ],
        [
         "Syria",
         74.92,
         72.56,
         70.21
        ],
        [
         "Kazakhstan",
         78.52,
         74.53,
         70.27
        ],
        [
         "Guatemala",
         75.04,
         72.75,
         70.44
        ],
        [
         "Honduras",
         75.67,
         73.04,
         70.49
        ],
        [
         "Iraq",
         74.18,
         72.42,
         70.5
        ],
        [
         "Trinidad and Tobago",
         76.83,
         73.62,
         70.51
        ],
        [
         "Suriname",
         76.98,
         73.76,
         70.6
        ],
        [
         "Dominican Republic",
         77.11,
         73.87,
         70.66
        ],
        [
         "India",
         73.86,
         72.24,
         70.73
        ],
        [
         "U.S. Virgin Islands",
         81.48,
         75.7,
         70.73
        ],
        [
         "Paraguay",
         77.09,
         73.98,
         71.01
        ],
        [
         "Bahamas",
         78.33,
         74.71,
         71.06
        ],
        [
         "Belize",
         76.66,
         73.74,
         71.08
        ],
        [
         "Lithuania",
         80.8,
         76.17,
         71.42
        ],
        [
         "North Korea",
         75.88,
         73.74,
         71.55
        ],
        [
         "Bhutan",
         75.27,
         73.26,
         71.57
        ],
        [
         "Armenia",
         79.6,
         75.85,
         71.58
        ],
        [
         "Azerbaijan",
         77.29,
         74.58,
         71.71
        ],
        [
         "Latvia",
         80.6,
         76.33,
         71.75
        ],
        [
         "Mauritius",
         78.34,
         75.1,
         72.11
        ],
        [
         "Bulgaria",
         79.36,
         75.8,
         72.33
        ],
        [
         "Thailand",
         80.98,
         76.56,
         72.34
        ],
        [
         "Mexico",
         78.0,
         75.26,
         72.44
        ],
        [
         "Nicaragua",
         77.58,
         75.1,
         72.46
        ],
        [
         "Grenada",
         78.5,
         75.37,
         72.52
        ],
        [
         "Romania",
         79.68,
         76.09,
         72.56
        ],
        [
         "Curaçao",
         80.96,
         76.99,
         72.66
        ],
        [
         "Brazil",
         79.15,
         76.02,
         72.95
        ],
        [
         "Cabo Verde",
         79.37,
         76.22,
         73.05
        ],
        [
         "Bangladesh",
         76.67,
         74.93,
         73.3
        ],
        [
         "Morocco",
         77.78,
         75.49,
         73.35
        ],
        [
         "Brunei",
         77.73,
         75.5,
         73.49
        ],
        [
         "Guam",
         81.59,
         77.42,
         73.66
        ],
        [
         "Serbia",
         80.18,
         76.94,
         73.68
        ],
        [
         "Barbados",
         78.76,
         76.33,
         73.75
        ],
        [
         "Aruba",
         78.92,
         76.5,
         73.85
        ],
        [
         "Hungary",
         80.33,
         77.18,
         73.89
        ],
        [
         "Montenegro",
         80.45,
         77.25,
         73.92
        ],
        [
         "Tunisia",
         79.33,
         76.71,
         74.13
        ],
        [
         "Mayotte",
         78.51,
         76.24,
         74.27
        ],
        [
         "French Guiana",
         80.15,
         77.18,
         74.33
        ],
        [
         "Uruguay",
         82.04,
         78.29,
         74.38
        ],
        [
         "Malaysia",
         79.52,
         76.82,
         74.45
        ],
        [
         "Sri Lanka",
         80.75,
         77.67,
         74.45
        ],
        [
         "Turkey",
         80.34,
         77.42,
         74.62
        ],
        [
         "Bosnia and Herzegovina",
         81.07,
         78.04,
         74.65
        ],
        [
         "Antigua and Barbuda",
         80.45,
         77.77,
         74.74
        ],
        [
         "Ecuador",
         80.31,
         77.58,
         74.88
        ],
        [
         "Argentina",
         80.02,
         77.54,
         74.98
        ],
        [
         "Algeria",
         77.91,
         76.48,
         75.1
        ],
        [
         "Poland",
         82.49,
         78.81,
         75.1
        ],
        [
         "Estonia",
         83.17,
         79.31,
         75.12
        ],
        [
         "Colombia",
         80.61,
         77.91,
         75.16
        ],
        [
         "Slovakia",
         81.71,
         78.49,
         75.21
        ],
        [
         "China",
         80.97,
         78.02,
         75.25
        ],
        [
         "North Macedonia",
         79.71,
         77.54,
         75.26
        ],
        [
         "Croatia",
         81.82,
         78.75,
         75.6
        ],
        [
         "Peru",
         80.3,
         77.94,
         75.63
        ],
        [
         "Cuba",
         80.68,
         78.26,
         75.86
        ],
        [
         "Lebanon",
         79.86,
         77.95,
         75.88
        ],
        [
         "Jordan",
         80.34,
         77.98,
         75.89
        ],
        [
         "Iran",
         79.81,
         77.85,
         76.0
        ],
        [
         "New Caledonia",
         81.41,
         78.92,
         76.46
        ],
        [
         "Panama",
         82.71,
         79.78,
         76.88
        ],
        [
         "United States",
         81.98,
         79.46,
         77.05
        ],
        [
         "Czech Republic (Czechia)",
         82.75,
         79.97,
         77.18
        ],
        [
         "Saudi Arabia",
         81.33,
         78.98,
         77.33
        ],
        [
         "Taiwan",
         83.75,
         80.75,
         77.86
        ],
        [
         "Albania",
         81.59,
         79.78,
         77.92
        ],
        [
         "Puerto Rico",
         85.38,
         81.9,
         78.28
        ],
        [
         "Guadeloupe",
         85.65,
         82.24,
         78.35
        ],
        [
         "Costa Rica",
         83.58,
         81.0,
         78.37
        ],
        [
         "Oman",
         82.05,
         80.25,
         78.72
        ],
        [
         "Slovenia",
         84.47,
         81.78,
         79.11
        ],
        [
         "Germany",
         83.88,
         81.54,
         79.21
        ],
        [
         "Finland",
         84.79,
         82.08,
         79.38
        ],
        [
         "Chile",
         83.23,
         81.36,
         79.45
        ],
        [
         "Kuwait",
         82.0,
         80.6,
         79.45
        ],
        [
         "Martinique",
         85.73,
         82.74,
         79.45
        ],
        [
         "Greece",
         84.46,
         82.03,
         79.5
        ],
        [
         "United Kingdom",
         83.33,
         81.45,
         79.54
        ],
        [
         "Portugal",
         85.25,
         82.55,
         79.68
        ],
        [
         "Austria",
         84.45,
         82.12,
         79.75
        ],
        [
         "Cyprus",
         83.8,
         81.82,
         79.84
        ],
        [
         "Maldives",
         83.0,
         81.29,
         79.95
        ],
        [
         "Belgium",
         84.45,
         82.27,
         80.06
        ],
        [
         "Denmark",
         83.98,
         82.09,
         80.21
        ],
        [
         "Canada",
         84.91,
         82.72,
         80.53
        ],
        [
         "Ireland",
         84.61,
         82.58,
         80.58
        ],
        [
         "France",
         86.2,
         83.46,
         80.59
        ],
        [
         "New Zealand",
         83.89,
         82.25,
         80.6
        ],
        [
         "Israel",
         84.71,
         82.73,
         80.67
        ],
        [
         "Réunion",
         86.45,
         83.67,
         80.67
        ],
        [
         "Netherlands",
         83.85,
         82.3,
         80.72
        ],
        [
         "Luxembourg",
         83.94,
         82.36,
         80.75
        ],
        [
         "Bahrain",
         82.13,
         81.42,
         80.86
        ],
        [
         "Macao",
         85.35,
         83.23,
         81.05
        ],
        [
         "Spain",
         86.44,
         83.8,
         81.1
        ],
        [
         "South Korea",
         87.28,
         84.43,
         81.32
        ],
        [
         "Singapore",
         86.36,
         83.86,
         81.38
        ],
        [
         "Malta",
         85.39,
         83.47,
         81.48
        ],
        [
         "Iceland",
         84.47,
         83.01,
         81.63
        ],
        [
         "Sweden",
         85.22,
         83.42,
         81.65
        ],
        [
         "Italy",
         85.87,
         83.87,
         81.75
        ],
        [
         "Qatar",
         83.48,
         82.52,
         81.78
        ],
        [
         "Japan",
         87.88,
         84.85,
         81.83
        ],
        [
         "French Polynesia",
         86.62,
         84.19,
         81.9
        ],
        [
         "Norway",
         84.97,
         83.46,
         81.94
        ],
        [
         "Switzerland",
         85.95,
         84.09,
         82.17
        ],
        [
         "United Arab Emirates",
         84.32,
         83.07,
         82.17
        ],
        [
         "Australia",
         85.85,
         84.07,
         82.28
        ],
        [
         "Hong Kong",
         88.26,
         85.63,
         82.97
        ],
        [
         "Micronesia",
         149.22,
         143.28,
         137.64
        ]
       ],
       "datasetInfos": [],
       "dbfsResultPath": null,
       "isJsonSchema": true,
       "metadata": {},
       "overflow": false,
       "plotOptions": {
        "customPlotOptions": {},
        "displayType": "table",
        "pivotAggregation": null,
        "pivotColumns": null,
        "xColumns": null,
        "yColumns": null
       },
       "removedWidgets": [],
       "schema": [
        {
         "metadata": "{}",
         "name": "Country",
         "type": "\"string\""
        },
        {
         "metadata": "{}",
         "name": "Sum of Females  Life Expectancy",
         "type": "\"double\""
        },
        {
         "metadata": "{}",
         "name": "Sum of Life Expectancy  (both sexes)",
         "type": "\"double\""
        },
        {
         "metadata": "{}",
         "name": "Sum of Males  Life Expectancy",
         "type": "\"double\""
        }
       ],
       "type": "table"
      }
     },
     "output_type": "display_data"
    }
   ],
   "source": [
    "display(df)"
   ]
  },
  {
   "cell_type": "code",
   "execution_count": 0,
   "metadata": {
    "application/vnd.databricks.v1+cell": {
     "cellMetadata": {
      "byteLimit": 2048000,
      "rowLimit": 10000
     },
     "inputWidgets": {},
     "nuid": "b927eff6-af94-4f75-a30c-85739217aacc",
     "showTitle": false,
     "tableResultSettingsMap": {},
     "title": ""
    }
   },
   "outputs": [],
   "source": [
    "df_pandas = df.toPandas()"
   ]
  },
  {
   "cell_type": "code",
   "execution_count": 0,
   "metadata": {
    "application/vnd.databricks.v1+cell": {
     "cellMetadata": {
      "byteLimit": 2048000,
      "rowLimit": 10000
     },
     "inputWidgets": {},
     "nuid": "52762dc5-3e52-4538-99b2-ac93ecfeb010",
     "showTitle": false,
     "tableResultSettingsMap": {},
     "title": ""
    }
   },
   "outputs": [
    {
     "output_type": "display_data",
     "data": {
      "text/html": [
       "<div>\n",
       "<style scoped>\n",
       "    .dataframe tbody tr th:only-of-type {\n",
       "        vertical-align: middle;\n",
       "    }\n",
       "\n",
       "    .dataframe tbody tr th {\n",
       "        vertical-align: top;\n",
       "    }\n",
       "\n",
       "    .dataframe thead th {\n",
       "        text-align: right;\n",
       "    }\n",
       "</style>\n",
       "<table border=\"1\" class=\"dataframe\">\n",
       "  <thead>\n",
       "    <tr style=\"text-align: right;\">\n",
       "      <th></th>\n",
       "      <th>Country</th>\n",
       "      <th>Sum of Females  Life Expectancy</th>\n",
       "      <th>Sum of Life Expectancy  (both sexes)</th>\n",
       "      <th>Sum of Males  Life Expectancy</th>\n",
       "    </tr>\n",
       "  </thead>\n",
       "  <tbody>\n",
       "    <tr>\n",
       "      <th>0</th>\n",
       "      <td>Chad</td>\n",
       "      <td>57.19</td>\n",
       "      <td>55.24</td>\n",
       "      <td>53.36</td>\n",
       "    </tr>\n",
       "    <tr>\n",
       "      <th>1</th>\n",
       "      <td>Nigeria</td>\n",
       "      <td>54.94</td>\n",
       "      <td>54.64</td>\n",
       "      <td>54.33</td>\n",
       "    </tr>\n",
       "    <tr>\n",
       "      <th>2</th>\n",
       "      <td>South Sudan</td>\n",
       "      <td>60.75</td>\n",
       "      <td>57.74</td>\n",
       "      <td>54.76</td>\n",
       "    </tr>\n",
       "    <tr>\n",
       "      <th>3</th>\n",
       "      <td>Lesotho</td>\n",
       "      <td>60.44</td>\n",
       "      <td>57.80</td>\n",
       "      <td>55.03</td>\n",
       "    </tr>\n",
       "    <tr>\n",
       "      <th>4</th>\n",
       "      <td>Central African Republic</td>\n",
       "      <td>59.56</td>\n",
       "      <td>57.67</td>\n",
       "      <td>55.51</td>\n",
       "    </tr>\n",
       "  </tbody>\n",
       "</table>\n",
       "</div>"
      ]
     },
     "metadata": {
      "application/vnd.databricks.v1+output": {
       "addedWidgets": {},
       "arguments": {},
       "data": "<div>\n<style scoped>\n    .dataframe tbody tr th:only-of-type {\n        vertical-align: middle;\n    }\n\n    .dataframe tbody tr th {\n        vertical-align: top;\n    }\n\n    .dataframe thead th {\n        text-align: right;\n    }\n</style>\n<table border=\"1\" class=\"dataframe\">\n  <thead>\n    <tr style=\"text-align: right;\">\n      <th></th>\n      <th>Country</th>\n      <th>Sum of Females  Life Expectancy</th>\n      <th>Sum of Life Expectancy  (both sexes)</th>\n      <th>Sum of Males  Life Expectancy</th>\n    </tr>\n  </thead>\n  <tbody>\n    <tr>\n      <th>0</th>\n      <td>Chad</td>\n      <td>57.19</td>\n      <td>55.24</td>\n      <td>53.36</td>\n    </tr>\n    <tr>\n      <th>1</th>\n      <td>Nigeria</td>\n      <td>54.94</td>\n      <td>54.64</td>\n      <td>54.33</td>\n    </tr>\n    <tr>\n      <th>2</th>\n      <td>South Sudan</td>\n      <td>60.75</td>\n      <td>57.74</td>\n      <td>54.76</td>\n    </tr>\n    <tr>\n      <th>3</th>\n      <td>Lesotho</td>\n      <td>60.44</td>\n      <td>57.80</td>\n      <td>55.03</td>\n    </tr>\n    <tr>\n      <th>4</th>\n      <td>Central African Republic</td>\n      <td>59.56</td>\n      <td>57.67</td>\n      <td>55.51</td>\n    </tr>\n  </tbody>\n</table>\n</div>",
       "datasetInfos": [],
       "metadata": {},
       "removedWidgets": [],
       "textData": null,
       "type": "htmlSandbox"
      }
     },
     "output_type": "display_data"
    }
   ],
   "source": [
    "df_pandas.head()"
   ]
  },
  {
   "cell_type": "code",
   "execution_count": 0,
   "metadata": {
    "application/vnd.databricks.v1+cell": {
     "cellMetadata": {
      "byteLimit": 2048000,
      "rowLimit": 10000
     },
     "inputWidgets": {},
     "nuid": "117e6a2d-f4e6-49fa-9aa5-1d8e2da47adc",
     "showTitle": false,
     "tableResultSettingsMap": {},
     "title": ""
    }
   },
   "outputs": [],
   "source": [
    "# Converter data frame de pandas para Spark\n",
    "# Ao fazer um data frame ou extrair um df em Pandas é possível convertê-lo\n",
    "df_spark = spark.createDataFrame(df_pandas)"
   ]
  },
  {
   "cell_type": "code",
   "execution_count": 0,
   "metadata": {
    "application/vnd.databricks.v1+cell": {
     "cellMetadata": {
      "byteLimit": 2048000,
      "rowLimit": 10000
     },
     "inputWidgets": {},
     "nuid": "bad9dfff-1287-4944-b205-c6e7ba63e852",
     "showTitle": false,
     "tableResultSettingsMap": {},
     "title": ""
    }
   },
   "outputs": [
    {
     "output_type": "stream",
     "name": "stdout",
     "output_type": "stream",
     "text": [
      "Out[8]: <bound method apply_dataframe_display_patch.<locals>.df_display of DataFrame[Country: string]>"
     ]
    }
   ],
   "source": [
    "df.select('Country').display"
   ]
  },
  {
   "cell_type": "code",
   "execution_count": 0,
   "metadata": {
    "application/vnd.databricks.v1+cell": {
     "cellMetadata": {
      "byteLimit": 2048000,
      "rowLimit": 10000
     },
     "inputWidgets": {},
     "nuid": "7453eb66-7691-42fd-a205-44eadfb95a66",
     "showTitle": false,
     "tableResultSettingsMap": {},
     "title": ""
    }
   },
   "outputs": [
    {
     "output_type": "display_data",
     "data": {
      "text/html": [
       "<style scoped>\n",
       "  .table-result-container {\n",
       "    max-height: 300px;\n",
       "    overflow: auto;\n",
       "  }\n",
       "  table, th, td {\n",
       "    border: 1px solid black;\n",
       "    border-collapse: collapse;\n",
       "  }\n",
       "  th, td {\n",
       "    padding: 5px;\n",
       "  }\n",
       "  th {\n",
       "    text-align: left;\n",
       "  }\n",
       "</style><div class='table-result-container'><table class='table-result'><thead style='background-color: white'><tr><th>summary</th><th>Sum of Females  Life Expectancy</th><th>Sum of Life Expectancy  (both sexes)</th></tr></thead><tbody><tr><td>count</td><td>200</td><td>200</td></tr><tr><td>mean</td><td>76.77689999999998</td><td>74.13370000000002</td></tr><tr><td>stddev</td><td>8.820332232601405</td><td>8.571318206025527</td></tr><tr><td>min</td><td>54.94</td><td>54.64</td></tr><tr><td>max</td><td>149.22</td><td>143.28</td></tr></tbody></table></div>"
      ]
     },
     "metadata": {
      "application/vnd.databricks.v1+output": {
       "addedWidgets": {},
       "aggData": [],
       "aggError": "",
       "aggOverflow": false,
       "aggSchema": [],
       "aggSeriesLimitReached": false,
       "aggType": "",
       "arguments": {},
       "columnCustomDisplayInfos": {},
       "data": [
        [
         "count",
         "200",
         "200"
        ],
        [
         "mean",
         "76.77689999999998",
         "74.13370000000002"
        ],
        [
         "stddev",
         "8.820332232601405",
         "8.571318206025527"
        ],
        [
         "min",
         "54.94",
         "54.64"
        ],
        [
         "max",
         "149.22",
         "143.28"
        ]
       ],
       "datasetInfos": [],
       "dbfsResultPath": null,
       "isJsonSchema": true,
       "metadata": {},
       "overflow": false,
       "plotOptions": {
        "customPlotOptions": {},
        "displayType": "table",
        "pivotAggregation": null,
        "pivotColumns": null,
        "xColumns": null,
        "yColumns": null
       },
       "removedWidgets": [],
       "schema": [
        {
         "metadata": "{}",
         "name": "summary",
         "type": "\"string\""
        },
        {
         "metadata": "{}",
         "name": "Sum of Females  Life Expectancy",
         "type": "\"string\""
        },
        {
         "metadata": "{}",
         "name": "Sum of Life Expectancy  (both sexes)",
         "type": "\"string\""
        }
       ],
       "type": "table"
      }
     },
     "output_type": "display_data"
    }
   ],
   "source": [
    "# Dados descritivos\n",
    "df.select(\n",
    "    [\"`Sum of Females  Life Expectancy`\", \"`Sum of Life Expectancy  (both sexes)`\"]\n",
    ").describe().display()\n"
   ]
  },
  {
   "cell_type": "code",
   "execution_count": 0,
   "metadata": {
    "application/vnd.databricks.v1+cell": {
     "cellMetadata": {
      "byteLimit": 2048000,
      "rowLimit": 10000
     },
     "inputWidgets": {},
     "nuid": "aadd355d-cac6-4145-bd9a-4143b7fb95a9",
     "showTitle": false,
     "tableResultSettingsMap": {},
     "title": ""
    }
   },
   "outputs": [
    {
     "output_type": "display_data",
     "data": {
      "text/html": [
       "<style scoped>\n",
       "  .table-result-container {\n",
       "    max-height: 300px;\n",
       "    overflow: auto;\n",
       "  }\n",
       "  table, th, td {\n",
       "    border: 1px solid black;\n",
       "    border-collapse: collapse;\n",
       "  }\n",
       "  th, td {\n",
       "    padding: 5px;\n",
       "  }\n",
       "  th {\n",
       "    text-align: left;\n",
       "  }\n",
       "</style><div class='table-result-container'><table class='table-result'><thead style='background-color: white'><tr><th>Country</th><th>Sum of Females  Life Expectancy</th><th>Sum of Life Expectancy  (both sexes)</th><th>Sum of Males  Life Expectancy</th></tr></thead><tbody><tr><td>Brazil</td><td>79.15</td><td>76.02</td><td>72.95</td></tr></tbody></table></div>"
      ]
     },
     "metadata": {
      "application/vnd.databricks.v1+output": {
       "addedWidgets": {},
       "aggData": [],
       "aggError": "",
       "aggOverflow": false,
       "aggSchema": [],
       "aggSeriesLimitReached": false,
       "aggType": "",
       "arguments": {},
       "columnCustomDisplayInfos": {},
       "data": [
        [
         "Brazil",
         79.15,
         76.02,
         72.95
        ]
       ],
       "datasetInfos": [],
       "dbfsResultPath": null,
       "isJsonSchema": true,
       "metadata": {},
       "overflow": false,
       "plotOptions": {
        "customPlotOptions": {},
        "displayType": "table",
        "pivotAggregation": null,
        "pivotColumns": null,
        "xColumns": null,
        "yColumns": null
       },
       "removedWidgets": [],
       "schema": [
        {
         "metadata": "{}",
         "name": "Country",
         "type": "\"string\""
        },
        {
         "metadata": "{}",
         "name": "Sum of Females  Life Expectancy",
         "type": "\"double\""
        },
        {
         "metadata": "{}",
         "name": "Sum of Life Expectancy  (both sexes)",
         "type": "\"double\""
        },
        {
         "metadata": "{}",
         "name": "Sum of Males  Life Expectancy",
         "type": "\"double\""
        }
       ],
       "type": "table"
      }
     },
     "output_type": "display_data"
    }
   ],
   "source": [
    "# Filtrando um país\n",
    "df_filtered = df.filter(df[\"Country\"] == \"Brazil\")\n",
    "display(df_filtered)"
   ]
  },
  {
   "cell_type": "code",
   "execution_count": 0,
   "metadata": {
    "application/vnd.databricks.v1+cell": {
     "cellMetadata": {
      "byteLimit": 2048000,
      "rowLimit": 10000
     },
     "inputWidgets": {},
     "nuid": "7a196a04-bb9e-4f30-86f4-05d10e1f300e",
     "showTitle": false,
     "tableResultSettingsMap": {},
     "title": ""
    }
   },
   "outputs": [
    {
     "output_type": "display_data",
     "data": {
      "text/html": [
       "<style scoped>\n",
       "  .table-result-container {\n",
       "    max-height: 300px;\n",
       "    overflow: auto;\n",
       "  }\n",
       "  table, th, td {\n",
       "    border: 1px solid black;\n",
       "    border-collapse: collapse;\n",
       "  }\n",
       "  th, td {\n",
       "    padding: 5px;\n",
       "  }\n",
       "  th {\n",
       "    text-align: left;\n",
       "  }\n",
       "</style><div class='table-result-container'><table class='table-result'><thead style='background-color: white'><tr><th>Country</th><th>Sum of Females  Life Expectancy</th><th>Sum of Life Expectancy  (both sexes)</th><th>Sum of Males  Life Expectancy</th></tr></thead><tbody><tr><td>Moldova</td><td>75.67</td><td>71.33</td><td>66.7</td></tr><tr><td>Russia</td><td>79.19</td><td>73.34</td><td>67.48</td></tr><tr><td>Mongolia</td><td>76.66</td><td>71.99</td><td>67.49</td></tr><tr><td>El Salvador</td><td>76.49</td><td>72.3</td><td>67.76</td></tr><tr><td>Kyrgyzstan</td><td>75.4</td><td>71.82</td><td>68.31</td></tr><tr><td>Venezuela</td><td>76.66</td><td>72.67</td><td>68.89</td></tr><tr><td>Saint Lucia</td><td>76.45</td><td>72.85</td><td>69.45</td></tr><tr><td>Tonga</td><td>76.54</td><td>73.07</td><td>69.5</td></tr><tr><td>Uzbekistan</td><td>75.55</td><td>72.53</td><td>69.56</td></tr><tr><td>Belarus</td><td>79.22</td><td>74.62</td><td>69.74</td></tr><tr><td>Georgia</td><td>79.23</td><td>74.66</td><td>69.75</td></tr><tr><td>Ukraine</td><td>79.39</td><td>74.69</td><td>69.79</td></tr><tr><td>Vietnam</td><td>79.38</td><td>74.74</td><td>70.05</td></tr><tr><td>Seychelles</td><td>76.66</td><td>72.99</td><td>70.08</td></tr><tr><td>Kazakhstan</td><td>78.52</td><td>74.53</td><td>70.27</td></tr><tr><td>Guatemala</td><td>75.04</td><td>72.75</td><td>70.44</td></tr><tr><td>Honduras</td><td>75.67</td><td>73.04</td><td>70.49</td></tr><tr><td>Trinidad and Tobago</td><td>76.83</td><td>73.62</td><td>70.51</td></tr><tr><td>Suriname</td><td>76.98</td><td>73.76</td><td>70.6</td></tr><tr><td>Dominican Republic</td><td>77.11</td><td>73.87</td><td>70.66</td></tr><tr><td>U.S. Virgin Islands</td><td>81.48</td><td>75.7</td><td>70.73</td></tr><tr><td>Paraguay</td><td>77.09</td><td>73.98</td><td>71.01</td></tr><tr><td>Bahamas</td><td>78.33</td><td>74.71</td><td>71.06</td></tr><tr><td>Belize</td><td>76.66</td><td>73.74</td><td>71.08</td></tr><tr><td>Lithuania</td><td>80.8</td><td>76.17</td><td>71.42</td></tr><tr><td>North Korea</td><td>75.88</td><td>73.74</td><td>71.55</td></tr><tr><td>Bhutan</td><td>75.27</td><td>73.26</td><td>71.57</td></tr><tr><td>Armenia</td><td>79.6</td><td>75.85</td><td>71.58</td></tr><tr><td>Azerbaijan</td><td>77.29</td><td>74.58</td><td>71.71</td></tr><tr><td>Latvia</td><td>80.6</td><td>76.33</td><td>71.75</td></tr><tr><td>Mauritius</td><td>78.34</td><td>75.1</td><td>72.11</td></tr><tr><td>Bulgaria</td><td>79.36</td><td>75.8</td><td>72.33</td></tr><tr><td>Thailand</td><td>80.98</td><td>76.56</td><td>72.34</td></tr><tr><td>Mexico</td><td>78.0</td><td>75.26</td><td>72.44</td></tr><tr><td>Nicaragua</td><td>77.58</td><td>75.1</td><td>72.46</td></tr><tr><td>Grenada</td><td>78.5</td><td>75.37</td><td>72.52</td></tr><tr><td>Romania</td><td>79.68</td><td>76.09</td><td>72.56</td></tr><tr><td>Curaçao</td><td>80.96</td><td>76.99</td><td>72.66</td></tr><tr><td>Brazil</td><td>79.15</td><td>76.02</td><td>72.95</td></tr><tr><td>Cabo Verde</td><td>79.37</td><td>76.22</td><td>73.05</td></tr><tr><td>Bangladesh</td><td>76.67</td><td>74.93</td><td>73.3</td></tr><tr><td>Morocco</td><td>77.78</td><td>75.49</td><td>73.35</td></tr><tr><td>Brunei</td><td>77.73</td><td>75.5</td><td>73.49</td></tr><tr><td>Guam</td><td>81.59</td><td>77.42</td><td>73.66</td></tr><tr><td>Serbia</td><td>80.18</td><td>76.94</td><td>73.68</td></tr><tr><td>Barbados</td><td>78.76</td><td>76.33</td><td>73.75</td></tr><tr><td>Aruba</td><td>78.92</td><td>76.5</td><td>73.85</td></tr><tr><td>Hungary</td><td>80.33</td><td>77.18</td><td>73.89</td></tr><tr><td>Montenegro</td><td>80.45</td><td>77.25</td><td>73.92</td></tr><tr><td>Tunisia</td><td>79.33</td><td>76.71</td><td>74.13</td></tr><tr><td>Mayotte</td><td>78.51</td><td>76.24</td><td>74.27</td></tr><tr><td>French Guiana</td><td>80.15</td><td>77.18</td><td>74.33</td></tr><tr><td>Uruguay</td><td>82.04</td><td>78.29</td><td>74.38</td></tr><tr><td>Malaysia</td><td>79.52</td><td>76.82</td><td>74.45</td></tr><tr><td>Sri Lanka</td><td>80.75</td><td>77.67</td><td>74.45</td></tr><tr><td>Turkey</td><td>80.34</td><td>77.42</td><td>74.62</td></tr><tr><td>Bosnia and Herzegovina</td><td>81.07</td><td>78.04</td><td>74.65</td></tr><tr><td>Antigua and Barbuda</td><td>80.45</td><td>77.77</td><td>74.74</td></tr><tr><td>Ecuador</td><td>80.31</td><td>77.58</td><td>74.88</td></tr><tr><td>Argentina</td><td>80.02</td><td>77.54</td><td>74.98</td></tr><tr><td>Algeria</td><td>77.91</td><td>76.48</td><td>75.1</td></tr><tr><td>Poland</td><td>82.49</td><td>78.81</td><td>75.1</td></tr><tr><td>Estonia</td><td>83.17</td><td>79.31</td><td>75.12</td></tr><tr><td>Colombia</td><td>80.61</td><td>77.91</td><td>75.16</td></tr><tr><td>Slovakia</td><td>81.71</td><td>78.49</td><td>75.21</td></tr><tr><td>China</td><td>80.97</td><td>78.02</td><td>75.25</td></tr><tr><td>North Macedonia</td><td>79.71</td><td>77.54</td><td>75.26</td></tr><tr><td>Croatia</td><td>81.82</td><td>78.75</td><td>75.6</td></tr><tr><td>Peru</td><td>80.3</td><td>77.94</td><td>75.63</td></tr><tr><td>Cuba</td><td>80.68</td><td>78.26</td><td>75.86</td></tr><tr><td>Lebanon</td><td>79.86</td><td>77.95</td><td>75.88</td></tr><tr><td>Jordan</td><td>80.34</td><td>77.98</td><td>75.89</td></tr><tr><td>Iran</td><td>79.81</td><td>77.85</td><td>76.0</td></tr><tr><td>New Caledonia</td><td>81.41</td><td>78.92</td><td>76.46</td></tr><tr><td>Panama</td><td>82.71</td><td>79.78</td><td>76.88</td></tr><tr><td>United States</td><td>81.98</td><td>79.46</td><td>77.05</td></tr><tr><td>Czech Republic (Czechia)</td><td>82.75</td><td>79.97</td><td>77.18</td></tr><tr><td>Saudi Arabia</td><td>81.33</td><td>78.98</td><td>77.33</td></tr><tr><td>Taiwan</td><td>83.75</td><td>80.75</td><td>77.86</td></tr><tr><td>Albania</td><td>81.59</td><td>79.78</td><td>77.92</td></tr><tr><td>Puerto Rico</td><td>85.38</td><td>81.9</td><td>78.28</td></tr><tr><td>Guadeloupe</td><td>85.65</td><td>82.24</td><td>78.35</td></tr><tr><td>Costa Rica</td><td>83.58</td><td>81.0</td><td>78.37</td></tr><tr><td>Oman</td><td>82.05</td><td>80.25</td><td>78.72</td></tr><tr><td>Slovenia</td><td>84.47</td><td>81.78</td><td>79.11</td></tr><tr><td>Germany</td><td>83.88</td><td>81.54</td><td>79.21</td></tr><tr><td>Finland</td><td>84.79</td><td>82.08</td><td>79.38</td></tr><tr><td>Chile</td><td>83.23</td><td>81.36</td><td>79.45</td></tr><tr><td>Kuwait</td><td>82.0</td><td>80.6</td><td>79.45</td></tr><tr><td>Martinique</td><td>85.73</td><td>82.74</td><td>79.45</td></tr><tr><td>Greece</td><td>84.46</td><td>82.03</td><td>79.5</td></tr><tr><td>United Kingdom</td><td>83.33</td><td>81.45</td><td>79.54</td></tr><tr><td>Portugal</td><td>85.25</td><td>82.55</td><td>79.68</td></tr><tr><td>Austria</td><td>84.45</td><td>82.12</td><td>79.75</td></tr><tr><td>Cyprus</td><td>83.8</td><td>81.82</td><td>79.84</td></tr><tr><td>Maldives</td><td>83.0</td><td>81.29</td><td>79.95</td></tr><tr><td>Belgium</td><td>84.45</td><td>82.27</td><td>80.06</td></tr><tr><td>Denmark</td><td>83.98</td><td>82.09</td><td>80.21</td></tr><tr><td>Canada</td><td>84.91</td><td>82.72</td><td>80.53</td></tr><tr><td>Ireland</td><td>84.61</td><td>82.58</td><td>80.58</td></tr><tr><td>France</td><td>86.2</td><td>83.46</td><td>80.59</td></tr><tr><td>New Zealand</td><td>83.89</td><td>82.25</td><td>80.6</td></tr><tr><td>Israel</td><td>84.71</td><td>82.73</td><td>80.67</td></tr><tr><td>Réunion</td><td>86.45</td><td>83.67</td><td>80.67</td></tr><tr><td>Netherlands</td><td>83.85</td><td>82.3</td><td>80.72</td></tr><tr><td>Luxembourg</td><td>83.94</td><td>82.36</td><td>80.75</td></tr><tr><td>Bahrain</td><td>82.13</td><td>81.42</td><td>80.86</td></tr><tr><td>Macao</td><td>85.35</td><td>83.23</td><td>81.05</td></tr><tr><td>Spain</td><td>86.44</td><td>83.8</td><td>81.1</td></tr><tr><td>South Korea</td><td>87.28</td><td>84.43</td><td>81.32</td></tr><tr><td>Singapore</td><td>86.36</td><td>83.86</td><td>81.38</td></tr><tr><td>Malta</td><td>85.39</td><td>83.47</td><td>81.48</td></tr><tr><td>Iceland</td><td>84.47</td><td>83.01</td><td>81.63</td></tr><tr><td>Sweden</td><td>85.22</td><td>83.42</td><td>81.65</td></tr><tr><td>Italy</td><td>85.87</td><td>83.87</td><td>81.75</td></tr><tr><td>Qatar</td><td>83.48</td><td>82.52</td><td>81.78</td></tr><tr><td>Japan</td><td>87.88</td><td>84.85</td><td>81.83</td></tr><tr><td>French Polynesia</td><td>86.62</td><td>84.19</td><td>81.9</td></tr><tr><td>Norway</td><td>84.97</td><td>83.46</td><td>81.94</td></tr><tr><td>Switzerland</td><td>85.95</td><td>84.09</td><td>82.17</td></tr><tr><td>United Arab Emirates</td><td>84.32</td><td>83.07</td><td>82.17</td></tr><tr><td>Australia</td><td>85.85</td><td>84.07</td><td>82.28</td></tr><tr><td>Hong Kong</td><td>88.26</td><td>85.63</td><td>82.97</td></tr><tr><td>Micronesia</td><td>149.22</td><td>143.28</td><td>137.64</td></tr></tbody></table></div>"
      ]
     },
     "metadata": {
      "application/vnd.databricks.v1+output": {
       "addedWidgets": {},
       "aggData": [],
       "aggError": "",
       "aggOverflow": false,
       "aggSchema": [],
       "aggSeriesLimitReached": false,
       "aggType": "",
       "arguments": {},
       "columnCustomDisplayInfos": {},
       "data": [
        [
         "Moldova",
         75.67,
         71.33,
         66.7
        ],
        [
         "Russia",
         79.19,
         73.34,
         67.48
        ],
        [
         "Mongolia",
         76.66,
         71.99,
         67.49
        ],
        [
         "El Salvador",
         76.49,
         72.3,
         67.76
        ],
        [
         "Kyrgyzstan",
         75.4,
         71.82,
         68.31
        ],
        [
         "Venezuela",
         76.66,
         72.67,
         68.89
        ],
        [
         "Saint Lucia",
         76.45,
         72.85,
         69.45
        ],
        [
         "Tonga",
         76.54,
         73.07,
         69.5
        ],
        [
         "Uzbekistan",
         75.55,
         72.53,
         69.56
        ],
        [
         "Belarus",
         79.22,
         74.62,
         69.74
        ],
        [
         "Georgia",
         79.23,
         74.66,
         69.75
        ],
        [
         "Ukraine",
         79.39,
         74.69,
         69.79
        ],
        [
         "Vietnam",
         79.38,
         74.74,
         70.05
        ],
        [
         "Seychelles",
         76.66,
         72.99,
         70.08
        ],
        [
         "Kazakhstan",
         78.52,
         74.53,
         70.27
        ],
        [
         "Guatemala",
         75.04,
         72.75,
         70.44
        ],
        [
         "Honduras",
         75.67,
         73.04,
         70.49
        ],
        [
         "Trinidad and Tobago",
         76.83,
         73.62,
         70.51
        ],
        [
         "Suriname",
         76.98,
         73.76,
         70.6
        ],
        [
         "Dominican Republic",
         77.11,
         73.87,
         70.66
        ],
        [
         "U.S. Virgin Islands",
         81.48,
         75.7,
         70.73
        ],
        [
         "Paraguay",
         77.09,
         73.98,
         71.01
        ],
        [
         "Bahamas",
         78.33,
         74.71,
         71.06
        ],
        [
         "Belize",
         76.66,
         73.74,
         71.08
        ],
        [
         "Lithuania",
         80.8,
         76.17,
         71.42
        ],
        [
         "North Korea",
         75.88,
         73.74,
         71.55
        ],
        [
         "Bhutan",
         75.27,
         73.26,
         71.57
        ],
        [
         "Armenia",
         79.6,
         75.85,
         71.58
        ],
        [
         "Azerbaijan",
         77.29,
         74.58,
         71.71
        ],
        [
         "Latvia",
         80.6,
         76.33,
         71.75
        ],
        [
         "Mauritius",
         78.34,
         75.1,
         72.11
        ],
        [
         "Bulgaria",
         79.36,
         75.8,
         72.33
        ],
        [
         "Thailand",
         80.98,
         76.56,
         72.34
        ],
        [
         "Mexico",
         78.0,
         75.26,
         72.44
        ],
        [
         "Nicaragua",
         77.58,
         75.1,
         72.46
        ],
        [
         "Grenada",
         78.5,
         75.37,
         72.52
        ],
        [
         "Romania",
         79.68,
         76.09,
         72.56
        ],
        [
         "Curaçao",
         80.96,
         76.99,
         72.66
        ],
        [
         "Brazil",
         79.15,
         76.02,
         72.95
        ],
        [
         "Cabo Verde",
         79.37,
         76.22,
         73.05
        ],
        [
         "Bangladesh",
         76.67,
         74.93,
         73.3
        ],
        [
         "Morocco",
         77.78,
         75.49,
         73.35
        ],
        [
         "Brunei",
         77.73,
         75.5,
         73.49
        ],
        [
         "Guam",
         81.59,
         77.42,
         73.66
        ],
        [
         "Serbia",
         80.18,
         76.94,
         73.68
        ],
        [
         "Barbados",
         78.76,
         76.33,
         73.75
        ],
        [
         "Aruba",
         78.92,
         76.5,
         73.85
        ],
        [
         "Hungary",
         80.33,
         77.18,
         73.89
        ],
        [
         "Montenegro",
         80.45,
         77.25,
         73.92
        ],
        [
         "Tunisia",
         79.33,
         76.71,
         74.13
        ],
        [
         "Mayotte",
         78.51,
         76.24,
         74.27
        ],
        [
         "French Guiana",
         80.15,
         77.18,
         74.33
        ],
        [
         "Uruguay",
         82.04,
         78.29,
         74.38
        ],
        [
         "Malaysia",
         79.52,
         76.82,
         74.45
        ],
        [
         "Sri Lanka",
         80.75,
         77.67,
         74.45
        ],
        [
         "Turkey",
         80.34,
         77.42,
         74.62
        ],
        [
         "Bosnia and Herzegovina",
         81.07,
         78.04,
         74.65
        ],
        [
         "Antigua and Barbuda",
         80.45,
         77.77,
         74.74
        ],
        [
         "Ecuador",
         80.31,
         77.58,
         74.88
        ],
        [
         "Argentina",
         80.02,
         77.54,
         74.98
        ],
        [
         "Algeria",
         77.91,
         76.48,
         75.1
        ],
        [
         "Poland",
         82.49,
         78.81,
         75.1
        ],
        [
         "Estonia",
         83.17,
         79.31,
         75.12
        ],
        [
         "Colombia",
         80.61,
         77.91,
         75.16
        ],
        [
         "Slovakia",
         81.71,
         78.49,
         75.21
        ],
        [
         "China",
         80.97,
         78.02,
         75.25
        ],
        [
         "North Macedonia",
         79.71,
         77.54,
         75.26
        ],
        [
         "Croatia",
         81.82,
         78.75,
         75.6
        ],
        [
         "Peru",
         80.3,
         77.94,
         75.63
        ],
        [
         "Cuba",
         80.68,
         78.26,
         75.86
        ],
        [
         "Lebanon",
         79.86,
         77.95,
         75.88
        ],
        [
         "Jordan",
         80.34,
         77.98,
         75.89
        ],
        [
         "Iran",
         79.81,
         77.85,
         76.0
        ],
        [
         "New Caledonia",
         81.41,
         78.92,
         76.46
        ],
        [
         "Panama",
         82.71,
         79.78,
         76.88
        ],
        [
         "United States",
         81.98,
         79.46,
         77.05
        ],
        [
         "Czech Republic (Czechia)",
         82.75,
         79.97,
         77.18
        ],
        [
         "Saudi Arabia",
         81.33,
         78.98,
         77.33
        ],
        [
         "Taiwan",
         83.75,
         80.75,
         77.86
        ],
        [
         "Albania",
         81.59,
         79.78,
         77.92
        ],
        [
         "Puerto Rico",
         85.38,
         81.9,
         78.28
        ],
        [
         "Guadeloupe",
         85.65,
         82.24,
         78.35
        ],
        [
         "Costa Rica",
         83.58,
         81.0,
         78.37
        ],
        [
         "Oman",
         82.05,
         80.25,
         78.72
        ],
        [
         "Slovenia",
         84.47,
         81.78,
         79.11
        ],
        [
         "Germany",
         83.88,
         81.54,
         79.21
        ],
        [
         "Finland",
         84.79,
         82.08,
         79.38
        ],
        [
         "Chile",
         83.23,
         81.36,
         79.45
        ],
        [
         "Kuwait",
         82.0,
         80.6,
         79.45
        ],
        [
         "Martinique",
         85.73,
         82.74,
         79.45
        ],
        [
         "Greece",
         84.46,
         82.03,
         79.5
        ],
        [
         "United Kingdom",
         83.33,
         81.45,
         79.54
        ],
        [
         "Portugal",
         85.25,
         82.55,
         79.68
        ],
        [
         "Austria",
         84.45,
         82.12,
         79.75
        ],
        [
         "Cyprus",
         83.8,
         81.82,
         79.84
        ],
        [
         "Maldives",
         83.0,
         81.29,
         79.95
        ],
        [
         "Belgium",
         84.45,
         82.27,
         80.06
        ],
        [
         "Denmark",
         83.98,
         82.09,
         80.21
        ],
        [
         "Canada",
         84.91,
         82.72,
         80.53
        ],
        [
         "Ireland",
         84.61,
         82.58,
         80.58
        ],
        [
         "France",
         86.2,
         83.46,
         80.59
        ],
        [
         "New Zealand",
         83.89,
         82.25,
         80.6
        ],
        [
         "Israel",
         84.71,
         82.73,
         80.67
        ],
        [
         "Réunion",
         86.45,
         83.67,
         80.67
        ],
        [
         "Netherlands",
         83.85,
         82.3,
         80.72
        ],
        [
         "Luxembourg",
         83.94,
         82.36,
         80.75
        ],
        [
         "Bahrain",
         82.13,
         81.42,
         80.86
        ],
        [
         "Macao",
         85.35,
         83.23,
         81.05
        ],
        [
         "Spain",
         86.44,
         83.8,
         81.1
        ],
        [
         "South Korea",
         87.28,
         84.43,
         81.32
        ],
        [
         "Singapore",
         86.36,
         83.86,
         81.38
        ],
        [
         "Malta",
         85.39,
         83.47,
         81.48
        ],
        [
         "Iceland",
         84.47,
         83.01,
         81.63
        ],
        [
         "Sweden",
         85.22,
         83.42,
         81.65
        ],
        [
         "Italy",
         85.87,
         83.87,
         81.75
        ],
        [
         "Qatar",
         83.48,
         82.52,
         81.78
        ],
        [
         "Japan",
         87.88,
         84.85,
         81.83
        ],
        [
         "French Polynesia",
         86.62,
         84.19,
         81.9
        ],
        [
         "Norway",
         84.97,
         83.46,
         81.94
        ],
        [
         "Switzerland",
         85.95,
         84.09,
         82.17
        ],
        [
         "United Arab Emirates",
         84.32,
         83.07,
         82.17
        ],
        [
         "Australia",
         85.85,
         84.07,
         82.28
        ],
        [
         "Hong Kong",
         88.26,
         85.63,
         82.97
        ],
        [
         "Micronesia",
         149.22,
         143.28,
         137.64
        ]
       ],
       "datasetInfos": [],
       "dbfsResultPath": null,
       "isJsonSchema": true,
       "metadata": {},
       "overflow": false,
       "plotOptions": {
        "customPlotOptions": {},
        "displayType": "table",
        "pivotAggregation": null,
        "pivotColumns": null,
        "xColumns": null,
        "yColumns": null
       },
       "removedWidgets": [],
       "schema": [
        {
         "metadata": "{}",
         "name": "Country",
         "type": "\"string\""
        },
        {
         "metadata": "{}",
         "name": "Sum of Females  Life Expectancy",
         "type": "\"double\""
        },
        {
         "metadata": "{}",
         "name": "Sum of Life Expectancy  (both sexes)",
         "type": "\"double\""
        },
        {
         "metadata": "{}",
         "name": "Sum of Males  Life Expectancy",
         "type": "\"double\""
        }
       ],
       "type": "table"
      }
     },
     "output_type": "display_data"
    }
   ],
   "source": [
    "# Filtrando expectativa maior que 75\n",
    "df_filtered = df.filter(df[\"`Sum of Females  Life Expectancy`\"] > 75)\n",
    "display(df_filtered)"
   ]
  },
  {
   "cell_type": "code",
   "execution_count": 0,
   "metadata": {
    "application/vnd.databricks.v1+cell": {
     "cellMetadata": {
      "byteLimit": 2048000,
      "rowLimit": 10000
     },
     "inputWidgets": {},
     "nuid": "726cd670-c8df-44f1-bdd6-ea71b71e0259",
     "showTitle": false,
     "tableResultSettingsMap": {},
     "title": ""
    }
   },
   "outputs": [
    {
     "output_type": "stream",
     "name": "stdout",
     "output_type": "stream",
     "text": [
      "['Country', 'Sum of Females  Life Expectancy', 'Sum of Life Expectancy  (both sexes)', 'Sum of Males  Life Expectancy']\n"
     ]
    }
   ],
   "source": [
    "print(df.columns)"
   ]
  },
  {
   "cell_type": "code",
   "execution_count": 0,
   "metadata": {
    "application/vnd.databricks.v1+cell": {
     "cellMetadata": {
      "byteLimit": 2048000,
      "rowLimit": 10000
     },
     "inputWidgets": {},
     "nuid": "c4cb7098-4486-45b9-817f-3a3bb1e15722",
     "showTitle": false,
     "tableResultSettingsMap": {},
     "title": ""
    }
   },
   "outputs": [
    {
     "output_type": "display_data",
     "data": {
      "text/html": [
       "<style scoped>\n",
       "  .table-result-container {\n",
       "    max-height: 300px;\n",
       "    overflow: auto;\n",
       "  }\n",
       "  table, th, td {\n",
       "    border: 1px solid black;\n",
       "    border-collapse: collapse;\n",
       "  }\n",
       "  th, td {\n",
       "    padding: 5px;\n",
       "  }\n",
       "  th {\n",
       "    text-align: left;\n",
       "  }\n",
       "</style><div class='table-result-container'><table class='table-result'><thead style='background-color: white'><tr><th>Country</th><th>Sum of Females  Life Expectancy</th><th>Sum of Life Expectancy  (both sexes)</th><th>Sum of Males  Life Expectancy</th></tr></thead><tbody><tr><td>Moldova</td><td>75.67</td><td>71.33</td><td>66.7</td></tr><tr><td>Russia</td><td>79.19</td><td>73.34</td><td>67.48</td></tr><tr><td>Mongolia</td><td>76.66</td><td>71.99</td><td>67.49</td></tr><tr><td>El Salvador</td><td>76.49</td><td>72.3</td><td>67.76</td></tr><tr><td>Kyrgyzstan</td><td>75.4</td><td>71.82</td><td>68.31</td></tr><tr><td>Venezuela</td><td>76.66</td><td>72.67</td><td>68.89</td></tr><tr><td>Saint Lucia</td><td>76.45</td><td>72.85</td><td>69.45</td></tr><tr><td>Tonga</td><td>76.54</td><td>73.07</td><td>69.5</td></tr><tr><td>Uzbekistan</td><td>75.55</td><td>72.53</td><td>69.56</td></tr><tr><td>Belarus</td><td>79.22</td><td>74.62</td><td>69.74</td></tr><tr><td>Georgia</td><td>79.23</td><td>74.66</td><td>69.75</td></tr><tr><td>Ukraine</td><td>79.39</td><td>74.69</td><td>69.79</td></tr><tr><td>Vietnam</td><td>79.38</td><td>74.74</td><td>70.05</td></tr><tr><td>Seychelles</td><td>76.66</td><td>72.99</td><td>70.08</td></tr><tr><td>Kazakhstan</td><td>78.52</td><td>74.53</td><td>70.27</td></tr><tr><td>Guatemala</td><td>75.04</td><td>72.75</td><td>70.44</td></tr><tr><td>Honduras</td><td>75.67</td><td>73.04</td><td>70.49</td></tr><tr><td>Trinidad and Tobago</td><td>76.83</td><td>73.62</td><td>70.51</td></tr><tr><td>Suriname</td><td>76.98</td><td>73.76</td><td>70.6</td></tr><tr><td>Dominican Republic</td><td>77.11</td><td>73.87</td><td>70.66</td></tr><tr><td>U.S. Virgin Islands</td><td>81.48</td><td>75.7</td><td>70.73</td></tr><tr><td>Paraguay</td><td>77.09</td><td>73.98</td><td>71.01</td></tr><tr><td>Bahamas</td><td>78.33</td><td>74.71</td><td>71.06</td></tr><tr><td>Belize</td><td>76.66</td><td>73.74</td><td>71.08</td></tr><tr><td>Lithuania</td><td>80.8</td><td>76.17</td><td>71.42</td></tr><tr><td>North Korea</td><td>75.88</td><td>73.74</td><td>71.55</td></tr><tr><td>Bhutan</td><td>75.27</td><td>73.26</td><td>71.57</td></tr><tr><td>Armenia</td><td>79.6</td><td>75.85</td><td>71.58</td></tr><tr><td>Azerbaijan</td><td>77.29</td><td>74.58</td><td>71.71</td></tr><tr><td>Latvia</td><td>80.6</td><td>76.33</td><td>71.75</td></tr><tr><td>Mauritius</td><td>78.34</td><td>75.1</td><td>72.11</td></tr><tr><td>Bulgaria</td><td>79.36</td><td>75.8</td><td>72.33</td></tr><tr><td>Thailand</td><td>80.98</td><td>76.56</td><td>72.34</td></tr><tr><td>Mexico</td><td>78.0</td><td>75.26</td><td>72.44</td></tr><tr><td>Nicaragua</td><td>77.58</td><td>75.1</td><td>72.46</td></tr><tr><td>Grenada</td><td>78.5</td><td>75.37</td><td>72.52</td></tr><tr><td>Romania</td><td>79.68</td><td>76.09</td><td>72.56</td></tr><tr><td>Curaçao</td><td>80.96</td><td>76.99</td><td>72.66</td></tr><tr><td>Brazil</td><td>79.15</td><td>76.02</td><td>72.95</td></tr><tr><td>Cabo Verde</td><td>79.37</td><td>76.22</td><td>73.05</td></tr><tr><td>Bangladesh</td><td>76.67</td><td>74.93</td><td>73.3</td></tr><tr><td>Morocco</td><td>77.78</td><td>75.49</td><td>73.35</td></tr><tr><td>Brunei</td><td>77.73</td><td>75.5</td><td>73.49</td></tr><tr><td>Guam</td><td>81.59</td><td>77.42</td><td>73.66</td></tr><tr><td>Serbia</td><td>80.18</td><td>76.94</td><td>73.68</td></tr><tr><td>Barbados</td><td>78.76</td><td>76.33</td><td>73.75</td></tr><tr><td>Aruba</td><td>78.92</td><td>76.5</td><td>73.85</td></tr><tr><td>Hungary</td><td>80.33</td><td>77.18</td><td>73.89</td></tr><tr><td>Montenegro</td><td>80.45</td><td>77.25</td><td>73.92</td></tr><tr><td>Tunisia</td><td>79.33</td><td>76.71</td><td>74.13</td></tr><tr><td>Mayotte</td><td>78.51</td><td>76.24</td><td>74.27</td></tr><tr><td>French Guiana</td><td>80.15</td><td>77.18</td><td>74.33</td></tr><tr><td>Uruguay</td><td>82.04</td><td>78.29</td><td>74.38</td></tr><tr><td>Malaysia</td><td>79.52</td><td>76.82</td><td>74.45</td></tr><tr><td>Sri Lanka</td><td>80.75</td><td>77.67</td><td>74.45</td></tr><tr><td>Turkey</td><td>80.34</td><td>77.42</td><td>74.62</td></tr><tr><td>Bosnia and Herzegovina</td><td>81.07</td><td>78.04</td><td>74.65</td></tr><tr><td>Antigua and Barbuda</td><td>80.45</td><td>77.77</td><td>74.74</td></tr><tr><td>Ecuador</td><td>80.31</td><td>77.58</td><td>74.88</td></tr><tr><td>Argentina</td><td>80.02</td><td>77.54</td><td>74.98</td></tr><tr><td>Algeria</td><td>77.91</td><td>76.48</td><td>75.1</td></tr><tr><td>Poland</td><td>82.49</td><td>78.81</td><td>75.1</td></tr><tr><td>Estonia</td><td>83.17</td><td>79.31</td><td>75.12</td></tr><tr><td>Colombia</td><td>80.61</td><td>77.91</td><td>75.16</td></tr><tr><td>Slovakia</td><td>81.71</td><td>78.49</td><td>75.21</td></tr><tr><td>China</td><td>80.97</td><td>78.02</td><td>75.25</td></tr><tr><td>North Macedonia</td><td>79.71</td><td>77.54</td><td>75.26</td></tr><tr><td>Croatia</td><td>81.82</td><td>78.75</td><td>75.6</td></tr><tr><td>Peru</td><td>80.3</td><td>77.94</td><td>75.63</td></tr><tr><td>Cuba</td><td>80.68</td><td>78.26</td><td>75.86</td></tr><tr><td>Lebanon</td><td>79.86</td><td>77.95</td><td>75.88</td></tr><tr><td>Jordan</td><td>80.34</td><td>77.98</td><td>75.89</td></tr><tr><td>Iran</td><td>79.81</td><td>77.85</td><td>76.0</td></tr><tr><td>New Caledonia</td><td>81.41</td><td>78.92</td><td>76.46</td></tr><tr><td>Panama</td><td>82.71</td><td>79.78</td><td>76.88</td></tr><tr><td>United States</td><td>81.98</td><td>79.46</td><td>77.05</td></tr><tr><td>Czech Republic (Czechia)</td><td>82.75</td><td>79.97</td><td>77.18</td></tr><tr><td>Saudi Arabia</td><td>81.33</td><td>78.98</td><td>77.33</td></tr><tr><td>Taiwan</td><td>83.75</td><td>80.75</td><td>77.86</td></tr><tr><td>Albania</td><td>81.59</td><td>79.78</td><td>77.92</td></tr><tr><td>Puerto Rico</td><td>85.38</td><td>81.9</td><td>78.28</td></tr><tr><td>Guadeloupe</td><td>85.65</td><td>82.24</td><td>78.35</td></tr><tr><td>Costa Rica</td><td>83.58</td><td>81.0</td><td>78.37</td></tr><tr><td>Oman</td><td>82.05</td><td>80.25</td><td>78.72</td></tr><tr><td>Slovenia</td><td>84.47</td><td>81.78</td><td>79.11</td></tr><tr><td>Germany</td><td>83.88</td><td>81.54</td><td>79.21</td></tr><tr><td>Finland</td><td>84.79</td><td>82.08</td><td>79.38</td></tr><tr><td>Chile</td><td>83.23</td><td>81.36</td><td>79.45</td></tr><tr><td>Kuwait</td><td>82.0</td><td>80.6</td><td>79.45</td></tr><tr><td>Martinique</td><td>85.73</td><td>82.74</td><td>79.45</td></tr><tr><td>Greece</td><td>84.46</td><td>82.03</td><td>79.5</td></tr><tr><td>United Kingdom</td><td>83.33</td><td>81.45</td><td>79.54</td></tr><tr><td>Portugal</td><td>85.25</td><td>82.55</td><td>79.68</td></tr><tr><td>Austria</td><td>84.45</td><td>82.12</td><td>79.75</td></tr><tr><td>Cyprus</td><td>83.8</td><td>81.82</td><td>79.84</td></tr><tr><td>Maldives</td><td>83.0</td><td>81.29</td><td>79.95</td></tr><tr><td>Belgium</td><td>84.45</td><td>82.27</td><td>80.06</td></tr><tr><td>Denmark</td><td>83.98</td><td>82.09</td><td>80.21</td></tr><tr><td>Canada</td><td>84.91</td><td>82.72</td><td>80.53</td></tr><tr><td>Ireland</td><td>84.61</td><td>82.58</td><td>80.58</td></tr><tr><td>France</td><td>86.2</td><td>83.46</td><td>80.59</td></tr><tr><td>New Zealand</td><td>83.89</td><td>82.25</td><td>80.6</td></tr><tr><td>Israel</td><td>84.71</td><td>82.73</td><td>80.67</td></tr><tr><td>Réunion</td><td>86.45</td><td>83.67</td><td>80.67</td></tr><tr><td>Netherlands</td><td>83.85</td><td>82.3</td><td>80.72</td></tr><tr><td>Luxembourg</td><td>83.94</td><td>82.36</td><td>80.75</td></tr><tr><td>Bahrain</td><td>82.13</td><td>81.42</td><td>80.86</td></tr><tr><td>Macao</td><td>85.35</td><td>83.23</td><td>81.05</td></tr><tr><td>Spain</td><td>86.44</td><td>83.8</td><td>81.1</td></tr><tr><td>South Korea</td><td>87.28</td><td>84.43</td><td>81.32</td></tr><tr><td>Singapore</td><td>86.36</td><td>83.86</td><td>81.38</td></tr><tr><td>Malta</td><td>85.39</td><td>83.47</td><td>81.48</td></tr><tr><td>Iceland</td><td>84.47</td><td>83.01</td><td>81.63</td></tr><tr><td>Sweden</td><td>85.22</td><td>83.42</td><td>81.65</td></tr><tr><td>Italy</td><td>85.87</td><td>83.87</td><td>81.75</td></tr><tr><td>Qatar</td><td>83.48</td><td>82.52</td><td>81.78</td></tr><tr><td>Japan</td><td>87.88</td><td>84.85</td><td>81.83</td></tr><tr><td>French Polynesia</td><td>86.62</td><td>84.19</td><td>81.9</td></tr><tr><td>Norway</td><td>84.97</td><td>83.46</td><td>81.94</td></tr><tr><td>Switzerland</td><td>85.95</td><td>84.09</td><td>82.17</td></tr><tr><td>United Arab Emirates</td><td>84.32</td><td>83.07</td><td>82.17</td></tr><tr><td>Australia</td><td>85.85</td><td>84.07</td><td>82.28</td></tr><tr><td>Hong Kong</td><td>88.26</td><td>85.63</td><td>82.97</td></tr><tr><td>Micronesia</td><td>149.22</td><td>143.28</td><td>137.64</td></tr></tbody></table></div>"
      ]
     },
     "metadata": {
      "application/vnd.databricks.v1+output": {
       "addedWidgets": {},
       "aggData": [],
       "aggError": "",
       "aggOverflow": false,
       "aggSchema": [],
       "aggSeriesLimitReached": false,
       "aggType": "",
       "arguments": {},
       "columnCustomDisplayInfos": {},
       "data": [
        [
         "Moldova",
         75.67,
         71.33,
         66.7
        ],
        [
         "Russia",
         79.19,
         73.34,
         67.48
        ],
        [
         "Mongolia",
         76.66,
         71.99,
         67.49
        ],
        [
         "El Salvador",
         76.49,
         72.3,
         67.76
        ],
        [
         "Kyrgyzstan",
         75.4,
         71.82,
         68.31
        ],
        [
         "Venezuela",
         76.66,
         72.67,
         68.89
        ],
        [
         "Saint Lucia",
         76.45,
         72.85,
         69.45
        ],
        [
         "Tonga",
         76.54,
         73.07,
         69.5
        ],
        [
         "Uzbekistan",
         75.55,
         72.53,
         69.56
        ],
        [
         "Belarus",
         79.22,
         74.62,
         69.74
        ],
        [
         "Georgia",
         79.23,
         74.66,
         69.75
        ],
        [
         "Ukraine",
         79.39,
         74.69,
         69.79
        ],
        [
         "Vietnam",
         79.38,
         74.74,
         70.05
        ],
        [
         "Seychelles",
         76.66,
         72.99,
         70.08
        ],
        [
         "Kazakhstan",
         78.52,
         74.53,
         70.27
        ],
        [
         "Guatemala",
         75.04,
         72.75,
         70.44
        ],
        [
         "Honduras",
         75.67,
         73.04,
         70.49
        ],
        [
         "Trinidad and Tobago",
         76.83,
         73.62,
         70.51
        ],
        [
         "Suriname",
         76.98,
         73.76,
         70.6
        ],
        [
         "Dominican Republic",
         77.11,
         73.87,
         70.66
        ],
        [
         "U.S. Virgin Islands",
         81.48,
         75.7,
         70.73
        ],
        [
         "Paraguay",
         77.09,
         73.98,
         71.01
        ],
        [
         "Bahamas",
         78.33,
         74.71,
         71.06
        ],
        [
         "Belize",
         76.66,
         73.74,
         71.08
        ],
        [
         "Lithuania",
         80.8,
         76.17,
         71.42
        ],
        [
         "North Korea",
         75.88,
         73.74,
         71.55
        ],
        [
         "Bhutan",
         75.27,
         73.26,
         71.57
        ],
        [
         "Armenia",
         79.6,
         75.85,
         71.58
        ],
        [
         "Azerbaijan",
         77.29,
         74.58,
         71.71
        ],
        [
         "Latvia",
         80.6,
         76.33,
         71.75
        ],
        [
         "Mauritius",
         78.34,
         75.1,
         72.11
        ],
        [
         "Bulgaria",
         79.36,
         75.8,
         72.33
        ],
        [
         "Thailand",
         80.98,
         76.56,
         72.34
        ],
        [
         "Mexico",
         78.0,
         75.26,
         72.44
        ],
        [
         "Nicaragua",
         77.58,
         75.1,
         72.46
        ],
        [
         "Grenada",
         78.5,
         75.37,
         72.52
        ],
        [
         "Romania",
         79.68,
         76.09,
         72.56
        ],
        [
         "Curaçao",
         80.96,
         76.99,
         72.66
        ],
        [
         "Brazil",
         79.15,
         76.02,
         72.95
        ],
        [
         "Cabo Verde",
         79.37,
         76.22,
         73.05
        ],
        [
         "Bangladesh",
         76.67,
         74.93,
         73.3
        ],
        [
         "Morocco",
         77.78,
         75.49,
         73.35
        ],
        [
         "Brunei",
         77.73,
         75.5,
         73.49
        ],
        [
         "Guam",
         81.59,
         77.42,
         73.66
        ],
        [
         "Serbia",
         80.18,
         76.94,
         73.68
        ],
        [
         "Barbados",
         78.76,
         76.33,
         73.75
        ],
        [
         "Aruba",
         78.92,
         76.5,
         73.85
        ],
        [
         "Hungary",
         80.33,
         77.18,
         73.89
        ],
        [
         "Montenegro",
         80.45,
         77.25,
         73.92
        ],
        [
         "Tunisia",
         79.33,
         76.71,
         74.13
        ],
        [
         "Mayotte",
         78.51,
         76.24,
         74.27
        ],
        [
         "French Guiana",
         80.15,
         77.18,
         74.33
        ],
        [
         "Uruguay",
         82.04,
         78.29,
         74.38
        ],
        [
         "Malaysia",
         79.52,
         76.82,
         74.45
        ],
        [
         "Sri Lanka",
         80.75,
         77.67,
         74.45
        ],
        [
         "Turkey",
         80.34,
         77.42,
         74.62
        ],
        [
         "Bosnia and Herzegovina",
         81.07,
         78.04,
         74.65
        ],
        [
         "Antigua and Barbuda",
         80.45,
         77.77,
         74.74
        ],
        [
         "Ecuador",
         80.31,
         77.58,
         74.88
        ],
        [
         "Argentina",
         80.02,
         77.54,
         74.98
        ],
        [
         "Algeria",
         77.91,
         76.48,
         75.1
        ],
        [
         "Poland",
         82.49,
         78.81,
         75.1
        ],
        [
         "Estonia",
         83.17,
         79.31,
         75.12
        ],
        [
         "Colombia",
         80.61,
         77.91,
         75.16
        ],
        [
         "Slovakia",
         81.71,
         78.49,
         75.21
        ],
        [
         "China",
         80.97,
         78.02,
         75.25
        ],
        [
         "North Macedonia",
         79.71,
         77.54,
         75.26
        ],
        [
         "Croatia",
         81.82,
         78.75,
         75.6
        ],
        [
         "Peru",
         80.3,
         77.94,
         75.63
        ],
        [
         "Cuba",
         80.68,
         78.26,
         75.86
        ],
        [
         "Lebanon",
         79.86,
         77.95,
         75.88
        ],
        [
         "Jordan",
         80.34,
         77.98,
         75.89
        ],
        [
         "Iran",
         79.81,
         77.85,
         76.0
        ],
        [
         "New Caledonia",
         81.41,
         78.92,
         76.46
        ],
        [
         "Panama",
         82.71,
         79.78,
         76.88
        ],
        [
         "United States",
         81.98,
         79.46,
         77.05
        ],
        [
         "Czech Republic (Czechia)",
         82.75,
         79.97,
         77.18
        ],
        [
         "Saudi Arabia",
         81.33,
         78.98,
         77.33
        ],
        [
         "Taiwan",
         83.75,
         80.75,
         77.86
        ],
        [
         "Albania",
         81.59,
         79.78,
         77.92
        ],
        [
         "Puerto Rico",
         85.38,
         81.9,
         78.28
        ],
        [
         "Guadeloupe",
         85.65,
         82.24,
         78.35
        ],
        [
         "Costa Rica",
         83.58,
         81.0,
         78.37
        ],
        [
         "Oman",
         82.05,
         80.25,
         78.72
        ],
        [
         "Slovenia",
         84.47,
         81.78,
         79.11
        ],
        [
         "Germany",
         83.88,
         81.54,
         79.21
        ],
        [
         "Finland",
         84.79,
         82.08,
         79.38
        ],
        [
         "Chile",
         83.23,
         81.36,
         79.45
        ],
        [
         "Kuwait",
         82.0,
         80.6,
         79.45
        ],
        [
         "Martinique",
         85.73,
         82.74,
         79.45
        ],
        [
         "Greece",
         84.46,
         82.03,
         79.5
        ],
        [
         "United Kingdom",
         83.33,
         81.45,
         79.54
        ],
        [
         "Portugal",
         85.25,
         82.55,
         79.68
        ],
        [
         "Austria",
         84.45,
         82.12,
         79.75
        ],
        [
         "Cyprus",
         83.8,
         81.82,
         79.84
        ],
        [
         "Maldives",
         83.0,
         81.29,
         79.95
        ],
        [
         "Belgium",
         84.45,
         82.27,
         80.06
        ],
        [
         "Denmark",
         83.98,
         82.09,
         80.21
        ],
        [
         "Canada",
         84.91,
         82.72,
         80.53
        ],
        [
         "Ireland",
         84.61,
         82.58,
         80.58
        ],
        [
         "France",
         86.2,
         83.46,
         80.59
        ],
        [
         "New Zealand",
         83.89,
         82.25,
         80.6
        ],
        [
         "Israel",
         84.71,
         82.73,
         80.67
        ],
        [
         "Réunion",
         86.45,
         83.67,
         80.67
        ],
        [
         "Netherlands",
         83.85,
         82.3,
         80.72
        ],
        [
         "Luxembourg",
         83.94,
         82.36,
         80.75
        ],
        [
         "Bahrain",
         82.13,
         81.42,
         80.86
        ],
        [
         "Macao",
         85.35,
         83.23,
         81.05
        ],
        [
         "Spain",
         86.44,
         83.8,
         81.1
        ],
        [
         "South Korea",
         87.28,
         84.43,
         81.32
        ],
        [
         "Singapore",
         86.36,
         83.86,
         81.38
        ],
        [
         "Malta",
         85.39,
         83.47,
         81.48
        ],
        [
         "Iceland",
         84.47,
         83.01,
         81.63
        ],
        [
         "Sweden",
         85.22,
         83.42,
         81.65
        ],
        [
         "Italy",
         85.87,
         83.87,
         81.75
        ],
        [
         "Qatar",
         83.48,
         82.52,
         81.78
        ],
        [
         "Japan",
         87.88,
         84.85,
         81.83
        ],
        [
         "French Polynesia",
         86.62,
         84.19,
         81.9
        ],
        [
         "Norway",
         84.97,
         83.46,
         81.94
        ],
        [
         "Switzerland",
         85.95,
         84.09,
         82.17
        ],
        [
         "United Arab Emirates",
         84.32,
         83.07,
         82.17
        ],
        [
         "Australia",
         85.85,
         84.07,
         82.28
        ],
        [
         "Hong Kong",
         88.26,
         85.63,
         82.97
        ],
        [
         "Micronesia",
         149.22,
         143.28,
         137.64
        ]
       ],
       "datasetInfos": [],
       "dbfsResultPath": null,
       "isJsonSchema": true,
       "metadata": {},
       "overflow": false,
       "plotOptions": {
        "customPlotOptions": {},
        "displayType": "table",
        "pivotAggregation": null,
        "pivotColumns": null,
        "xColumns": null,
        "yColumns": null
       },
       "removedWidgets": [],
       "schema": [
        {
         "metadata": "{}",
         "name": "Country",
         "type": "\"string\""
        },
        {
         "metadata": "{}",
         "name": "Sum of Females  Life Expectancy",
         "type": "\"double\""
        },
        {
         "metadata": "{}",
         "name": "Sum of Life Expectancy  (both sexes)",
         "type": "\"double\""
        },
        {
         "metadata": "{}",
         "name": "Sum of Males  Life Expectancy",
         "type": "\"double\""
        }
       ],
       "type": "table"
      }
     },
     "output_type": "display_data"
    }
   ],
   "source": [
    "# Filtrando múltiplas condições\n",
    "df_filtered = df.filter(\n",
    "    (df[\"`Sum of Females  Life Expectancy`\"] > 75) & \n",
    "    (df[\"`Sum of Life Expectancy  (both sexes)`\"] > 70)\n",
    ")\n",
    "display(df_filtered)"
   ]
  },
  {
   "cell_type": "code",
   "execution_count": 0,
   "metadata": {
    "application/vnd.databricks.v1+cell": {
     "cellMetadata": {
      "byteLimit": 2048000,
      "rowLimit": 10000
     },
     "inputWidgets": {},
     "nuid": "a5a6e7ea-b075-4af3-9653-ad9348091b58",
     "showTitle": false,
     "tableResultSettingsMap": {},
     "title": ""
    }
   },
   "outputs": [
    {
     "output_type": "display_data",
     "data": {
      "text/html": [
       "<style scoped>\n",
       "  .table-result-container {\n",
       "    max-height: 300px;\n",
       "    overflow: auto;\n",
       "  }\n",
       "  table, th, td {\n",
       "    border: 1px solid black;\n",
       "    border-collapse: collapse;\n",
       "  }\n",
       "  th, td {\n",
       "    padding: 5px;\n",
       "  }\n",
       "  th {\n",
       "    text-align: left;\n",
       "  }\n",
       "</style><div class='table-result-container'><table class='table-result'><thead style='background-color: white'><tr><th>Country</th><th>Sum of Females  Life Expectancy</th><th>Sum of Life Expectancy  (both sexes)</th><th>Sum of Males  Life Expectancy</th></tr></thead><tbody><tr><td>Namibia</td><td>71.48</td><td>67.52</td><td>63.45</td></tr><tr><td>Myanmar</td><td>70.38</td><td>67.1</td><td>63.99</td></tr><tr><td>Malawi</td><td>70.77</td><td>67.56</td><td>64.27</td></tr><tr><td>Ethiopia</td><td>71.02</td><td>67.6</td><td>64.36</td></tr><tr><td>Tanzania</td><td>70.0</td><td>67.21</td><td>64.4</td></tr><tr><td>State of Palestine</td><td>74.25</td><td>69.21</td><td>65.22</td></tr><tr><td>Pakistan</td><td>70.32</td><td>67.8</td><td>65.46</td></tr><tr><td>Uganda</td><td>71.37</td><td>68.49</td><td>65.49</td></tr><tr><td>Rwanda</td><td>70.14</td><td>68.02</td><td>65.71</td></tr><tr><td>Gabon</td><td>71.24</td><td>68.51</td><td>66.06</td></tr><tr><td>Bolivia</td><td>71.32</td><td>68.74</td><td>66.27</td></tr><tr><td>Sao Tome & Principe</td><td>73.91</td><td>69.91</td><td>66.41</td></tr><tr><td>Guyana</td><td>74.09</td><td>70.32</td><td>66.62</td></tr><tr><td>Mauritania</td><td>70.73</td><td>68.71</td><td>66.7</td></tr><tr><td>Moldova</td><td>75.67</td><td>71.33</td><td>66.7</td></tr><tr><td>Eritrea</td><td>70.94</td><td>68.89</td><td>66.76</td></tr><tr><td>Botswana</td><td>71.85</td><td>69.29</td><td>66.78</td></tr><tr><td>Philippines</td><td>72.96</td><td>69.95</td><td>66.99</td></tr><tr><td>Turkmenistan</td><td>73.01</td><td>70.2</td><td>67.0</td></tr><tr><td>Senegal</td><td>71.01</td><td>68.92</td><td>67.01</td></tr><tr><td>Laos</td><td>71.53</td><td>69.23</td><td>67.02</td></tr><tr><td>Yemen</td><td>71.55</td><td>69.44</td><td>67.37</td></tr><tr><td>Russia</td><td>79.19</td><td>73.34</td><td>67.48</td></tr><tr><td>Mongolia</td><td>76.66</td><td>71.99</td><td>67.49</td></tr><tr><td>El Salvador</td><td>76.49</td><td>72.3</td><td>67.76</td></tr><tr><td>Cambodia</td><td>73.36</td><td>70.82</td><td>68.15</td></tr><tr><td>Kyrgyzstan</td><td>75.4</td><td>71.82</td><td>68.31</td></tr><tr><td>St. Vincent & Grenadines</td><td>74.48</td><td>71.38</td><td>68.78</td></tr><tr><td>Venezuela</td><td>76.66</td><td>72.67</td><td>68.89</td></tr><tr><td>Jamaica</td><td>74.15</td><td>71.61</td><td>69.08</td></tr><tr><td>Nepal</td><td>72.14</td><td>70.64</td><td>69.09</td></tr><tr><td>Indonesia</td><td>73.43</td><td>71.29</td><td>69.16</td></tr><tr><td>Solomon Islands</td><td>72.18</td><td>70.69</td><td>69.36</td></tr><tr><td>Saint Lucia</td><td>76.45</td><td>72.85</td><td>69.45</td></tr><tr><td>Tonga</td><td>76.54</td><td>73.07</td><td>69.5</td></tr><tr><td>Uzbekistan</td><td>75.55</td><td>72.53</td><td>69.56</td></tr><tr><td>Vanuatu</td><td>74.11</td><td>71.65</td><td>69.59</td></tr><tr><td>Libya</td><td>72.68</td><td>71.12</td><td>69.63</td></tr><tr><td>Egypt</td><td>74.01</td><td>71.81</td><td>69.65</td></tr><tr><td>Tajikistan</td><td>74.14</td><td>71.93</td><td>69.68</td></tr><tr><td>Belarus</td><td>79.22</td><td>74.62</td><td>69.74</td></tr><tr><td>Georgia</td><td>79.23</td><td>74.66</td><td>69.75</td></tr><tr><td>Ukraine</td><td>79.39</td><td>74.69</td><td>69.79</td></tr><tr><td>Western Sahara</td><td>73.77</td><td>71.58</td><td>69.87</td></tr><tr><td>Samoa</td><td>73.82</td><td>71.83</td><td>69.96</td></tr><tr><td>Vietnam</td><td>79.38</td><td>74.74</td><td>70.05</td></tr><tr><td>Seychelles</td><td>76.66</td><td>72.99</td><td>70.08</td></tr><tr><td>Syria</td><td>74.92</td><td>72.56</td><td>70.21</td></tr><tr><td>Kazakhstan</td><td>78.52</td><td>74.53</td><td>70.27</td></tr><tr><td>Guatemala</td><td>75.04</td><td>72.75</td><td>70.44</td></tr><tr><td>Honduras</td><td>75.67</td><td>73.04</td><td>70.49</td></tr><tr><td>Iraq</td><td>74.18</td><td>72.42</td><td>70.5</td></tr><tr><td>Trinidad and Tobago</td><td>76.83</td><td>73.62</td><td>70.51</td></tr><tr><td>Suriname</td><td>76.98</td><td>73.76</td><td>70.6</td></tr><tr><td>Dominican Republic</td><td>77.11</td><td>73.87</td><td>70.66</td></tr><tr><td>India</td><td>73.86</td><td>72.24</td><td>70.73</td></tr><tr><td>Paraguay</td><td>77.09</td><td>73.98</td><td>71.01</td></tr><tr><td>Bahamas</td><td>78.33</td><td>74.71</td><td>71.06</td></tr><tr><td>Belize</td><td>76.66</td><td>73.74</td><td>71.08</td></tr><tr><td>North Korea</td><td>75.88</td><td>73.74</td><td>71.55</td></tr><tr><td>Bhutan</td><td>75.27</td><td>73.26</td><td>71.57</td></tr><tr><td>Armenia</td><td>79.6</td><td>75.85</td><td>71.58</td></tr><tr><td>Azerbaijan</td><td>77.29</td><td>74.58</td><td>71.71</td></tr><tr><td>Mauritius</td><td>78.34</td><td>75.1</td><td>72.11</td></tr><tr><td>Bulgaria</td><td>79.36</td><td>75.8</td><td>72.33</td></tr><tr><td>Mexico</td><td>78.0</td><td>75.26</td><td>72.44</td></tr><tr><td>Nicaragua</td><td>77.58</td><td>75.1</td><td>72.46</td></tr><tr><td>Grenada</td><td>78.5</td><td>75.37</td><td>72.52</td></tr><tr><td>Romania</td><td>79.68</td><td>76.09</td><td>72.56</td></tr><tr><td>Brazil</td><td>79.15</td><td>76.02</td><td>72.95</td></tr><tr><td>Cabo Verde</td><td>79.37</td><td>76.22</td><td>73.05</td></tr><tr><td>Bangladesh</td><td>76.67</td><td>74.93</td><td>73.3</td></tr><tr><td>Morocco</td><td>77.78</td><td>75.49</td><td>73.35</td></tr><tr><td>Brunei</td><td>77.73</td><td>75.5</td><td>73.49</td></tr><tr><td>Barbados</td><td>78.76</td><td>76.33</td><td>73.75</td></tr><tr><td>Aruba</td><td>78.92</td><td>76.5</td><td>73.85</td></tr><tr><td>Tunisia</td><td>79.33</td><td>76.71</td><td>74.13</td></tr><tr><td>Mayotte</td><td>78.51</td><td>76.24</td><td>74.27</td></tr><tr><td>Malaysia</td><td>79.52</td><td>76.82</td><td>74.45</td></tr><tr><td>Algeria</td><td>77.91</td><td>76.48</td><td>75.1</td></tr><tr><td>North Macedonia</td><td>79.71</td><td>77.54</td><td>75.26</td></tr><tr><td>Lebanon</td><td>79.86</td><td>77.95</td><td>75.88</td></tr><tr><td>Iran</td><td>79.81</td><td>77.85</td><td>76.0</td></tr></tbody></table></div>"
      ]
     },
     "metadata": {
      "application/vnd.databricks.v1+output": {
       "addedWidgets": {},
       "aggData": [],
       "aggError": "",
       "aggOverflow": false,
       "aggSchema": [],
       "aggSeriesLimitReached": false,
       "aggType": "",
       "arguments": {},
       "columnCustomDisplayInfos": {},
       "data": [
        [
         "Namibia",
         71.48,
         67.52,
         63.45
        ],
        [
         "Myanmar",
         70.38,
         67.1,
         63.99
        ],
        [
         "Malawi",
         70.77,
         67.56,
         64.27
        ],
        [
         "Ethiopia",
         71.02,
         67.6,
         64.36
        ],
        [
         "Tanzania",
         70.0,
         67.21,
         64.4
        ],
        [
         "State of Palestine",
         74.25,
         69.21,
         65.22
        ],
        [
         "Pakistan",
         70.32,
         67.8,
         65.46
        ],
        [
         "Uganda",
         71.37,
         68.49,
         65.49
        ],
        [
         "Rwanda",
         70.14,
         68.02,
         65.71
        ],
        [
         "Gabon",
         71.24,
         68.51,
         66.06
        ],
        [
         "Bolivia",
         71.32,
         68.74,
         66.27
        ],
        [
         "Sao Tome & Principe",
         73.91,
         69.91,
         66.41
        ],
        [
         "Guyana",
         74.09,
         70.32,
         66.62
        ],
        [
         "Mauritania",
         70.73,
         68.71,
         66.7
        ],
        [
         "Moldova",
         75.67,
         71.33,
         66.7
        ],
        [
         "Eritrea",
         70.94,
         68.89,
         66.76
        ],
        [
         "Botswana",
         71.85,
         69.29,
         66.78
        ],
        [
         "Philippines",
         72.96,
         69.95,
         66.99
        ],
        [
         "Turkmenistan",
         73.01,
         70.2,
         67.0
        ],
        [
         "Senegal",
         71.01,
         68.92,
         67.01
        ],
        [
         "Laos",
         71.53,
         69.23,
         67.02
        ],
        [
         "Yemen",
         71.55,
         69.44,
         67.37
        ],
        [
         "Russia",
         79.19,
         73.34,
         67.48
        ],
        [
         "Mongolia",
         76.66,
         71.99,
         67.49
        ],
        [
         "El Salvador",
         76.49,
         72.3,
         67.76
        ],
        [
         "Cambodia",
         73.36,
         70.82,
         68.15
        ],
        [
         "Kyrgyzstan",
         75.4,
         71.82,
         68.31
        ],
        [
         "St. Vincent & Grenadines",
         74.48,
         71.38,
         68.78
        ],
        [
         "Venezuela",
         76.66,
         72.67,
         68.89
        ],
        [
         "Jamaica",
         74.15,
         71.61,
         69.08
        ],
        [
         "Nepal",
         72.14,
         70.64,
         69.09
        ],
        [
         "Indonesia",
         73.43,
         71.29,
         69.16
        ],
        [
         "Solomon Islands",
         72.18,
         70.69,
         69.36
        ],
        [
         "Saint Lucia",
         76.45,
         72.85,
         69.45
        ],
        [
         "Tonga",
         76.54,
         73.07,
         69.5
        ],
        [
         "Uzbekistan",
         75.55,
         72.53,
         69.56
        ],
        [
         "Vanuatu",
         74.11,
         71.65,
         69.59
        ],
        [
         "Libya",
         72.68,
         71.12,
         69.63
        ],
        [
         "Egypt",
         74.01,
         71.81,
         69.65
        ],
        [
         "Tajikistan",
         74.14,
         71.93,
         69.68
        ],
        [
         "Belarus",
         79.22,
         74.62,
         69.74
        ],
        [
         "Georgia",
         79.23,
         74.66,
         69.75
        ],
        [
         "Ukraine",
         79.39,
         74.69,
         69.79
        ],
        [
         "Western Sahara",
         73.77,
         71.58,
         69.87
        ],
        [
         "Samoa",
         73.82,
         71.83,
         69.96
        ],
        [
         "Vietnam",
         79.38,
         74.74,
         70.05
        ],
        [
         "Seychelles",
         76.66,
         72.99,
         70.08
        ],
        [
         "Syria",
         74.92,
         72.56,
         70.21
        ],
        [
         "Kazakhstan",
         78.52,
         74.53,
         70.27
        ],
        [
         "Guatemala",
         75.04,
         72.75,
         70.44
        ],
        [
         "Honduras",
         75.67,
         73.04,
         70.49
        ],
        [
         "Iraq",
         74.18,
         72.42,
         70.5
        ],
        [
         "Trinidad and Tobago",
         76.83,
         73.62,
         70.51
        ],
        [
         "Suriname",
         76.98,
         73.76,
         70.6
        ],
        [
         "Dominican Republic",
         77.11,
         73.87,
         70.66
        ],
        [
         "India",
         73.86,
         72.24,
         70.73
        ],
        [
         "Paraguay",
         77.09,
         73.98,
         71.01
        ],
        [
         "Bahamas",
         78.33,
         74.71,
         71.06
        ],
        [
         "Belize",
         76.66,
         73.74,
         71.08
        ],
        [
         "North Korea",
         75.88,
         73.74,
         71.55
        ],
        [
         "Bhutan",
         75.27,
         73.26,
         71.57
        ],
        [
         "Armenia",
         79.6,
         75.85,
         71.58
        ],
        [
         "Azerbaijan",
         77.29,
         74.58,
         71.71
        ],
        [
         "Mauritius",
         78.34,
         75.1,
         72.11
        ],
        [
         "Bulgaria",
         79.36,
         75.8,
         72.33
        ],
        [
         "Mexico",
         78.0,
         75.26,
         72.44
        ],
        [
         "Nicaragua",
         77.58,
         75.1,
         72.46
        ],
        [
         "Grenada",
         78.5,
         75.37,
         72.52
        ],
        [
         "Romania",
         79.68,
         76.09,
         72.56
        ],
        [
         "Brazil",
         79.15,
         76.02,
         72.95
        ],
        [
         "Cabo Verde",
         79.37,
         76.22,
         73.05
        ],
        [
         "Bangladesh",
         76.67,
         74.93,
         73.3
        ],
        [
         "Morocco",
         77.78,
         75.49,
         73.35
        ],
        [
         "Brunei",
         77.73,
         75.5,
         73.49
        ],
        [
         "Barbados",
         78.76,
         76.33,
         73.75
        ],
        [
         "Aruba",
         78.92,
         76.5,
         73.85
        ],
        [
         "Tunisia",
         79.33,
         76.71,
         74.13
        ],
        [
         "Mayotte",
         78.51,
         76.24,
         74.27
        ],
        [
         "Malaysia",
         79.52,
         76.82,
         74.45
        ],
        [
         "Algeria",
         77.91,
         76.48,
         75.1
        ],
        [
         "North Macedonia",
         79.71,
         77.54,
         75.26
        ],
        [
         "Lebanon",
         79.86,
         77.95,
         75.88
        ],
        [
         "Iran",
         79.81,
         77.85,
         76.0
        ]
       ],
       "datasetInfos": [],
       "dbfsResultPath": null,
       "isJsonSchema": true,
       "metadata": {},
       "overflow": false,
       "plotOptions": {
        "customPlotOptions": {},
        "displayType": "table",
        "pivotAggregation": null,
        "pivotColumns": null,
        "xColumns": null,
        "yColumns": null
       },
       "removedWidgets": [],
       "schema": [
        {
         "metadata": "{}",
         "name": "Country",
         "type": "\"string\""
        },
        {
         "metadata": "{}",
         "name": "Sum of Females  Life Expectancy",
         "type": "\"double\""
        },
        {
         "metadata": "{}",
         "name": "Sum of Life Expectancy  (both sexes)",
         "type": "\"double\""
        },
        {
         "metadata": "{}",
         "name": "Sum of Males  Life Expectancy",
         "type": "\"double\""
        }
       ],
       "type": "table"
      }
     },
     "output_type": "display_data"
    }
   ],
   "source": [
    "# Filtro between\n",
    "df_filtered = df.filter(df[\"`Sum of Females  Life Expectancy`\"].between(70, 80))\n",
    "display(df_filtered)"
   ]
  },
  {
   "cell_type": "code",
   "execution_count": 0,
   "metadata": {
    "application/vnd.databricks.v1+cell": {
     "cellMetadata": {
      "byteLimit": 2048000,
      "rowLimit": 10000
     },
     "inputWidgets": {},
     "nuid": "ed442729-edd5-4808-a640-9a86c78b135c",
     "showTitle": false,
     "tableResultSettingsMap": {},
     "title": ""
    }
   },
   "outputs": [
    {
     "output_type": "stream",
     "name": "stdout",
     "output_type": "stream",
     "text": [
      "['Pais', 'Expectativa_de_Vida_Mulheres', 'Expectativa_de_Vida_Geral', 'Expectativa_de_Vida_Homens']\n"
     ]
    }
   ],
   "source": [
    "# Renomeando as colunas\n",
    "df = df.withColumnRenamed(\"Sum of Females  Life Expectancy\", \"Expectativa_de_Vida_Mulheres\") \\\n",
    "       .withColumnRenamed(\"Sum of Life Expectancy  (both sexes)\", \"Expectativa_de_Vida_Geral\") \\\n",
    "       .withColumnRenamed(\"Sum of Males  Life Expectancy\", \"Expectativa_de_Vida_Homens\") \\\n",
    "       .withColumnRenamed(\"Country\", \"Pais\")\n",
    "\n",
    "print(df.columns)  # Verificar os novos nomes"
   ]
  },
  {
   "cell_type": "code",
   "execution_count": 0,
   "metadata": {
    "application/vnd.databricks.v1+cell": {
     "cellMetadata": {
      "byteLimit": 2048000,
      "rowLimit": 10000
     },
     "inputWidgets": {},
     "nuid": "7654284d-bbb2-4d58-9dd6-fab61750b657",
     "showTitle": false,
     "tableResultSettingsMap": {},
     "title": ""
    }
   },
   "outputs": [
    {
     "output_type": "display_data",
     "data": {
      "text/html": [
       "<style scoped>\n",
       "  .table-result-container {\n",
       "    max-height: 300px;\n",
       "    overflow: auto;\n",
       "  }\n",
       "  table, th, td {\n",
       "    border: 1px solid black;\n",
       "    border-collapse: collapse;\n",
       "  }\n",
       "  th, td {\n",
       "    padding: 5px;\n",
       "  }\n",
       "  th {\n",
       "    text-align: left;\n",
       "  }\n",
       "</style><div class='table-result-container'><table class='table-result'><thead style='background-color: white'><tr><th>Pais</th><th>Expectativa_de_Vida_Mulheres</th><th>Expectativa_de_Vida_Geral</th><th>Expectativa_de_Vida_Homens</th></tr></thead><tbody><tr><td>Namibia</td><td>71.48</td><td>67.52</td><td>63.45</td></tr><tr><td>Myanmar</td><td>70.38</td><td>67.1</td><td>63.99</td></tr><tr><td>Malawi</td><td>70.77</td><td>67.56</td><td>64.27</td></tr><tr><td>Ethiopia</td><td>71.02</td><td>67.6</td><td>64.36</td></tr><tr><td>Tanzania</td><td>70.0</td><td>67.21</td><td>64.4</td></tr><tr><td>State of Palestine</td><td>74.25</td><td>69.21</td><td>65.22</td></tr><tr><td>Pakistan</td><td>70.32</td><td>67.8</td><td>65.46</td></tr><tr><td>Uganda</td><td>71.37</td><td>68.49</td><td>65.49</td></tr><tr><td>Rwanda</td><td>70.14</td><td>68.02</td><td>65.71</td></tr><tr><td>Gabon</td><td>71.24</td><td>68.51</td><td>66.06</td></tr><tr><td>Bolivia</td><td>71.32</td><td>68.74</td><td>66.27</td></tr><tr><td>Sao Tome & Principe</td><td>73.91</td><td>69.91</td><td>66.41</td></tr><tr><td>Guyana</td><td>74.09</td><td>70.32</td><td>66.62</td></tr><tr><td>Mauritania</td><td>70.73</td><td>68.71</td><td>66.7</td></tr><tr><td>Moldova</td><td>75.67</td><td>71.33</td><td>66.7</td></tr><tr><td>Eritrea</td><td>70.94</td><td>68.89</td><td>66.76</td></tr><tr><td>Botswana</td><td>71.85</td><td>69.29</td><td>66.78</td></tr><tr><td>Philippines</td><td>72.96</td><td>69.95</td><td>66.99</td></tr><tr><td>Turkmenistan</td><td>73.01</td><td>70.2</td><td>67.0</td></tr><tr><td>Senegal</td><td>71.01</td><td>68.92</td><td>67.01</td></tr><tr><td>Laos</td><td>71.53</td><td>69.23</td><td>67.02</td></tr><tr><td>Yemen</td><td>71.55</td><td>69.44</td><td>67.37</td></tr><tr><td>Russia</td><td>79.19</td><td>73.34</td><td>67.48</td></tr><tr><td>Mongolia</td><td>76.66</td><td>71.99</td><td>67.49</td></tr><tr><td>El Salvador</td><td>76.49</td><td>72.3</td><td>67.76</td></tr><tr><td>Cambodia</td><td>73.36</td><td>70.82</td><td>68.15</td></tr><tr><td>Kyrgyzstan</td><td>75.4</td><td>71.82</td><td>68.31</td></tr><tr><td>St. Vincent & Grenadines</td><td>74.48</td><td>71.38</td><td>68.78</td></tr><tr><td>Venezuela</td><td>76.66</td><td>72.67</td><td>68.89</td></tr><tr><td>Jamaica</td><td>74.15</td><td>71.61</td><td>69.08</td></tr><tr><td>Nepal</td><td>72.14</td><td>70.64</td><td>69.09</td></tr><tr><td>Indonesia</td><td>73.43</td><td>71.29</td><td>69.16</td></tr><tr><td>Solomon Islands</td><td>72.18</td><td>70.69</td><td>69.36</td></tr><tr><td>Saint Lucia</td><td>76.45</td><td>72.85</td><td>69.45</td></tr><tr><td>Tonga</td><td>76.54</td><td>73.07</td><td>69.5</td></tr><tr><td>Uzbekistan</td><td>75.55</td><td>72.53</td><td>69.56</td></tr><tr><td>Vanuatu</td><td>74.11</td><td>71.65</td><td>69.59</td></tr><tr><td>Libya</td><td>72.68</td><td>71.12</td><td>69.63</td></tr><tr><td>Egypt</td><td>74.01</td><td>71.81</td><td>69.65</td></tr><tr><td>Tajikistan</td><td>74.14</td><td>71.93</td><td>69.68</td></tr><tr><td>Belarus</td><td>79.22</td><td>74.62</td><td>69.74</td></tr><tr><td>Georgia</td><td>79.23</td><td>74.66</td><td>69.75</td></tr><tr><td>Ukraine</td><td>79.39</td><td>74.69</td><td>69.79</td></tr><tr><td>Western Sahara</td><td>73.77</td><td>71.58</td><td>69.87</td></tr><tr><td>Samoa</td><td>73.82</td><td>71.83</td><td>69.96</td></tr><tr><td>Vietnam</td><td>79.38</td><td>74.74</td><td>70.05</td></tr><tr><td>Seychelles</td><td>76.66</td><td>72.99</td><td>70.08</td></tr><tr><td>Syria</td><td>74.92</td><td>72.56</td><td>70.21</td></tr><tr><td>Kazakhstan</td><td>78.52</td><td>74.53</td><td>70.27</td></tr><tr><td>Guatemala</td><td>75.04</td><td>72.75</td><td>70.44</td></tr><tr><td>Honduras</td><td>75.67</td><td>73.04</td><td>70.49</td></tr><tr><td>Iraq</td><td>74.18</td><td>72.42</td><td>70.5</td></tr><tr><td>Trinidad and Tobago</td><td>76.83</td><td>73.62</td><td>70.51</td></tr><tr><td>Suriname</td><td>76.98</td><td>73.76</td><td>70.6</td></tr><tr><td>Dominican Republic</td><td>77.11</td><td>73.87</td><td>70.66</td></tr><tr><td>India</td><td>73.86</td><td>72.24</td><td>70.73</td></tr><tr><td>Paraguay</td><td>77.09</td><td>73.98</td><td>71.01</td></tr><tr><td>Bahamas</td><td>78.33</td><td>74.71</td><td>71.06</td></tr><tr><td>Belize</td><td>76.66</td><td>73.74</td><td>71.08</td></tr><tr><td>North Korea</td><td>75.88</td><td>73.74</td><td>71.55</td></tr><tr><td>Bhutan</td><td>75.27</td><td>73.26</td><td>71.57</td></tr><tr><td>Armenia</td><td>79.6</td><td>75.85</td><td>71.58</td></tr><tr><td>Azerbaijan</td><td>77.29</td><td>74.58</td><td>71.71</td></tr><tr><td>Mauritius</td><td>78.34</td><td>75.1</td><td>72.11</td></tr><tr><td>Bulgaria</td><td>79.36</td><td>75.8</td><td>72.33</td></tr><tr><td>Mexico</td><td>78.0</td><td>75.26</td><td>72.44</td></tr><tr><td>Nicaragua</td><td>77.58</td><td>75.1</td><td>72.46</td></tr><tr><td>Grenada</td><td>78.5</td><td>75.37</td><td>72.52</td></tr><tr><td>Romania</td><td>79.68</td><td>76.09</td><td>72.56</td></tr><tr><td>Brazil</td><td>79.15</td><td>76.02</td><td>72.95</td></tr><tr><td>Cabo Verde</td><td>79.37</td><td>76.22</td><td>73.05</td></tr><tr><td>Bangladesh</td><td>76.67</td><td>74.93</td><td>73.3</td></tr><tr><td>Morocco</td><td>77.78</td><td>75.49</td><td>73.35</td></tr><tr><td>Brunei</td><td>77.73</td><td>75.5</td><td>73.49</td></tr><tr><td>Barbados</td><td>78.76</td><td>76.33</td><td>73.75</td></tr><tr><td>Aruba</td><td>78.92</td><td>76.5</td><td>73.85</td></tr><tr><td>Tunisia</td><td>79.33</td><td>76.71</td><td>74.13</td></tr><tr><td>Mayotte</td><td>78.51</td><td>76.24</td><td>74.27</td></tr><tr><td>Malaysia</td><td>79.52</td><td>76.82</td><td>74.45</td></tr><tr><td>Algeria</td><td>77.91</td><td>76.48</td><td>75.1</td></tr><tr><td>North Macedonia</td><td>79.71</td><td>77.54</td><td>75.26</td></tr><tr><td>Lebanon</td><td>79.86</td><td>77.95</td><td>75.88</td></tr><tr><td>Iran</td><td>79.81</td><td>77.85</td><td>76.0</td></tr></tbody></table></div>"
      ]
     },
     "metadata": {
      "application/vnd.databricks.v1+output": {
       "addedWidgets": {},
       "aggData": [],
       "aggError": "",
       "aggOverflow": false,
       "aggSchema": [],
       "aggSeriesLimitReached": false,
       "aggType": "",
       "arguments": {},
       "columnCustomDisplayInfos": {},
       "data": [
        [
         "Namibia",
         71.48,
         67.52,
         63.45
        ],
        [
         "Myanmar",
         70.38,
         67.1,
         63.99
        ],
        [
         "Malawi",
         70.77,
         67.56,
         64.27
        ],
        [
         "Ethiopia",
         71.02,
         67.6,
         64.36
        ],
        [
         "Tanzania",
         70.0,
         67.21,
         64.4
        ],
        [
         "State of Palestine",
         74.25,
         69.21,
         65.22
        ],
        [
         "Pakistan",
         70.32,
         67.8,
         65.46
        ],
        [
         "Uganda",
         71.37,
         68.49,
         65.49
        ],
        [
         "Rwanda",
         70.14,
         68.02,
         65.71
        ],
        [
         "Gabon",
         71.24,
         68.51,
         66.06
        ],
        [
         "Bolivia",
         71.32,
         68.74,
         66.27
        ],
        [
         "Sao Tome & Principe",
         73.91,
         69.91,
         66.41
        ],
        [
         "Guyana",
         74.09,
         70.32,
         66.62
        ],
        [
         "Mauritania",
         70.73,
         68.71,
         66.7
        ],
        [
         "Moldova",
         75.67,
         71.33,
         66.7
        ],
        [
         "Eritrea",
         70.94,
         68.89,
         66.76
        ],
        [
         "Botswana",
         71.85,
         69.29,
         66.78
        ],
        [
         "Philippines",
         72.96,
         69.95,
         66.99
        ],
        [
         "Turkmenistan",
         73.01,
         70.2,
         67.0
        ],
        [
         "Senegal",
         71.01,
         68.92,
         67.01
        ],
        [
         "Laos",
         71.53,
         69.23,
         67.02
        ],
        [
         "Yemen",
         71.55,
         69.44,
         67.37
        ],
        [
         "Russia",
         79.19,
         73.34,
         67.48
        ],
        [
         "Mongolia",
         76.66,
         71.99,
         67.49
        ],
        [
         "El Salvador",
         76.49,
         72.3,
         67.76
        ],
        [
         "Cambodia",
         73.36,
         70.82,
         68.15
        ],
        [
         "Kyrgyzstan",
         75.4,
         71.82,
         68.31
        ],
        [
         "St. Vincent & Grenadines",
         74.48,
         71.38,
         68.78
        ],
        [
         "Venezuela",
         76.66,
         72.67,
         68.89
        ],
        [
         "Jamaica",
         74.15,
         71.61,
         69.08
        ],
        [
         "Nepal",
         72.14,
         70.64,
         69.09
        ],
        [
         "Indonesia",
         73.43,
         71.29,
         69.16
        ],
        [
         "Solomon Islands",
         72.18,
         70.69,
         69.36
        ],
        [
         "Saint Lucia",
         76.45,
         72.85,
         69.45
        ],
        [
         "Tonga",
         76.54,
         73.07,
         69.5
        ],
        [
         "Uzbekistan",
         75.55,
         72.53,
         69.56
        ],
        [
         "Vanuatu",
         74.11,
         71.65,
         69.59
        ],
        [
         "Libya",
         72.68,
         71.12,
         69.63
        ],
        [
         "Egypt",
         74.01,
         71.81,
         69.65
        ],
        [
         "Tajikistan",
         74.14,
         71.93,
         69.68
        ],
        [
         "Belarus",
         79.22,
         74.62,
         69.74
        ],
        [
         "Georgia",
         79.23,
         74.66,
         69.75
        ],
        [
         "Ukraine",
         79.39,
         74.69,
         69.79
        ],
        [
         "Western Sahara",
         73.77,
         71.58,
         69.87
        ],
        [
         "Samoa",
         73.82,
         71.83,
         69.96
        ],
        [
         "Vietnam",
         79.38,
         74.74,
         70.05
        ],
        [
         "Seychelles",
         76.66,
         72.99,
         70.08
        ],
        [
         "Syria",
         74.92,
         72.56,
         70.21
        ],
        [
         "Kazakhstan",
         78.52,
         74.53,
         70.27
        ],
        [
         "Guatemala",
         75.04,
         72.75,
         70.44
        ],
        [
         "Honduras",
         75.67,
         73.04,
         70.49
        ],
        [
         "Iraq",
         74.18,
         72.42,
         70.5
        ],
        [
         "Trinidad and Tobago",
         76.83,
         73.62,
         70.51
        ],
        [
         "Suriname",
         76.98,
         73.76,
         70.6
        ],
        [
         "Dominican Republic",
         77.11,
         73.87,
         70.66
        ],
        [
         "India",
         73.86,
         72.24,
         70.73
        ],
        [
         "Paraguay",
         77.09,
         73.98,
         71.01
        ],
        [
         "Bahamas",
         78.33,
         74.71,
         71.06
        ],
        [
         "Belize",
         76.66,
         73.74,
         71.08
        ],
        [
         "North Korea",
         75.88,
         73.74,
         71.55
        ],
        [
         "Bhutan",
         75.27,
         73.26,
         71.57
        ],
        [
         "Armenia",
         79.6,
         75.85,
         71.58
        ],
        [
         "Azerbaijan",
         77.29,
         74.58,
         71.71
        ],
        [
         "Mauritius",
         78.34,
         75.1,
         72.11
        ],
        [
         "Bulgaria",
         79.36,
         75.8,
         72.33
        ],
        [
         "Mexico",
         78.0,
         75.26,
         72.44
        ],
        [
         "Nicaragua",
         77.58,
         75.1,
         72.46
        ],
        [
         "Grenada",
         78.5,
         75.37,
         72.52
        ],
        [
         "Romania",
         79.68,
         76.09,
         72.56
        ],
        [
         "Brazil",
         79.15,
         76.02,
         72.95
        ],
        [
         "Cabo Verde",
         79.37,
         76.22,
         73.05
        ],
        [
         "Bangladesh",
         76.67,
         74.93,
         73.3
        ],
        [
         "Morocco",
         77.78,
         75.49,
         73.35
        ],
        [
         "Brunei",
         77.73,
         75.5,
         73.49
        ],
        [
         "Barbados",
         78.76,
         76.33,
         73.75
        ],
        [
         "Aruba",
         78.92,
         76.5,
         73.85
        ],
        [
         "Tunisia",
         79.33,
         76.71,
         74.13
        ],
        [
         "Mayotte",
         78.51,
         76.24,
         74.27
        ],
        [
         "Malaysia",
         79.52,
         76.82,
         74.45
        ],
        [
         "Algeria",
         77.91,
         76.48,
         75.1
        ],
        [
         "North Macedonia",
         79.71,
         77.54,
         75.26
        ],
        [
         "Lebanon",
         79.86,
         77.95,
         75.88
        ],
        [
         "Iran",
         79.81,
         77.85,
         76.0
        ]
       ],
       "datasetInfos": [],
       "dbfsResultPath": null,
       "isJsonSchema": true,
       "metadata": {},
       "overflow": false,
       "plotOptions": {
        "customPlotOptions": {},
        "displayType": "table",
        "pivotAggregation": null,
        "pivotColumns": null,
        "xColumns": null,
        "yColumns": null
       },
       "removedWidgets": [],
       "schema": [
        {
         "metadata": "{}",
         "name": "Pais",
         "type": "\"string\""
        },
        {
         "metadata": "{}",
         "name": "Expectativa_de_Vida_Mulheres",
         "type": "\"double\""
        },
        {
         "metadata": "{}",
         "name": "Expectativa_de_Vida_Geral",
         "type": "\"double\""
        },
        {
         "metadata": "{}",
         "name": "Expectativa_de_Vida_Homens",
         "type": "\"double\""
        }
       ],
       "type": "table"
      }
     },
     "output_type": "display_data"
    }
   ],
   "source": [
    "# Realizando filtros com os novos nomes\n",
    "df_filtrado = df.filter(df[\"Expectativa_de_Vida_Mulheres\"].between(70, 80))\n",
    "display(df_filtrado)"
   ]
  },
  {
   "cell_type": "code",
   "execution_count": 0,
   "metadata": {
    "application/vnd.databricks.v1+cell": {
     "cellMetadata": {
      "byteLimit": 2048000,
      "rowLimit": 10000
     },
     "inputWidgets": {},
     "nuid": "f49fdd2a-827d-4876-8e6c-498a571af4f5",
     "showTitle": false,
     "tableResultSettingsMap": {},
     "title": ""
    }
   },
   "outputs": [
    {
     "output_type": "display_data",
     "data": {
      "text/html": [
       "<style scoped>\n",
       "  .table-result-container {\n",
       "    max-height: 300px;\n",
       "    overflow: auto;\n",
       "  }\n",
       "  table, th, td {\n",
       "    border: 1px solid black;\n",
       "    border-collapse: collapse;\n",
       "  }\n",
       "  th, td {\n",
       "    padding: 5px;\n",
       "  }\n",
       "  th {\n",
       "    text-align: left;\n",
       "  }\n",
       "</style><div class='table-result-container'><table class='table-result'><thead style='background-color: white'><tr><th>Pais</th><th>Expectativa_de_Vida_Geral</th></tr></thead><tbody><tr><td>Hong Kong</td><td>85.63</td></tr><tr><td>Micronesia</td><td>143.28</td></tr></tbody></table></div>"
      ]
     },
     "metadata": {
      "application/vnd.databricks.v1+output": {
       "addedWidgets": {},
       "aggData": [],
       "aggError": "",
       "aggOverflow": false,
       "aggSchema": [],
       "aggSeriesLimitReached": false,
       "aggType": "",
       "arguments": {},
       "columnCustomDisplayInfos": {},
       "data": [
        [
         "Hong Kong",
         85.63
        ],
        [
         "Micronesia",
         143.28
        ]
       ],
       "datasetInfos": [],
       "dbfsResultPath": null,
       "isJsonSchema": true,
       "metadata": {},
       "overflow": false,
       "plotOptions": {
        "customPlotOptions": {},
        "displayType": "table",
        "pivotAggregation": null,
        "pivotColumns": null,
        "xColumns": null,
        "yColumns": null
       },
       "removedWidgets": [],
       "schema": [
        {
         "metadata": "{}",
         "name": "Pais",
         "type": "\"string\""
        },
        {
         "metadata": "{}",
         "name": "Expectativa_de_Vida_Geral",
         "type": "\"double\""
        }
       ],
       "type": "table"
      }
     },
     "output_type": "display_data"
    }
   ],
   "source": [
    "# Paises com expectativa de vida mais alta\n",
    "df_top_vida = df.filter(df[\"Expectativa_de_Vida_Geral\"] > 85).select(\"Pais\", \"Expectativa_de_Vida_Geral\")\n",
    "display(df_top_vida)"
   ]
  },
  {
   "cell_type": "code",
   "execution_count": 0,
   "metadata": {
    "application/vnd.databricks.v1+cell": {
     "cellMetadata": {
      "byteLimit": 2048000,
      "rowLimit": 10000
     },
     "inputWidgets": {},
     "nuid": "5faf8ff3-ac61-41b7-b030-abf0055bb44a",
     "showTitle": false,
     "tableResultSettingsMap": {},
     "title": ""
    }
   },
   "outputs": [
    {
     "output_type": "display_data",
     "data": {
      "text/html": [
       "<style scoped>\n",
       "  .table-result-container {\n",
       "    max-height: 300px;\n",
       "    overflow: auto;\n",
       "  }\n",
       "  table, th, td {\n",
       "    border: 1px solid black;\n",
       "    border-collapse: collapse;\n",
       "  }\n",
       "  th, td {\n",
       "    padding: 5px;\n",
       "  }\n",
       "  th {\n",
       "    text-align: left;\n",
       "  }\n",
       "</style><div class='table-result-container'><table class='table-result'><thead style='background-color: white'><tr><th>Pais</th><th>Expectativa_de_Vida_Mulheres</th><th>Expectativa_de_Vida_Homens</th><th>Diferenca_Expectativa_Vida</th></tr></thead><tbody><tr><td>Chad</td><td>57.19</td><td>53.36</td><td>3.8299999999999983</td></tr><tr><td>Nigeria</td><td>54.94</td><td>54.33</td><td>0.6099999999999994</td></tr><tr><td>South Sudan</td><td>60.75</td><td>54.76</td><td>5.990000000000002</td></tr><tr><td>Lesotho</td><td>60.44</td><td>55.03</td><td>5.409999999999997</td></tr><tr><td>Central African Republic</td><td>59.56</td><td>55.51</td><td>4.050000000000004</td></tr><tr><td>Somalia</td><td>61.55</td><td>56.49</td><td>5.059999999999995</td></tr><tr><td>Burkina Faso</td><td>63.43</td><td>59.11</td><td>4.32</td></tr><tr><td>Mali</td><td>62.15</td><td>59.25</td><td>2.8999999999999986</td></tr><tr><td>Benin</td><td>62.42</td><td>59.52</td><td>2.8999999999999986</td></tr><tr><td>Guinea</td><td>62.09</td><td>59.66</td><td>2.430000000000007</td></tr><tr><td>DR Congo</td><td>64.23</td><td>59.96</td><td>4.270000000000003</td></tr><tr><td>Côte d'Ivoire</td><td>64.31</td><td>60.17</td><td>4.140000000000001</td></tr><tr><td>Sierra Leone</td><td>63.7</td><td>60.23</td><td>3.470000000000006</td></tr><tr><td>Mozambique</td><td>66.74</td><td>60.49</td><td>6.249999999999993</td></tr><tr><td>Niger</td><td>62.41</td><td>60.49</td><td>1.9199999999999946</td></tr><tr><td>Zimbabwe</td><td>65.31</td><td>60.49</td><td>4.82</td></tr><tr><td>Liberia</td><td>63.63</td><td>61.02</td><td>2.6099999999999994</td></tr><tr><td>Eswatini</td><td>67.11</td><td>61.32</td><td>5.789999999999999</td></tr><tr><td>Kenya</td><td>66.12</td><td>61.64</td><td>4.480000000000004</td></tr><tr><td>Burundi</td><td>65.88</td><td>61.75</td><td>4.1299999999999955</td></tr><tr><td>Cameroon</td><td>66.23</td><td>61.78</td><td>4.450000000000003</td></tr><tr><td>Guinea-Bissau</td><td>66.55</td><td>61.82</td><td>4.729999999999997</td></tr><tr><td>Haiti</td><td>68.49</td><td>61.9</td><td>6.589999999999996</td></tr><tr><td>Madagascar</td><td>65.6</td><td>62.12</td><td>3.479999999999997</td></tr><tr><td>Equatorial Guinea</td><td>65.89</td><td>62.22</td><td>3.6700000000000017</td></tr><tr><td>Angola</td><td>67.34</td><td>62.28</td><td>5.060000000000002</td></tr><tr><td>Togo</td><td>63.15</td><td>62.7</td><td>0.44999999999999574</td></tr><tr><td>South Africa</td><td>69.79</td><td>62.78</td><td>7.010000000000005</td></tr><tr><td>Ghana</td><td>68.16</td><td>63.31</td><td>4.849999999999994</td></tr><tr><td>Namibia</td><td>71.48</td><td>63.45</td><td>8.030000000000001</td></tr><tr><td>Sudan</td><td>69.83</td><td>63.45</td><td>6.3799999999999955</td></tr><tr><td>Djibouti</td><td>68.74</td><td>63.73</td><td>5.009999999999998</td></tr><tr><td>Papua New Guinea</td><td>69.21</td><td>63.84</td><td>5.36999999999999</td></tr><tr><td>Myanmar</td><td>70.38</td><td>63.99</td><td>6.3899999999999935</td></tr><tr><td>Zambia</td><td>68.87</td><td>64.1</td><td>4.77000000000001</td></tr><tr><td>Malawi</td><td>70.77</td><td>64.27</td><td>6.5</td></tr><tr><td>Congo</td><td>67.72</td><td>64.33</td><td>3.3900000000000006</td></tr><tr><td>Gambia</td><td>67.75</td><td>64.35</td><td>3.4000000000000057</td></tr><tr><td>Ethiopia</td><td>71.02</td><td>64.36</td><td>6.659999999999997</td></tr><tr><td>Tanzania</td><td>70.0</td><td>64.4</td><td>5.599999999999994</td></tr><tr><td>Kiribati</td><td>68.32</td><td>64.69</td><td>3.6299999999999955</td></tr><tr><td>Afghanistan</td><td>67.81</td><td>64.7</td><td>3.1099999999999994</td></tr><tr><td>Comoros</td><td>69.2</td><td>65.02</td><td>4.180000000000007</td></tr><tr><td>State of Palestine</td><td>74.25</td><td>65.22</td><td>9.030000000000001</td></tr><tr><td>Pakistan</td><td>70.32</td><td>65.46</td><td>4.859999999999999</td></tr><tr><td>Fiji</td><td>69.54</td><td>65.47</td><td>4.070000000000007</td></tr><tr><td>Uganda</td><td>71.37</td><td>65.49</td><td>5.88000000000001</td></tr><tr><td>Rwanda</td><td>70.14</td><td>65.71</td><td>4.430000000000007</td></tr><tr><td>Gabon</td><td>71.24</td><td>66.06</td><td>5.179999999999993</td></tr><tr><td>Bolivia</td><td>71.32</td><td>66.27</td><td>5.049999999999997</td></tr><tr><td>Timor-Leste</td><td>69.67</td><td>66.27</td><td>3.4000000000000057</td></tr><tr><td>Sao Tome & Principe</td><td>73.91</td><td>66.41</td><td>7.5</td></tr><tr><td>Guyana</td><td>74.09</td><td>66.62</td><td>7.469999999999999</td></tr><tr><td>Mauritania</td><td>70.73</td><td>66.7</td><td>4.030000000000001</td></tr><tr><td>Moldova</td><td>75.67</td><td>66.7</td><td>8.969999999999999</td></tr><tr><td>Eritrea</td><td>70.94</td><td>66.76</td><td>4.179999999999993</td></tr><tr><td>Botswana</td><td>71.85</td><td>66.78</td><td>5.069999999999993</td></tr><tr><td>Philippines</td><td>72.96</td><td>66.99</td><td>5.969999999999999</td></tr><tr><td>Turkmenistan</td><td>73.01</td><td>67.0</td><td>6.010000000000005</td></tr><tr><td>Senegal</td><td>71.01</td><td>67.01</td><td>4.0</td></tr><tr><td>Laos</td><td>71.53</td><td>67.02</td><td>4.510000000000005</td></tr><tr><td>Yemen</td><td>71.55</td><td>67.37</td><td>4.179999999999993</td></tr><tr><td>Russia</td><td>79.19</td><td>67.48</td><td>11.709999999999994</td></tr><tr><td>Mongolia</td><td>76.66</td><td>67.49</td><td>9.170000000000002</td></tr><tr><td>El Salvador</td><td>76.49</td><td>67.76</td><td>8.72999999999999</td></tr><tr><td>Cambodia</td><td>73.36</td><td>68.15</td><td>5.209999999999994</td></tr><tr><td>Kyrgyzstan</td><td>75.4</td><td>68.31</td><td>7.090000000000003</td></tr><tr><td>St. Vincent & Grenadines</td><td>74.48</td><td>68.78</td><td>5.700000000000003</td></tr><tr><td>Venezuela</td><td>76.66</td><td>68.89</td><td>7.769999999999996</td></tr><tr><td>Jamaica</td><td>74.15</td><td>69.08</td><td>5.070000000000007</td></tr><tr><td>Nepal</td><td>72.14</td><td>69.09</td><td>3.049999999999997</td></tr><tr><td>Indonesia</td><td>73.43</td><td>69.16</td><td>4.27000000000001</td></tr><tr><td>Solomon Islands</td><td>72.18</td><td>69.36</td><td>2.8200000000000074</td></tr><tr><td>Saint Lucia</td><td>76.45</td><td>69.45</td><td>7.0</td></tr><tr><td>Tonga</td><td>76.54</td><td>69.5</td><td>7.040000000000006</td></tr><tr><td>Uzbekistan</td><td>75.55</td><td>69.56</td><td>5.989999999999995</td></tr><tr><td>Vanuatu</td><td>74.11</td><td>69.59</td><td>4.519999999999996</td></tr><tr><td>Libya</td><td>72.68</td><td>69.63</td><td>3.0500000000000114</td></tr><tr><td>Egypt</td><td>74.01</td><td>69.65</td><td>4.359999999999999</td></tr><tr><td>Tajikistan</td><td>74.14</td><td>69.68</td><td>4.459999999999994</td></tr><tr><td>Belarus</td><td>79.22</td><td>69.74</td><td>9.480000000000004</td></tr><tr><td>Georgia</td><td>79.23</td><td>69.75</td><td>9.480000000000004</td></tr><tr><td>Ukraine</td><td>79.39</td><td>69.79</td><td>9.599999999999994</td></tr><tr><td>Western Sahara</td><td>73.77</td><td>69.87</td><td>3.8999999999999915</td></tr><tr><td>Samoa</td><td>73.82</td><td>69.96</td><td>3.8599999999999994</td></tr><tr><td>Vietnam</td><td>79.38</td><td>70.05</td><td>9.329999999999998</td></tr><tr><td>Seychelles</td><td>76.66</td><td>70.08</td><td>6.579999999999998</td></tr><tr><td>Syria</td><td>74.92</td><td>70.21</td><td>4.710000000000008</td></tr><tr><td>Kazakhstan</td><td>78.52</td><td>70.27</td><td>8.25</td></tr><tr><td>Guatemala</td><td>75.04</td><td>70.44</td><td>4.6000000000000085</td></tr><tr><td>Honduras</td><td>75.67</td><td>70.49</td><td>5.180000000000007</td></tr><tr><td>Iraq</td><td>74.18</td><td>70.5</td><td>3.680000000000007</td></tr><tr><td>Trinidad and Tobago</td><td>76.83</td><td>70.51</td><td>6.319999999999993</td></tr><tr><td>Suriname</td><td>76.98</td><td>70.6</td><td>6.38000000000001</td></tr><tr><td>Dominican Republic</td><td>77.11</td><td>70.66</td><td>6.450000000000003</td></tr><tr><td>India</td><td>73.86</td><td>70.73</td><td>3.1299999999999955</td></tr><tr><td>U.S. Virgin Islands</td><td>81.48</td><td>70.73</td><td>10.75</td></tr><tr><td>Paraguay</td><td>77.09</td><td>71.01</td><td>6.079999999999998</td></tr><tr><td>Bahamas</td><td>78.33</td><td>71.06</td><td>7.269999999999996</td></tr><tr><td>Belize</td><td>76.66</td><td>71.08</td><td>5.579999999999998</td></tr><tr><td>Lithuania</td><td>80.8</td><td>71.42</td><td>9.379999999999995</td></tr><tr><td>North Korea</td><td>75.88</td><td>71.55</td><td>4.329999999999998</td></tr><tr><td>Bhutan</td><td>75.27</td><td>71.57</td><td>3.700000000000003</td></tr><tr><td>Armenia</td><td>79.6</td><td>71.58</td><td>8.019999999999996</td></tr><tr><td>Azerbaijan</td><td>77.29</td><td>71.71</td><td>5.5800000000000125</td></tr><tr><td>Latvia</td><td>80.6</td><td>71.75</td><td>8.849999999999994</td></tr><tr><td>Mauritius</td><td>78.34</td><td>72.11</td><td>6.230000000000004</td></tr><tr><td>Bulgaria</td><td>79.36</td><td>72.33</td><td>7.030000000000001</td></tr><tr><td>Thailand</td><td>80.98</td><td>72.34</td><td>8.64</td></tr><tr><td>Mexico</td><td>78.0</td><td>72.44</td><td>5.560000000000002</td></tr><tr><td>Nicaragua</td><td>77.58</td><td>72.46</td><td>5.1200000000000045</td></tr><tr><td>Grenada</td><td>78.5</td><td>72.52</td><td>5.980000000000004</td></tr><tr><td>Romania</td><td>79.68</td><td>72.56</td><td>7.1200000000000045</td></tr><tr><td>Curaçao</td><td>80.96</td><td>72.66</td><td>8.299999999999997</td></tr><tr><td>Brazil</td><td>79.15</td><td>72.95</td><td>6.200000000000003</td></tr><tr><td>Cabo Verde</td><td>79.37</td><td>73.05</td><td>6.320000000000007</td></tr><tr><td>Bangladesh</td><td>76.67</td><td>73.3</td><td>3.3700000000000045</td></tr><tr><td>Morocco</td><td>77.78</td><td>73.35</td><td>4.430000000000007</td></tr><tr><td>Brunei</td><td>77.73</td><td>73.49</td><td>4.240000000000009</td></tr><tr><td>Guam</td><td>81.59</td><td>73.66</td><td>7.930000000000007</td></tr><tr><td>Serbia</td><td>80.18</td><td>73.68</td><td>6.5</td></tr><tr><td>Barbados</td><td>78.76</td><td>73.75</td><td>5.010000000000005</td></tr><tr><td>Aruba</td><td>78.92</td><td>73.85</td><td>5.070000000000007</td></tr><tr><td>Hungary</td><td>80.33</td><td>73.89</td><td>6.439999999999998</td></tr><tr><td>Montenegro</td><td>80.45</td><td>73.92</td><td>6.530000000000001</td></tr><tr><td>Tunisia</td><td>79.33</td><td>74.13</td><td>5.200000000000003</td></tr><tr><td>Mayotte</td><td>78.51</td><td>74.27</td><td>4.240000000000009</td></tr><tr><td>French Guiana</td><td>80.15</td><td>74.33</td><td>5.820000000000007</td></tr><tr><td>Uruguay</td><td>82.04</td><td>74.38</td><td>7.660000000000011</td></tr><tr><td>Malaysia</td><td>79.52</td><td>74.45</td><td>5.069999999999993</td></tr><tr><td>Sri Lanka</td><td>80.75</td><td>74.45</td><td>6.299999999999997</td></tr><tr><td>Turkey</td><td>80.34</td><td>74.62</td><td>5.719999999999999</td></tr><tr><td>Bosnia and Herzegovina</td><td>81.07</td><td>74.65</td><td>6.4199999999999875</td></tr><tr><td>Antigua and Barbuda</td><td>80.45</td><td>74.74</td><td>5.710000000000008</td></tr><tr><td>Ecuador</td><td>80.31</td><td>74.88</td><td>5.430000000000007</td></tr><tr><td>Argentina</td><td>80.02</td><td>74.98</td><td>5.039999999999992</td></tr><tr><td>Algeria</td><td>77.91</td><td>75.1</td><td>2.8100000000000023</td></tr><tr><td>Poland</td><td>82.49</td><td>75.1</td><td>7.390000000000001</td></tr><tr><td>Estonia</td><td>83.17</td><td>75.12</td><td>8.049999999999997</td></tr><tr><td>Colombia</td><td>80.61</td><td>75.16</td><td>5.450000000000003</td></tr><tr><td>Slovakia</td><td>81.71</td><td>75.21</td><td>6.5</td></tr><tr><td>China</td><td>80.97</td><td>75.25</td><td>5.719999999999999</td></tr><tr><td>North Macedonia</td><td>79.71</td><td>75.26</td><td>4.449999999999989</td></tr><tr><td>Croatia</td><td>81.82</td><td>75.6</td><td>6.219999999999999</td></tr><tr><td>Peru</td><td>80.3</td><td>75.63</td><td>4.670000000000002</td></tr><tr><td>Cuba</td><td>80.68</td><td>75.86</td><td>4.820000000000007</td></tr><tr><td>Lebanon</td><td>79.86</td><td>75.88</td><td>3.980000000000004</td></tr><tr><td>Jordan</td><td>80.34</td><td>75.89</td><td>4.450000000000003</td></tr><tr><td>Iran</td><td>79.81</td><td>76.0</td><td>3.8100000000000023</td></tr><tr><td>New Caledonia</td><td>81.41</td><td>76.46</td><td>4.950000000000003</td></tr><tr><td>Panama</td><td>82.71</td><td>76.88</td><td>5.829999999999998</td></tr><tr><td>United States</td><td>81.98</td><td>77.05</td><td>4.930000000000007</td></tr><tr><td>Czech Republic (Czechia)</td><td>82.75</td><td>77.18</td><td>5.569999999999993</td></tr><tr><td>Saudi Arabia</td><td>81.33</td><td>77.33</td><td>4.0</td></tr><tr><td>Taiwan</td><td>83.75</td><td>77.86</td><td>5.890000000000001</td></tr><tr><td>Albania</td><td>81.59</td><td>77.92</td><td>3.6700000000000017</td></tr><tr><td>Puerto Rico</td><td>85.38</td><td>78.28</td><td>7.099999999999994</td></tr><tr><td>Guadeloupe</td><td>85.65</td><td>78.35</td><td>7.300000000000011</td></tr><tr><td>Costa Rica</td><td>83.58</td><td>78.37</td><td>5.209999999999994</td></tr><tr><td>Oman</td><td>82.05</td><td>78.72</td><td>3.3299999999999983</td></tr><tr><td>Slovenia</td><td>84.47</td><td>79.11</td><td>5.359999999999999</td></tr><tr><td>Germany</td><td>83.88</td><td>79.21</td><td>4.670000000000002</td></tr><tr><td>Finland</td><td>84.79</td><td>79.38</td><td>5.410000000000011</td></tr><tr><td>Chile</td><td>83.23</td><td>79.45</td><td>3.780000000000001</td></tr><tr><td>Kuwait</td><td>82.0</td><td>79.45</td><td>2.549999999999997</td></tr><tr><td>Martinique</td><td>85.73</td><td>79.45</td><td>6.280000000000001</td></tr><tr><td>Greece</td><td>84.46</td><td>79.5</td><td>4.959999999999994</td></tr><tr><td>United Kingdom</td><td>83.33</td><td>79.54</td><td>3.789999999999992</td></tr><tr><td>Portugal</td><td>85.25</td><td>79.68</td><td>5.569999999999993</td></tr><tr><td>Austria</td><td>84.45</td><td>79.75</td><td>4.700000000000003</td></tr><tr><td>Cyprus</td><td>83.8</td><td>79.84</td><td>3.9599999999999937</td></tr><tr><td>Maldives</td><td>83.0</td><td>79.95</td><td>3.049999999999997</td></tr><tr><td>Belgium</td><td>84.45</td><td>80.06</td><td>4.390000000000001</td></tr><tr><td>Denmark</td><td>83.98</td><td>80.21</td><td>3.7700000000000102</td></tr><tr><td>Canada</td><td>84.91</td><td>80.53</td><td>4.3799999999999955</td></tr><tr><td>Ireland</td><td>84.61</td><td>80.58</td><td>4.030000000000001</td></tr><tr><td>France</td><td>86.2</td><td>80.59</td><td>5.609999999999999</td></tr><tr><td>New Zealand</td><td>83.89</td><td>80.6</td><td>3.2900000000000063</td></tr><tr><td>Israel</td><td>84.71</td><td>80.67</td><td>4.039999999999992</td></tr><tr><td>Réunion</td><td>86.45</td><td>80.67</td><td>5.780000000000001</td></tr><tr><td>Netherlands</td><td>83.85</td><td>80.72</td><td>3.1299999999999955</td></tr><tr><td>Luxembourg</td><td>83.94</td><td>80.75</td><td>3.1899999999999977</td></tr><tr><td>Bahrain</td><td>82.13</td><td>80.86</td><td>1.269999999999996</td></tr><tr><td>Macao</td><td>85.35</td><td>81.05</td><td>4.299999999999997</td></tr><tr><td>Spain</td><td>86.44</td><td>81.1</td><td>5.340000000000003</td></tr><tr><td>South Korea</td><td>87.28</td><td>81.32</td><td>5.960000000000008</td></tr><tr><td>Singapore</td><td>86.36</td><td>81.38</td><td>4.980000000000004</td></tr><tr><td>Malta</td><td>85.39</td><td>81.48</td><td>3.9099999999999966</td></tr><tr><td>Iceland</td><td>84.47</td><td>81.63</td><td>2.8400000000000034</td></tr><tr><td>Sweden</td><td>85.22</td><td>81.65</td><td>3.569999999999993</td></tr><tr><td>Italy</td><td>85.87</td><td>81.75</td><td>4.1200000000000045</td></tr><tr><td>Qatar</td><td>83.48</td><td>81.78</td><td>1.7000000000000028</td></tr><tr><td>Japan</td><td>87.88</td><td>81.83</td><td>6.049999999999997</td></tr><tr><td>French Polynesia</td><td>86.62</td><td>81.9</td><td>4.719999999999999</td></tr><tr><td>Norway</td><td>84.97</td><td>81.94</td><td>3.030000000000001</td></tr><tr><td>Switzerland</td><td>85.95</td><td>82.17</td><td>3.780000000000001</td></tr><tr><td>United Arab Emirates</td><td>84.32</td><td>82.17</td><td>2.1499999999999915</td></tr><tr><td>Australia</td><td>85.85</td><td>82.28</td><td>3.569999999999993</td></tr><tr><td>Hong Kong</td><td>88.26</td><td>82.97</td><td>5.290000000000006</td></tr><tr><td>Micronesia</td><td>149.22</td><td>137.64</td><td>11.580000000000013</td></tr></tbody></table></div>"
      ]
     },
     "metadata": {
      "application/vnd.databricks.v1+output": {
       "addedWidgets": {},
       "aggData": [],
       "aggError": "",
       "aggOverflow": false,
       "aggSchema": [],
       "aggSeriesLimitReached": false,
       "aggType": "",
       "arguments": {},
       "columnCustomDisplayInfos": {},
       "data": [
        [
         "Chad",
         57.19,
         53.36,
         3.8299999999999983
        ],
        [
         "Nigeria",
         54.94,
         54.33,
         0.6099999999999994
        ],
        [
         "South Sudan",
         60.75,
         54.76,
         5.990000000000002
        ],
        [
         "Lesotho",
         60.44,
         55.03,
         5.409999999999997
        ],
        [
         "Central African Republic",
         59.56,
         55.51,
         4.050000000000004
        ],
        [
         "Somalia",
         61.55,
         56.49,
         5.059999999999995
        ],
        [
         "Burkina Faso",
         63.43,
         59.11,
         4.32
        ],
        [
         "Mali",
         62.15,
         59.25,
         2.8999999999999986
        ],
        [
         "Benin",
         62.42,
         59.52,
         2.8999999999999986
        ],
        [
         "Guinea",
         62.09,
         59.66,
         2.430000000000007
        ],
        [
         "DR Congo",
         64.23,
         59.96,
         4.270000000000003
        ],
        [
         "Côte d'Ivoire",
         64.31,
         60.17,
         4.140000000000001
        ],
        [
         "Sierra Leone",
         63.7,
         60.23,
         3.470000000000006
        ],
        [
         "Mozambique",
         66.74,
         60.49,
         6.249999999999993
        ],
        [
         "Niger",
         62.41,
         60.49,
         1.9199999999999946
        ],
        [
         "Zimbabwe",
         65.31,
         60.49,
         4.82
        ],
        [
         "Liberia",
         63.63,
         61.02,
         2.6099999999999994
        ],
        [
         "Eswatini",
         67.11,
         61.32,
         5.789999999999999
        ],
        [
         "Kenya",
         66.12,
         61.64,
         4.480000000000004
        ],
        [
         "Burundi",
         65.88,
         61.75,
         4.1299999999999955
        ],
        [
         "Cameroon",
         66.23,
         61.78,
         4.450000000000003
        ],
        [
         "Guinea-Bissau",
         66.55,
         61.82,
         4.729999999999997
        ],
        [
         "Haiti",
         68.49,
         61.9,
         6.589999999999996
        ],
        [
         "Madagascar",
         65.6,
         62.12,
         3.479999999999997
        ],
        [
         "Equatorial Guinea",
         65.89,
         62.22,
         3.6700000000000017
        ],
        [
         "Angola",
         67.34,
         62.28,
         5.060000000000002
        ],
        [
         "Togo",
         63.15,
         62.7,
         0.44999999999999574
        ],
        [
         "South Africa",
         69.79,
         62.78,
         7.010000000000005
        ],
        [
         "Ghana",
         68.16,
         63.31,
         4.849999999999994
        ],
        [
         "Namibia",
         71.48,
         63.45,
         8.030000000000001
        ],
        [
         "Sudan",
         69.83,
         63.45,
         6.3799999999999955
        ],
        [
         "Djibouti",
         68.74,
         63.73,
         5.009999999999998
        ],
        [
         "Papua New Guinea",
         69.21,
         63.84,
         5.36999999999999
        ],
        [
         "Myanmar",
         70.38,
         63.99,
         6.3899999999999935
        ],
        [
         "Zambia",
         68.87,
         64.1,
         4.77000000000001
        ],
        [
         "Malawi",
         70.77,
         64.27,
         6.5
        ],
        [
         "Congo",
         67.72,
         64.33,
         3.3900000000000006
        ],
        [
         "Gambia",
         67.75,
         64.35,
         3.4000000000000057
        ],
        [
         "Ethiopia",
         71.02,
         64.36,
         6.659999999999997
        ],
        [
         "Tanzania",
         70.0,
         64.4,
         5.599999999999994
        ],
        [
         "Kiribati",
         68.32,
         64.69,
         3.6299999999999955
        ],
        [
         "Afghanistan",
         67.81,
         64.7,
         3.1099999999999994
        ],
        [
         "Comoros",
         69.2,
         65.02,
         4.180000000000007
        ],
        [
         "State of Palestine",
         74.25,
         65.22,
         9.030000000000001
        ],
        [
         "Pakistan",
         70.32,
         65.46,
         4.859999999999999
        ],
        [
         "Fiji",
         69.54,
         65.47,
         4.070000000000007
        ],
        [
         "Uganda",
         71.37,
         65.49,
         5.88000000000001
        ],
        [
         "Rwanda",
         70.14,
         65.71,
         4.430000000000007
        ],
        [
         "Gabon",
         71.24,
         66.06,
         5.179999999999993
        ],
        [
         "Bolivia",
         71.32,
         66.27,
         5.049999999999997
        ],
        [
         "Timor-Leste",
         69.67,
         66.27,
         3.4000000000000057
        ],
        [
         "Sao Tome & Principe",
         73.91,
         66.41,
         7.5
        ],
        [
         "Guyana",
         74.09,
         66.62,
         7.469999999999999
        ],
        [
         "Mauritania",
         70.73,
         66.7,
         4.030000000000001
        ],
        [
         "Moldova",
         75.67,
         66.7,
         8.969999999999999
        ],
        [
         "Eritrea",
         70.94,
         66.76,
         4.179999999999993
        ],
        [
         "Botswana",
         71.85,
         66.78,
         5.069999999999993
        ],
        [
         "Philippines",
         72.96,
         66.99,
         5.969999999999999
        ],
        [
         "Turkmenistan",
         73.01,
         67.0,
         6.010000000000005
        ],
        [
         "Senegal",
         71.01,
         67.01,
         4.0
        ],
        [
         "Laos",
         71.53,
         67.02,
         4.510000000000005
        ],
        [
         "Yemen",
         71.55,
         67.37,
         4.179999999999993
        ],
        [
         "Russia",
         79.19,
         67.48,
         11.709999999999994
        ],
        [
         "Mongolia",
         76.66,
         67.49,
         9.170000000000002
        ],
        [
         "El Salvador",
         76.49,
         67.76,
         8.72999999999999
        ],
        [
         "Cambodia",
         73.36,
         68.15,
         5.209999999999994
        ],
        [
         "Kyrgyzstan",
         75.4,
         68.31,
         7.090000000000003
        ],
        [
         "St. Vincent & Grenadines",
         74.48,
         68.78,
         5.700000000000003
        ],
        [
         "Venezuela",
         76.66,
         68.89,
         7.769999999999996
        ],
        [
         "Jamaica",
         74.15,
         69.08,
         5.070000000000007
        ],
        [
         "Nepal",
         72.14,
         69.09,
         3.049999999999997
        ],
        [
         "Indonesia",
         73.43,
         69.16,
         4.27000000000001
        ],
        [
         "Solomon Islands",
         72.18,
         69.36,
         2.8200000000000074
        ],
        [
         "Saint Lucia",
         76.45,
         69.45,
         7.0
        ],
        [
         "Tonga",
         76.54,
         69.5,
         7.040000000000006
        ],
        [
         "Uzbekistan",
         75.55,
         69.56,
         5.989999999999995
        ],
        [
         "Vanuatu",
         74.11,
         69.59,
         4.519999999999996
        ],
        [
         "Libya",
         72.68,
         69.63,
         3.0500000000000114
        ],
        [
         "Egypt",
         74.01,
         69.65,
         4.359999999999999
        ],
        [
         "Tajikistan",
         74.14,
         69.68,
         4.459999999999994
        ],
        [
         "Belarus",
         79.22,
         69.74,
         9.480000000000004
        ],
        [
         "Georgia",
         79.23,
         69.75,
         9.480000000000004
        ],
        [
         "Ukraine",
         79.39,
         69.79,
         9.599999999999994
        ],
        [
         "Western Sahara",
         73.77,
         69.87,
         3.8999999999999915
        ],
        [
         "Samoa",
         73.82,
         69.96,
         3.8599999999999994
        ],
        [
         "Vietnam",
         79.38,
         70.05,
         9.329999999999998
        ],
        [
         "Seychelles",
         76.66,
         70.08,
         6.579999999999998
        ],
        [
         "Syria",
         74.92,
         70.21,
         4.710000000000008
        ],
        [
         "Kazakhstan",
         78.52,
         70.27,
         8.25
        ],
        [
         "Guatemala",
         75.04,
         70.44,
         4.6000000000000085
        ],
        [
         "Honduras",
         75.67,
         70.49,
         5.180000000000007
        ],
        [
         "Iraq",
         74.18,
         70.5,
         3.680000000000007
        ],
        [
         "Trinidad and Tobago",
         76.83,
         70.51,
         6.319999999999993
        ],
        [
         "Suriname",
         76.98,
         70.6,
         6.38000000000001
        ],
        [
         "Dominican Republic",
         77.11,
         70.66,
         6.450000000000003
        ],
        [
         "India",
         73.86,
         70.73,
         3.1299999999999955
        ],
        [
         "U.S. Virgin Islands",
         81.48,
         70.73,
         10.75
        ],
        [
         "Paraguay",
         77.09,
         71.01,
         6.079999999999998
        ],
        [
         "Bahamas",
         78.33,
         71.06,
         7.269999999999996
        ],
        [
         "Belize",
         76.66,
         71.08,
         5.579999999999998
        ],
        [
         "Lithuania",
         80.8,
         71.42,
         9.379999999999995
        ],
        [
         "North Korea",
         75.88,
         71.55,
         4.329999999999998
        ],
        [
         "Bhutan",
         75.27,
         71.57,
         3.700000000000003
        ],
        [
         "Armenia",
         79.6,
         71.58,
         8.019999999999996
        ],
        [
         "Azerbaijan",
         77.29,
         71.71,
         5.5800000000000125
        ],
        [
         "Latvia",
         80.6,
         71.75,
         8.849999999999994
        ],
        [
         "Mauritius",
         78.34,
         72.11,
         6.230000000000004
        ],
        [
         "Bulgaria",
         79.36,
         72.33,
         7.030000000000001
        ],
        [
         "Thailand",
         80.98,
         72.34,
         8.64
        ],
        [
         "Mexico",
         78.0,
         72.44,
         5.560000000000002
        ],
        [
         "Nicaragua",
         77.58,
         72.46,
         5.1200000000000045
        ],
        [
         "Grenada",
         78.5,
         72.52,
         5.980000000000004
        ],
        [
         "Romania",
         79.68,
         72.56,
         7.1200000000000045
        ],
        [
         "Curaçao",
         80.96,
         72.66,
         8.299999999999997
        ],
        [
         "Brazil",
         79.15,
         72.95,
         6.200000000000003
        ],
        [
         "Cabo Verde",
         79.37,
         73.05,
         6.320000000000007
        ],
        [
         "Bangladesh",
         76.67,
         73.3,
         3.3700000000000045
        ],
        [
         "Morocco",
         77.78,
         73.35,
         4.430000000000007
        ],
        [
         "Brunei",
         77.73,
         73.49,
         4.240000000000009
        ],
        [
         "Guam",
         81.59,
         73.66,
         7.930000000000007
        ],
        [
         "Serbia",
         80.18,
         73.68,
         6.5
        ],
        [
         "Barbados",
         78.76,
         73.75,
         5.010000000000005
        ],
        [
         "Aruba",
         78.92,
         73.85,
         5.070000000000007
        ],
        [
         "Hungary",
         80.33,
         73.89,
         6.439999999999998
        ],
        [
         "Montenegro",
         80.45,
         73.92,
         6.530000000000001
        ],
        [
         "Tunisia",
         79.33,
         74.13,
         5.200000000000003
        ],
        [
         "Mayotte",
         78.51,
         74.27,
         4.240000000000009
        ],
        [
         "French Guiana",
         80.15,
         74.33,
         5.820000000000007
        ],
        [
         "Uruguay",
         82.04,
         74.38,
         7.660000000000011
        ],
        [
         "Malaysia",
         79.52,
         74.45,
         5.069999999999993
        ],
        [
         "Sri Lanka",
         80.75,
         74.45,
         6.299999999999997
        ],
        [
         "Turkey",
         80.34,
         74.62,
         5.719999999999999
        ],
        [
         "Bosnia and Herzegovina",
         81.07,
         74.65,
         6.4199999999999875
        ],
        [
         "Antigua and Barbuda",
         80.45,
         74.74,
         5.710000000000008
        ],
        [
         "Ecuador",
         80.31,
         74.88,
         5.430000000000007
        ],
        [
         "Argentina",
         80.02,
         74.98,
         5.039999999999992
        ],
        [
         "Algeria",
         77.91,
         75.1,
         2.8100000000000023
        ],
        [
         "Poland",
         82.49,
         75.1,
         7.390000000000001
        ],
        [
         "Estonia",
         83.17,
         75.12,
         8.049999999999997
        ],
        [
         "Colombia",
         80.61,
         75.16,
         5.450000000000003
        ],
        [
         "Slovakia",
         81.71,
         75.21,
         6.5
        ],
        [
         "China",
         80.97,
         75.25,
         5.719999999999999
        ],
        [
         "North Macedonia",
         79.71,
         75.26,
         4.449999999999989
        ],
        [
         "Croatia",
         81.82,
         75.6,
         6.219999999999999
        ],
        [
         "Peru",
         80.3,
         75.63,
         4.670000000000002
        ],
        [
         "Cuba",
         80.68,
         75.86,
         4.820000000000007
        ],
        [
         "Lebanon",
         79.86,
         75.88,
         3.980000000000004
        ],
        [
         "Jordan",
         80.34,
         75.89,
         4.450000000000003
        ],
        [
         "Iran",
         79.81,
         76.0,
         3.8100000000000023
        ],
        [
         "New Caledonia",
         81.41,
         76.46,
         4.950000000000003
        ],
        [
         "Panama",
         82.71,
         76.88,
         5.829999999999998
        ],
        [
         "United States",
         81.98,
         77.05,
         4.930000000000007
        ],
        [
         "Czech Republic (Czechia)",
         82.75,
         77.18,
         5.569999999999993
        ],
        [
         "Saudi Arabia",
         81.33,
         77.33,
         4.0
        ],
        [
         "Taiwan",
         83.75,
         77.86,
         5.890000000000001
        ],
        [
         "Albania",
         81.59,
         77.92,
         3.6700000000000017
        ],
        [
         "Puerto Rico",
         85.38,
         78.28,
         7.099999999999994
        ],
        [
         "Guadeloupe",
         85.65,
         78.35,
         7.300000000000011
        ],
        [
         "Costa Rica",
         83.58,
         78.37,
         5.209999999999994
        ],
        [
         "Oman",
         82.05,
         78.72,
         3.3299999999999983
        ],
        [
         "Slovenia",
         84.47,
         79.11,
         5.359999999999999
        ],
        [
         "Germany",
         83.88,
         79.21,
         4.670000000000002
        ],
        [
         "Finland",
         84.79,
         79.38,
         5.410000000000011
        ],
        [
         "Chile",
         83.23,
         79.45,
         3.780000000000001
        ],
        [
         "Kuwait",
         82.0,
         79.45,
         2.549999999999997
        ],
        [
         "Martinique",
         85.73,
         79.45,
         6.280000000000001
        ],
        [
         "Greece",
         84.46,
         79.5,
         4.959999999999994
        ],
        [
         "United Kingdom",
         83.33,
         79.54,
         3.789999999999992
        ],
        [
         "Portugal",
         85.25,
         79.68,
         5.569999999999993
        ],
        [
         "Austria",
         84.45,
         79.75,
         4.700000000000003
        ],
        [
         "Cyprus",
         83.8,
         79.84,
         3.9599999999999937
        ],
        [
         "Maldives",
         83.0,
         79.95,
         3.049999999999997
        ],
        [
         "Belgium",
         84.45,
         80.06,
         4.390000000000001
        ],
        [
         "Denmark",
         83.98,
         80.21,
         3.7700000000000102
        ],
        [
         "Canada",
         84.91,
         80.53,
         4.3799999999999955
        ],
        [
         "Ireland",
         84.61,
         80.58,
         4.030000000000001
        ],
        [
         "France",
         86.2,
         80.59,
         5.609999999999999
        ],
        [
         "New Zealand",
         83.89,
         80.6,
         3.2900000000000063
        ],
        [
         "Israel",
         84.71,
         80.67,
         4.039999999999992
        ],
        [
         "Réunion",
         86.45,
         80.67,
         5.780000000000001
        ],
        [
         "Netherlands",
         83.85,
         80.72,
         3.1299999999999955
        ],
        [
         "Luxembourg",
         83.94,
         80.75,
         3.1899999999999977
        ],
        [
         "Bahrain",
         82.13,
         80.86,
         1.269999999999996
        ],
        [
         "Macao",
         85.35,
         81.05,
         4.299999999999997
        ],
        [
         "Spain",
         86.44,
         81.1,
         5.340000000000003
        ],
        [
         "South Korea",
         87.28,
         81.32,
         5.960000000000008
        ],
        [
         "Singapore",
         86.36,
         81.38,
         4.980000000000004
        ],
        [
         "Malta",
         85.39,
         81.48,
         3.9099999999999966
        ],
        [
         "Iceland",
         84.47,
         81.63,
         2.8400000000000034
        ],
        [
         "Sweden",
         85.22,
         81.65,
         3.569999999999993
        ],
        [
         "Italy",
         85.87,
         81.75,
         4.1200000000000045
        ],
        [
         "Qatar",
         83.48,
         81.78,
         1.7000000000000028
        ],
        [
         "Japan",
         87.88,
         81.83,
         6.049999999999997
        ],
        [
         "French Polynesia",
         86.62,
         81.9,
         4.719999999999999
        ],
        [
         "Norway",
         84.97,
         81.94,
         3.030000000000001
        ],
        [
         "Switzerland",
         85.95,
         82.17,
         3.780000000000001
        ],
        [
         "United Arab Emirates",
         84.32,
         82.17,
         2.1499999999999915
        ],
        [
         "Australia",
         85.85,
         82.28,
         3.569999999999993
        ],
        [
         "Hong Kong",
         88.26,
         82.97,
         5.290000000000006
        ],
        [
         "Micronesia",
         149.22,
         137.64,
         11.580000000000013
        ]
       ],
       "datasetInfos": [],
       "dbfsResultPath": null,
       "isJsonSchema": true,
       "metadata": {},
       "overflow": false,
       "plotOptions": {
        "customPlotOptions": {},
        "displayType": "table",
        "pivotAggregation": null,
        "pivotColumns": null,
        "xColumns": null,
        "yColumns": null
       },
       "removedWidgets": [],
       "schema": [
        {
         "metadata": "{}",
         "name": "Pais",
         "type": "\"string\""
        },
        {
         "metadata": "{}",
         "name": "Expectativa_de_Vida_Mulheres",
         "type": "\"double\""
        },
        {
         "metadata": "{}",
         "name": "Expectativa_de_Vida_Homens",
         "type": "\"double\""
        },
        {
         "metadata": "{}",
         "name": "Diferenca_Expectativa_Vida",
         "type": "\"double\""
        }
       ],
       "type": "table"
      }
     },
     "output_type": "display_data"
    }
   ],
   "source": [
    "# Comparar expectativas de vidas entre homens e mulheres\n",
    "df_comparacao = df.withColumn(\"Diferenca_Expectativa_Vida\", df[\"Expectativa_de_Vida_Mulheres\"] - df[\"Expectativa_de_Vida_Homens\"])\n",
    "df_comparacao_filtrado = df_comparacao.select(\"Pais\", \"Expectativa_de_Vida_Mulheres\", \"Expectativa_de_Vida_Homens\", \"Diferenca_Expectativa_Vida\")\n",
    "display(df_comparacao_filtrado)"
   ]
  },
  {
   "cell_type": "code",
   "execution_count": 0,
   "metadata": {
    "application/vnd.databricks.v1+cell": {
     "cellMetadata": {
      "byteLimit": 2048000,
      "rowLimit": 10000
     },
     "inputWidgets": {},
     "nuid": "bc6fb400-2c63-4253-bd24-f07feb3efdfb",
     "showTitle": false,
     "tableResultSettingsMap": {},
     "title": ""
    }
   },
   "outputs": [
    {
     "output_type": "stream",
     "name": "stdout",
     "output_type": "stream",
     "text": [
      "+-------+----------------------------+--------------------------+-------------------------+\n|summary|Expectativa_de_Vida_Mulheres|Expectativa_de_Vida_Homens|Expectativa_de_Vida_Geral|\n+-------+----------------------------+--------------------------+-------------------------+\n|  count|                         200|                       200|                      200|\n|   mean|           76.77689999999998|         71.51719999999999|        74.13370000000002|\n| stddev|           8.820332232601405|         8.419632546679534|        8.571318206025527|\n|    min|                       54.94|                     53.36|                    54.64|\n|    max|                      149.22|                    137.64|                   143.28|\n+-------+----------------------------+--------------------------+-------------------------+\n\n"
     ]
    }
   ],
   "source": [
    "# Distribuição da expectativa de vida\n",
    "df.describe([\"Expectativa_de_Vida_Mulheres\", \"Expectativa_de_Vida_Homens\", \"Expectativa_de_Vida_Geral\"]).show()"
   ]
  },
  {
   "cell_type": "code",
   "execution_count": 0,
   "metadata": {
    "application/vnd.databricks.v1+cell": {
     "cellMetadata": {
      "byteLimit": 2048000,
      "rowLimit": 10000
     },
     "inputWidgets": {},
     "nuid": "856af67f-57af-4ef6-b898-11c2bbc3ee55",
     "showTitle": false,
     "tableResultSettingsMap": {},
     "title": ""
    }
   },
   "outputs": [
    {
     "output_type": "display_data",
     "data": {
      "text/html": [
       "<style scoped>\n",
       "  .table-result-container {\n",
       "    max-height: 300px;\n",
       "    overflow: auto;\n",
       "  }\n",
       "  table, th, td {\n",
       "    border: 1px solid black;\n",
       "    border-collapse: collapse;\n",
       "  }\n",
       "  th, td {\n",
       "    padding: 5px;\n",
       "  }\n",
       "  th {\n",
       "    text-align: left;\n",
       "  }\n",
       "</style><div class='table-result-container'><table class='table-result'><thead style='background-color: white'><tr><th>Pais</th><th>Diferenca</th></tr></thead><tbody><tr><td>Russia</td><td>11.709999999999994</td></tr><tr><td>Micronesia</td><td>11.580000000000013</td></tr><tr><td>U.S. Virgin Islands</td><td>10.75</td></tr><tr><td>Ukraine</td><td>9.599999999999994</td></tr><tr><td>Belarus</td><td>9.480000000000004</td></tr><tr><td>Georgia</td><td>9.480000000000004</td></tr><tr><td>Lithuania</td><td>9.379999999999995</td></tr><tr><td>Vietnam</td><td>9.329999999999998</td></tr><tr><td>Mongolia</td><td>9.170000000000002</td></tr><tr><td>State of Palestine</td><td>9.030000000000001</td></tr><tr><td>Moldova</td><td>8.969999999999999</td></tr><tr><td>Latvia</td><td>8.849999999999994</td></tr><tr><td>El Salvador</td><td>8.72999999999999</td></tr><tr><td>Thailand</td><td>8.64</td></tr><tr><td>Curaçao</td><td>8.299999999999997</td></tr><tr><td>Kazakhstan</td><td>8.25</td></tr><tr><td>Estonia</td><td>8.049999999999997</td></tr><tr><td>Namibia</td><td>8.030000000000001</td></tr><tr><td>Armenia</td><td>8.019999999999996</td></tr><tr><td>Guam</td><td>7.930000000000007</td></tr><tr><td>Venezuela</td><td>7.769999999999996</td></tr><tr><td>Uruguay</td><td>7.660000000000011</td></tr><tr><td>Sao Tome & Principe</td><td>7.5</td></tr><tr><td>Guyana</td><td>7.469999999999999</td></tr><tr><td>Poland</td><td>7.390000000000001</td></tr><tr><td>Guadeloupe</td><td>7.300000000000011</td></tr><tr><td>Bahamas</td><td>7.269999999999996</td></tr><tr><td>Romania</td><td>7.1200000000000045</td></tr><tr><td>Puerto Rico</td><td>7.099999999999994</td></tr><tr><td>Kyrgyzstan</td><td>7.090000000000003</td></tr><tr><td>Tonga</td><td>7.040000000000006</td></tr><tr><td>Bulgaria</td><td>7.030000000000001</td></tr><tr><td>South Africa</td><td>7.010000000000005</td></tr><tr><td>Saint Lucia</td><td>7.0</td></tr><tr><td>Ethiopia</td><td>6.659999999999997</td></tr><tr><td>Haiti</td><td>6.589999999999996</td></tr><tr><td>Seychelles</td><td>6.579999999999998</td></tr><tr><td>Montenegro</td><td>6.530000000000001</td></tr><tr><td>Malawi</td><td>6.5</td></tr><tr><td>Serbia</td><td>6.5</td></tr><tr><td>Slovakia</td><td>6.5</td></tr><tr><td>Dominican Republic</td><td>6.450000000000003</td></tr><tr><td>Hungary</td><td>6.439999999999998</td></tr><tr><td>Bosnia and Herzegovina</td><td>6.4199999999999875</td></tr><tr><td>Myanmar</td><td>6.3899999999999935</td></tr><tr><td>Suriname</td><td>6.38000000000001</td></tr><tr><td>Sudan</td><td>6.3799999999999955</td></tr><tr><td>Cabo Verde</td><td>6.320000000000007</td></tr><tr><td>Trinidad and Tobago</td><td>6.319999999999993</td></tr><tr><td>Sri Lanka</td><td>6.299999999999997</td></tr><tr><td>Martinique</td><td>6.280000000000001</td></tr><tr><td>Mozambique</td><td>6.249999999999993</td></tr><tr><td>Mauritius</td><td>6.230000000000004</td></tr><tr><td>Croatia</td><td>6.219999999999999</td></tr><tr><td>Brazil</td><td>6.200000000000003</td></tr><tr><td>Paraguay</td><td>6.079999999999998</td></tr><tr><td>Japan</td><td>6.049999999999997</td></tr><tr><td>Turkmenistan</td><td>6.010000000000005</td></tr><tr><td>South Sudan</td><td>5.990000000000002</td></tr><tr><td>Uzbekistan</td><td>5.989999999999995</td></tr><tr><td>Grenada</td><td>5.980000000000004</td></tr><tr><td>Philippines</td><td>5.969999999999999</td></tr><tr><td>South Korea</td><td>5.960000000000008</td></tr><tr><td>Taiwan</td><td>5.890000000000001</td></tr><tr><td>Uganda</td><td>5.88000000000001</td></tr><tr><td>Panama</td><td>5.829999999999998</td></tr><tr><td>French Guiana</td><td>5.820000000000007</td></tr><tr><td>Eswatini</td><td>5.789999999999999</td></tr><tr><td>Réunion</td><td>5.780000000000001</td></tr><tr><td>Turkey</td><td>5.719999999999999</td></tr><tr><td>China</td><td>5.719999999999999</td></tr><tr><td>Antigua and Barbuda</td><td>5.710000000000008</td></tr><tr><td>St. Vincent & Grenadines</td><td>5.700000000000003</td></tr><tr><td>France</td><td>5.609999999999999</td></tr><tr><td>Tanzania</td><td>5.599999999999994</td></tr><tr><td>Azerbaijan</td><td>5.5800000000000125</td></tr><tr><td>Belize</td><td>5.579999999999998</td></tr><tr><td>Czech Republic (Czechia)</td><td>5.569999999999993</td></tr><tr><td>Portugal</td><td>5.569999999999993</td></tr><tr><td>Mexico</td><td>5.560000000000002</td></tr><tr><td>Colombia</td><td>5.450000000000003</td></tr><tr><td>Ecuador</td><td>5.430000000000007</td></tr><tr><td>Finland</td><td>5.410000000000011</td></tr><tr><td>Lesotho</td><td>5.409999999999997</td></tr><tr><td>Papua New Guinea</td><td>5.36999999999999</td></tr><tr><td>Slovenia</td><td>5.359999999999999</td></tr><tr><td>Spain</td><td>5.340000000000003</td></tr><tr><td>Hong Kong</td><td>5.290000000000006</td></tr><tr><td>Cambodia</td><td>5.209999999999994</td></tr><tr><td>Costa Rica</td><td>5.209999999999994</td></tr><tr><td>Tunisia</td><td>5.200000000000003</td></tr><tr><td>Honduras</td><td>5.180000000000007</td></tr><tr><td>Gabon</td><td>5.179999999999993</td></tr><tr><td>Nicaragua</td><td>5.1200000000000045</td></tr><tr><td>Jamaica</td><td>5.070000000000007</td></tr><tr><td>Aruba</td><td>5.070000000000007</td></tr><tr><td>Botswana</td><td>5.069999999999993</td></tr><tr><td>Malaysia</td><td>5.069999999999993</td></tr><tr><td>Angola</td><td>5.060000000000002</td></tr><tr><td>Somalia</td><td>5.059999999999995</td></tr><tr><td>Bolivia</td><td>5.049999999999997</td></tr><tr><td>Argentina</td><td>5.039999999999992</td></tr><tr><td>Barbados</td><td>5.010000000000005</td></tr><tr><td>Djibouti</td><td>5.009999999999998</td></tr><tr><td>Singapore</td><td>4.980000000000004</td></tr><tr><td>Greece</td><td>4.959999999999994</td></tr><tr><td>New Caledonia</td><td>4.950000000000003</td></tr><tr><td>United States</td><td>4.930000000000007</td></tr><tr><td>Pakistan</td><td>4.859999999999999</td></tr><tr><td>Ghana</td><td>4.849999999999994</td></tr><tr><td>Cuba</td><td>4.820000000000007</td></tr><tr><td>Zimbabwe</td><td>4.82</td></tr><tr><td>Zambia</td><td>4.77000000000001</td></tr><tr><td>Guinea-Bissau</td><td>4.729999999999997</td></tr><tr><td>French Polynesia</td><td>4.719999999999999</td></tr><tr><td>Syria</td><td>4.710000000000008</td></tr><tr><td>Austria</td><td>4.700000000000003</td></tr><tr><td>Peru</td><td>4.670000000000002</td></tr><tr><td>Germany</td><td>4.670000000000002</td></tr><tr><td>Guatemala</td><td>4.6000000000000085</td></tr><tr><td>Vanuatu</td><td>4.519999999999996</td></tr><tr><td>Laos</td><td>4.510000000000005</td></tr><tr><td>Kenya</td><td>4.480000000000004</td></tr><tr><td>Tajikistan</td><td>4.459999999999994</td></tr><tr><td>Cameroon</td><td>4.450000000000003</td></tr><tr><td>Jordan</td><td>4.450000000000003</td></tr><tr><td>North Macedonia</td><td>4.449999999999989</td></tr><tr><td>Rwanda</td><td>4.430000000000007</td></tr><tr><td>Morocco</td><td>4.430000000000007</td></tr><tr><td>Belgium</td><td>4.390000000000001</td></tr><tr><td>Canada</td><td>4.3799999999999955</td></tr><tr><td>Egypt</td><td>4.359999999999999</td></tr><tr><td>North Korea</td><td>4.329999999999998</td></tr><tr><td>Burkina Faso</td><td>4.32</td></tr><tr><td>Macao</td><td>4.299999999999997</td></tr><tr><td>Indonesia</td><td>4.27000000000001</td></tr><tr><td>DR Congo</td><td>4.270000000000003</td></tr><tr><td>Brunei</td><td>4.240000000000009</td></tr><tr><td>Mayotte</td><td>4.240000000000009</td></tr><tr><td>Comoros</td><td>4.180000000000007</td></tr><tr><td>Eritrea</td><td>4.179999999999993</td></tr><tr><td>Yemen</td><td>4.179999999999993</td></tr><tr><td>Côte d'Ivoire</td><td>4.140000000000001</td></tr><tr><td>Burundi</td><td>4.1299999999999955</td></tr><tr><td>Italy</td><td>4.1200000000000045</td></tr><tr><td>Fiji</td><td>4.070000000000007</td></tr><tr><td>Central African Republic</td><td>4.050000000000004</td></tr><tr><td>Israel</td><td>4.039999999999992</td></tr><tr><td>Mauritania</td><td>4.030000000000001</td></tr><tr><td>Ireland</td><td>4.030000000000001</td></tr><tr><td>Senegal</td><td>4.0</td></tr><tr><td>Saudi Arabia</td><td>4.0</td></tr><tr><td>Lebanon</td><td>3.980000000000004</td></tr><tr><td>Cyprus</td><td>3.9599999999999937</td></tr><tr><td>Malta</td><td>3.9099999999999966</td></tr><tr><td>Western Sahara</td><td>3.8999999999999915</td></tr><tr><td>Samoa</td><td>3.8599999999999994</td></tr><tr><td>Chad</td><td>3.8299999999999983</td></tr><tr><td>Iran</td><td>3.8100000000000023</td></tr><tr><td>United Kingdom</td><td>3.789999999999992</td></tr><tr><td>Chile</td><td>3.780000000000001</td></tr><tr><td>Switzerland</td><td>3.780000000000001</td></tr><tr><td>Denmark</td><td>3.7700000000000102</td></tr><tr><td>Bhutan</td><td>3.700000000000003</td></tr><tr><td>Iraq</td><td>3.680000000000007</td></tr><tr><td>Equatorial Guinea</td><td>3.6700000000000017</td></tr><tr><td>Albania</td><td>3.6700000000000017</td></tr><tr><td>Kiribati</td><td>3.6299999999999955</td></tr><tr><td>Sweden</td><td>3.569999999999993</td></tr><tr><td>Australia</td><td>3.569999999999993</td></tr><tr><td>Madagascar</td><td>3.479999999999997</td></tr><tr><td>Sierra Leone</td><td>3.470000000000006</td></tr><tr><td>Gambia</td><td>3.4000000000000057</td></tr><tr><td>Timor-Leste</td><td>3.4000000000000057</td></tr><tr><td>Congo</td><td>3.3900000000000006</td></tr><tr><td>Bangladesh</td><td>3.3700000000000045</td></tr><tr><td>Oman</td><td>3.3299999999999983</td></tr><tr><td>New Zealand</td><td>3.2900000000000063</td></tr><tr><td>Luxembourg</td><td>3.1899999999999977</td></tr><tr><td>India</td><td>3.1299999999999955</td></tr><tr><td>Netherlands</td><td>3.1299999999999955</td></tr><tr><td>Afghanistan</td><td>3.1099999999999994</td></tr><tr><td>Libya</td><td>3.0500000000000114</td></tr><tr><td>Nepal</td><td>3.049999999999997</td></tr><tr><td>Maldives</td><td>3.049999999999997</td></tr><tr><td>Norway</td><td>3.030000000000001</td></tr><tr><td>Mali</td><td>2.8999999999999986</td></tr><tr><td>Benin</td><td>2.8999999999999986</td></tr><tr><td>Iceland</td><td>2.8400000000000034</td></tr><tr><td>Solomon Islands</td><td>2.8200000000000074</td></tr><tr><td>Algeria</td><td>2.8100000000000023</td></tr><tr><td>Liberia</td><td>2.6099999999999994</td></tr><tr><td>Kuwait</td><td>2.549999999999997</td></tr><tr><td>Guinea</td><td>2.430000000000007</td></tr><tr><td>United Arab Emirates</td><td>2.1499999999999915</td></tr><tr><td>Niger</td><td>1.9199999999999946</td></tr><tr><td>Qatar</td><td>1.7000000000000028</td></tr><tr><td>Bahrain</td><td>1.269999999999996</td></tr><tr><td>Nigeria</td><td>0.6099999999999994</td></tr><tr><td>Togo</td><td>0.44999999999999574</td></tr></tbody></table></div>"
      ]
     },
     "metadata": {
      "application/vnd.databricks.v1+output": {
       "addedWidgets": {},
       "aggData": [],
       "aggError": "",
       "aggOverflow": false,
       "aggSchema": [],
       "aggSeriesLimitReached": false,
       "aggType": "",
       "arguments": {},
       "columnCustomDisplayInfos": {},
       "data": [
        [
         "Russia",
         11.709999999999994
        ],
        [
         "Micronesia",
         11.580000000000013
        ],
        [
         "U.S. Virgin Islands",
         10.75
        ],
        [
         "Ukraine",
         9.599999999999994
        ],
        [
         "Belarus",
         9.480000000000004
        ],
        [
         "Georgia",
         9.480000000000004
        ],
        [
         "Lithuania",
         9.379999999999995
        ],
        [
         "Vietnam",
         9.329999999999998
        ],
        [
         "Mongolia",
         9.170000000000002
        ],
        [
         "State of Palestine",
         9.030000000000001
        ],
        [
         "Moldova",
         8.969999999999999
        ],
        [
         "Latvia",
         8.849999999999994
        ],
        [
         "El Salvador",
         8.72999999999999
        ],
        [
         "Thailand",
         8.64
        ],
        [
         "Curaçao",
         8.299999999999997
        ],
        [
         "Kazakhstan",
         8.25
        ],
        [
         "Estonia",
         8.049999999999997
        ],
        [
         "Namibia",
         8.030000000000001
        ],
        [
         "Armenia",
         8.019999999999996
        ],
        [
         "Guam",
         7.930000000000007
        ],
        [
         "Venezuela",
         7.769999999999996
        ],
        [
         "Uruguay",
         7.660000000000011
        ],
        [
         "Sao Tome & Principe",
         7.5
        ],
        [
         "Guyana",
         7.469999999999999
        ],
        [
         "Poland",
         7.390000000000001
        ],
        [
         "Guadeloupe",
         7.300000000000011
        ],
        [
         "Bahamas",
         7.269999999999996
        ],
        [
         "Romania",
         7.1200000000000045
        ],
        [
         "Puerto Rico",
         7.099999999999994
        ],
        [
         "Kyrgyzstan",
         7.090000000000003
        ],
        [
         "Tonga",
         7.040000000000006
        ],
        [
         "Bulgaria",
         7.030000000000001
        ],
        [
         "South Africa",
         7.010000000000005
        ],
        [
         "Saint Lucia",
         7.0
        ],
        [
         "Ethiopia",
         6.659999999999997
        ],
        [
         "Haiti",
         6.589999999999996
        ],
        [
         "Seychelles",
         6.579999999999998
        ],
        [
         "Montenegro",
         6.530000000000001
        ],
        [
         "Malawi",
         6.5
        ],
        [
         "Serbia",
         6.5
        ],
        [
         "Slovakia",
         6.5
        ],
        [
         "Dominican Republic",
         6.450000000000003
        ],
        [
         "Hungary",
         6.439999999999998
        ],
        [
         "Bosnia and Herzegovina",
         6.4199999999999875
        ],
        [
         "Myanmar",
         6.3899999999999935
        ],
        [
         "Suriname",
         6.38000000000001
        ],
        [
         "Sudan",
         6.3799999999999955
        ],
        [
         "Cabo Verde",
         6.320000000000007
        ],
        [
         "Trinidad and Tobago",
         6.319999999999993
        ],
        [
         "Sri Lanka",
         6.299999999999997
        ],
        [
         "Martinique",
         6.280000000000001
        ],
        [
         "Mozambique",
         6.249999999999993
        ],
        [
         "Mauritius",
         6.230000000000004
        ],
        [
         "Croatia",
         6.219999999999999
        ],
        [
         "Brazil",
         6.200000000000003
        ],
        [
         "Paraguay",
         6.079999999999998
        ],
        [
         "Japan",
         6.049999999999997
        ],
        [
         "Turkmenistan",
         6.010000000000005
        ],
        [
         "South Sudan",
         5.990000000000002
        ],
        [
         "Uzbekistan",
         5.989999999999995
        ],
        [
         "Grenada",
         5.980000000000004
        ],
        [
         "Philippines",
         5.969999999999999
        ],
        [
         "South Korea",
         5.960000000000008
        ],
        [
         "Taiwan",
         5.890000000000001
        ],
        [
         "Uganda",
         5.88000000000001
        ],
        [
         "Panama",
         5.829999999999998
        ],
        [
         "French Guiana",
         5.820000000000007
        ],
        [
         "Eswatini",
         5.789999999999999
        ],
        [
         "Réunion",
         5.780000000000001
        ],
        [
         "Turkey",
         5.719999999999999
        ],
        [
         "China",
         5.719999999999999
        ],
        [
         "Antigua and Barbuda",
         5.710000000000008
        ],
        [
         "St. Vincent & Grenadines",
         5.700000000000003
        ],
        [
         "France",
         5.609999999999999
        ],
        [
         "Tanzania",
         5.599999999999994
        ],
        [
         "Azerbaijan",
         5.5800000000000125
        ],
        [
         "Belize",
         5.579999999999998
        ],
        [
         "Czech Republic (Czechia)",
         5.569999999999993
        ],
        [
         "Portugal",
         5.569999999999993
        ],
        [
         "Mexico",
         5.560000000000002
        ],
        [
         "Colombia",
         5.450000000000003
        ],
        [
         "Ecuador",
         5.430000000000007
        ],
        [
         "Finland",
         5.410000000000011
        ],
        [
         "Lesotho",
         5.409999999999997
        ],
        [
         "Papua New Guinea",
         5.36999999999999
        ],
        [
         "Slovenia",
         5.359999999999999
        ],
        [
         "Spain",
         5.340000000000003
        ],
        [
         "Hong Kong",
         5.290000000000006
        ],
        [
         "Cambodia",
         5.209999999999994
        ],
        [
         "Costa Rica",
         5.209999999999994
        ],
        [
         "Tunisia",
         5.200000000000003
        ],
        [
         "Honduras",
         5.180000000000007
        ],
        [
         "Gabon",
         5.179999999999993
        ],
        [
         "Nicaragua",
         5.1200000000000045
        ],
        [
         "Jamaica",
         5.070000000000007
        ],
        [
         "Aruba",
         5.070000000000007
        ],
        [
         "Botswana",
         5.069999999999993
        ],
        [
         "Malaysia",
         5.069999999999993
        ],
        [
         "Angola",
         5.060000000000002
        ],
        [
         "Somalia",
         5.059999999999995
        ],
        [
         "Bolivia",
         5.049999999999997
        ],
        [
         "Argentina",
         5.039999999999992
        ],
        [
         "Barbados",
         5.010000000000005
        ],
        [
         "Djibouti",
         5.009999999999998
        ],
        [
         "Singapore",
         4.980000000000004
        ],
        [
         "Greece",
         4.959999999999994
        ],
        [
         "New Caledonia",
         4.950000000000003
        ],
        [
         "United States",
         4.930000000000007
        ],
        [
         "Pakistan",
         4.859999999999999
        ],
        [
         "Ghana",
         4.849999999999994
        ],
        [
         "Cuba",
         4.820000000000007
        ],
        [
         "Zimbabwe",
         4.82
        ],
        [
         "Zambia",
         4.77000000000001
        ],
        [
         "Guinea-Bissau",
         4.729999999999997
        ],
        [
         "French Polynesia",
         4.719999999999999
        ],
        [
         "Syria",
         4.710000000000008
        ],
        [
         "Austria",
         4.700000000000003
        ],
        [
         "Peru",
         4.670000000000002
        ],
        [
         "Germany",
         4.670000000000002
        ],
        [
         "Guatemala",
         4.6000000000000085
        ],
        [
         "Vanuatu",
         4.519999999999996
        ],
        [
         "Laos",
         4.510000000000005
        ],
        [
         "Kenya",
         4.480000000000004
        ],
        [
         "Tajikistan",
         4.459999999999994
        ],
        [
         "Cameroon",
         4.450000000000003
        ],
        [
         "Jordan",
         4.450000000000003
        ],
        [
         "North Macedonia",
         4.449999999999989
        ],
        [
         "Rwanda",
         4.430000000000007
        ],
        [
         "Morocco",
         4.430000000000007
        ],
        [
         "Belgium",
         4.390000000000001
        ],
        [
         "Canada",
         4.3799999999999955
        ],
        [
         "Egypt",
         4.359999999999999
        ],
        [
         "North Korea",
         4.329999999999998
        ],
        [
         "Burkina Faso",
         4.32
        ],
        [
         "Macao",
         4.299999999999997
        ],
        [
         "Indonesia",
         4.27000000000001
        ],
        [
         "DR Congo",
         4.270000000000003
        ],
        [
         "Brunei",
         4.240000000000009
        ],
        [
         "Mayotte",
         4.240000000000009
        ],
        [
         "Comoros",
         4.180000000000007
        ],
        [
         "Eritrea",
         4.179999999999993
        ],
        [
         "Yemen",
         4.179999999999993
        ],
        [
         "Côte d'Ivoire",
         4.140000000000001
        ],
        [
         "Burundi",
         4.1299999999999955
        ],
        [
         "Italy",
         4.1200000000000045
        ],
        [
         "Fiji",
         4.070000000000007
        ],
        [
         "Central African Republic",
         4.050000000000004
        ],
        [
         "Israel",
         4.039999999999992
        ],
        [
         "Mauritania",
         4.030000000000001
        ],
        [
         "Ireland",
         4.030000000000001
        ],
        [
         "Senegal",
         4.0
        ],
        [
         "Saudi Arabia",
         4.0
        ],
        [
         "Lebanon",
         3.980000000000004
        ],
        [
         "Cyprus",
         3.9599999999999937
        ],
        [
         "Malta",
         3.9099999999999966
        ],
        [
         "Western Sahara",
         3.8999999999999915
        ],
        [
         "Samoa",
         3.8599999999999994
        ],
        [
         "Chad",
         3.8299999999999983
        ],
        [
         "Iran",
         3.8100000000000023
        ],
        [
         "United Kingdom",
         3.789999999999992
        ],
        [
         "Chile",
         3.780000000000001
        ],
        [
         "Switzerland",
         3.780000000000001
        ],
        [
         "Denmark",
         3.7700000000000102
        ],
        [
         "Bhutan",
         3.700000000000003
        ],
        [
         "Iraq",
         3.680000000000007
        ],
        [
         "Equatorial Guinea",
         3.6700000000000017
        ],
        [
         "Albania",
         3.6700000000000017
        ],
        [
         "Kiribati",
         3.6299999999999955
        ],
        [
         "Sweden",
         3.569999999999993
        ],
        [
         "Australia",
         3.569999999999993
        ],
        [
         "Madagascar",
         3.479999999999997
        ],
        [
         "Sierra Leone",
         3.470000000000006
        ],
        [
         "Gambia",
         3.4000000000000057
        ],
        [
         "Timor-Leste",
         3.4000000000000057
        ],
        [
         "Congo",
         3.3900000000000006
        ],
        [
         "Bangladesh",
         3.3700000000000045
        ],
        [
         "Oman",
         3.3299999999999983
        ],
        [
         "New Zealand",
         3.2900000000000063
        ],
        [
         "Luxembourg",
         3.1899999999999977
        ],
        [
         "India",
         3.1299999999999955
        ],
        [
         "Netherlands",
         3.1299999999999955
        ],
        [
         "Afghanistan",
         3.1099999999999994
        ],
        [
         "Libya",
         3.0500000000000114
        ],
        [
         "Nepal",
         3.049999999999997
        ],
        [
         "Maldives",
         3.049999999999997
        ],
        [
         "Norway",
         3.030000000000001
        ],
        [
         "Mali",
         2.8999999999999986
        ],
        [
         "Benin",
         2.8999999999999986
        ],
        [
         "Iceland",
         2.8400000000000034
        ],
        [
         "Solomon Islands",
         2.8200000000000074
        ],
        [
         "Algeria",
         2.8100000000000023
        ],
        [
         "Liberia",
         2.6099999999999994
        ],
        [
         "Kuwait",
         2.549999999999997
        ],
        [
         "Guinea",
         2.430000000000007
        ],
        [
         "United Arab Emirates",
         2.1499999999999915
        ],
        [
         "Niger",
         1.9199999999999946
        ],
        [
         "Qatar",
         1.7000000000000028
        ],
        [
         "Bahrain",
         1.269999999999996
        ],
        [
         "Nigeria",
         0.6099999999999994
        ],
        [
         "Togo",
         0.44999999999999574
        ]
       ],
       "datasetInfos": [],
       "dbfsResultPath": null,
       "isJsonSchema": true,
       "metadata": {},
       "overflow": false,
       "plotOptions": {
        "customPlotOptions": {},
        "displayType": "table",
        "pivotAggregation": null,
        "pivotColumns": null,
        "xColumns": null,
        "yColumns": null
       },
       "removedWidgets": [],
       "schema": [
        {
         "metadata": "{}",
         "name": "Pais",
         "type": "\"string\""
        },
        {
         "metadata": "{}",
         "name": "Diferenca",
         "type": "\"double\""
        }
       ],
       "type": "table"
      }
     },
     "output_type": "display_data"
    }
   ],
   "source": [
    "# Paises com maiores diferenças entre homens e mulheres\n",
    "df_diferenca = df.withColumn(\"Diferenca\", df[\"Expectativa_de_Vida_Mulheres\"] - df[\"Expectativa_de_Vida_Homens\"])\n",
    "df_maior_diferenca = df_diferenca.orderBy(df_diferenca[\"Diferenca\"], ascending=False).select(\"Pais\", \"Diferenca\")\n",
    "display(df_maior_diferenca)"
   ]
  },
  {
   "cell_type": "code",
   "execution_count": 0,
   "metadata": {
    "application/vnd.databricks.v1+cell": {
     "cellMetadata": {
      "byteLimit": 2048000,
      "rowLimit": 10000
     },
     "inputWidgets": {},
     "nuid": "2c5d3832-7f79-4f1e-ab30-f948afe6553d",
     "showTitle": false,
     "tableResultSettingsMap": {},
     "title": ""
    }
   },
   "outputs": [
    {
     "output_type": "stream",
     "name": "stdout",
     "output_type": "stream",
     "text": [
      "+--------------------------+------------------------+-----------------------+\n|Media_Expectativa_Mulheres|Media_Expectativa_Homens|Media_Expectativa_Geral|\n+--------------------------+------------------------+-----------------------+\n|         76.77689999999998|       71.51719999999999|      74.13370000000002|\n+--------------------------+------------------------+-----------------------+\n\n"
     ]
    }
   ],
   "source": [
    "from pyspark.sql.functions import avg\n",
    "\n",
    "df_media = df.select(\n",
    "    avg(\"Expectativa_de_Vida_Mulheres\").alias(\"Media_Expectativa_Mulheres\"),\n",
    "    avg(\"Expectativa_de_Vida_Homens\").alias(\"Media_Expectativa_Homens\"),\n",
    "    avg(\"Expectativa_de_Vida_Geral\").alias(\"Media_Expectativa_Geral\")\n",
    ")\n",
    "df_media.show()"
   ]
  },
  {
   "cell_type": "code",
   "execution_count": 0,
   "metadata": {
    "application/vnd.databricks.v1+cell": {
     "cellMetadata": {
      "byteLimit": 2048000,
      "rowLimit": 10000
     },
     "inputWidgets": {},
     "nuid": "a7bb75d1-6678-4f81-8835-6dc3bea9d0f0",
     "showTitle": false,
     "tableResultSettingsMap": {},
     "title": ""
    }
   },
   "outputs": [],
   "source": [
    "# Criando coluna da diferença de expectativa de vidas\n",
    "df = df.withColumn(\"Diferenca_Expectativa_Vida\", \n",
    "                   df[\"Expectativa_de_Vida_Mulheres\"] - df[\"Expectativa_de_Vida_Homens\"])"
   ]
  },
  {
   "cell_type": "code",
   "execution_count": 0,
   "metadata": {
    "application/vnd.databricks.v1+cell": {
     "cellMetadata": {
      "byteLimit": 2048000,
      "rowLimit": 10000
     },
     "inputWidgets": {},
     "nuid": "c6be41b3-453c-4857-974c-1215ac322951",
     "showTitle": false,
     "tableResultSettingsMap": {},
     "title": ""
    }
   },
   "outputs": [],
   "source": [
    "# Criando coluna com a proporção da expectativa de vida geral para mulheres\n",
    "df = df.withColumn(\"Proporcao_Mulheres_para_Geral\", \n",
    "                   df[\"Expectativa_de_Vida_Mulheres\"] / df[\"Expectativa_de_Vida_Geral\"])"
   ]
  },
  {
   "cell_type": "code",
   "execution_count": 0,
   "metadata": {
    "application/vnd.databricks.v1+cell": {
     "cellMetadata": {
      "byteLimit": 2048000,
      "rowLimit": 10000
     },
     "inputWidgets": {},
     "nuid": "867b052c-ce37-4991-809b-c35417a34e6b",
     "showTitle": false,
     "tableResultSettingsMap": {},
     "title": ""
    }
   },
   "outputs": [],
   "source": [
    "# Criando coluna com a proporção da expectativa de vida geral para homens\n",
    "df = df.withColumn(\"Proporcao_Homens_para_Geral\", \n",
    "                   df[\"Expectativa_de_Vida_Homens\"] / df[\"Expectativa_de_Vida_Geral\"])"
   ]
  },
  {
   "cell_type": "code",
   "execution_count": 0,
   "metadata": {
    "application/vnd.databricks.v1+cell": {
     "cellMetadata": {
      "byteLimit": 2048000,
      "rowLimit": 10000
     },
     "inputWidgets": {},
     "nuid": "970b66a4-98a2-4dfb-806b-d2b5ebd93ef6",
     "showTitle": false,
     "tableResultSettingsMap": {},
     "title": ""
    }
   },
   "outputs": [],
   "source": [
    "# Classificação das diferenças de idade\n",
    "from pyspark.sql.functions import when\n",
    "\n",
    "df = df.withColumn(\"Classificacao_Expectativa_Geral\", \n",
    "                   when(df[\"Expectativa_de_Vida_Geral\"] < 60, \"Baixa\")\n",
    "                   .when(df[\"Expectativa_de_Vida_Geral\"] <= 80, \"Média\")\n",
    "                   .otherwise(\"Alta\"))"
   ]
  },
  {
   "cell_type": "code",
   "execution_count": 0,
   "metadata": {
    "application/vnd.databricks.v1+cell": {
     "cellMetadata": {
      "byteLimit": 2048000,
      "rowLimit": 10000
     },
     "inputWidgets": {},
     "nuid": "2597e679-ee3f-4bfc-9abc-2a09e8fa81bc",
     "showTitle": false,
     "tableResultSettingsMap": {},
     "title": ""
    }
   },
   "outputs": [],
   "source": [
    "# Criando um índice da diferença de idades\n",
    "df = df.withColumn(\"Indice_Diferenca\", \n",
    "                   (df[\"Expectativa_de_Vida_Mulheres\"] - df[\"Expectativa_de_Vida_Homens\"]) /\n",
    "                   df[\"Expectativa_de_Vida_Geral\"])"
   ]
  },
  {
   "cell_type": "code",
   "execution_count": 0,
   "metadata": {
    "application/vnd.databricks.v1+cell": {
     "cellMetadata": {
      "byteLimit": 2048000,
      "rowLimit": 10000
     },
     "inputWidgets": {},
     "nuid": "01e6e18f-38df-4c4f-8fd2-e8f89dcfdaf2",
     "showTitle": false,
     "tableResultSettingsMap": {},
     "title": ""
    }
   },
   "outputs": [],
   "source": [
    "# Expectativa acima da média\n",
    "media_global = 75\n",
    "df = df.withColumn(\"Acima_da_Media\", df[\"Expectativa_de_Vida_Geral\"] > media_global)"
   ]
  }
 ],
 "metadata": {
  "application/vnd.databricks.v1+notebook": {
   "computePreferences": null,
   "dashboards": [],
   "environmentMetadata": {
    "base_environment": "",
    "environment_version": "1"
   },
   "inputWidgetPreferences": null,
   "language": "python",
   "notebookMetadata": {
    "mostRecentlyExecutedCommandWithImplicitDF": {
     "commandId": 3509913413148922,
     "dataframes": [
      "_sqldf"
     ]
    },
    "pythonIndentUnit": 4
   },
   "notebookName": "Expectativa de Vida",
   "widgets": {}
  }
 },
 "nbformat": 4,
 "nbformat_minor": 0
}
